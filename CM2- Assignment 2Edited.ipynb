{
 "cells": [
  {
   "cell_type": "code",
   "execution_count": 1,
   "id": "2a678df5",
   "metadata": {},
   "outputs": [],
   "source": [
    "import numpy as np\n",
    "import pandas as pd "
   ]
  },
  {
   "cell_type": "code",
   "execution_count": 2,
   "id": "804f9869",
   "metadata": {},
   "outputs": [],
   "source": [
    "df= pd.read_csv('df-filteredfinalN.csv')\n",
    "\n",
    "\n",
    "dfM= df[['Day','State ID','Lat','Long_','Active','Incident_Rate','Total_Test_Results','Case_Fatality_Ratio','Testing_Rate','Density Rank 2020 Census','SexRatio']]\n",
    "\n",
    "X= dfM.values\n",
    "\n",
    "Y= df['Confirmed'].values\n",
    "\n",
    "Y1=df['Deaths'].values\n",
    "\n",
    "Y2=df['Recovered'].values\n",
    "\n"
   ]
  },
  {
   "cell_type": "code",
   "execution_count": 3,
   "id": "d89fec6b",
   "metadata": {},
   "outputs": [
    {
     "data": {
      "text/html": [
       "<div>\n",
       "<style scoped>\n",
       "    .dataframe tbody tr th:only-of-type {\n",
       "        vertical-align: middle;\n",
       "    }\n",
       "\n",
       "    .dataframe tbody tr th {\n",
       "        vertical-align: top;\n",
       "    }\n",
       "\n",
       "    .dataframe thead th {\n",
       "        text-align: right;\n",
       "    }\n",
       "</style>\n",
       "<table border=\"1\" class=\"dataframe\">\n",
       "  <thead>\n",
       "    <tr style=\"text-align: right;\">\n",
       "      <th></th>\n",
       "      <th>Day</th>\n",
       "      <th>State ID</th>\n",
       "      <th>Lat</th>\n",
       "      <th>Long_</th>\n",
       "      <th>Active</th>\n",
       "      <th>Incident_Rate</th>\n",
       "      <th>Total_Test_Results</th>\n",
       "      <th>Case_Fatality_Ratio</th>\n",
       "      <th>Testing_Rate</th>\n",
       "      <th>Density Rank 2020 Census</th>\n",
       "      <th>SexRatio</th>\n",
       "    </tr>\n",
       "  </thead>\n",
       "  <tbody>\n",
       "    <tr>\n",
       "      <th>count</th>\n",
       "      <td>1003.000000</td>\n",
       "      <td>1.003000e+03</td>\n",
       "      <td>1.003000e+03</td>\n",
       "      <td>1.003000e+03</td>\n",
       "      <td>1.003000e+03</td>\n",
       "      <td>1003.000000</td>\n",
       "      <td>1.003000e+03</td>\n",
       "      <td>1.003000e+03</td>\n",
       "      <td>1.003000e+03</td>\n",
       "      <td>1.003000e+03</td>\n",
       "      <td>1.003000e+03</td>\n",
       "    </tr>\n",
       "    <tr>\n",
       "      <th>mean</th>\n",
       "      <td>0.000000</td>\n",
       "      <td>-3.896296e-17</td>\n",
       "      <td>7.084175e-18</td>\n",
       "      <td>1.948148e-17</td>\n",
       "      <td>6.198653e-18</td>\n",
       "      <td>0.000000</td>\n",
       "      <td>1.416835e-17</td>\n",
       "      <td>1.593939e-17</td>\n",
       "      <td>-2.833670e-17</td>\n",
       "      <td>-2.944360e-17</td>\n",
       "      <td>-6.840656e-17</td>\n",
       "    </tr>\n",
       "    <tr>\n",
       "      <th>std</th>\n",
       "      <td>1.000499</td>\n",
       "      <td>1.000499e+00</td>\n",
       "      <td>1.000499e+00</td>\n",
       "      <td>1.000499e+00</td>\n",
       "      <td>1.000499e+00</td>\n",
       "      <td>1.000499</td>\n",
       "      <td>1.000499e+00</td>\n",
       "      <td>1.000499e+00</td>\n",
       "      <td>1.000499e+00</td>\n",
       "      <td>1.000499e+00</td>\n",
       "      <td>1.000499e+00</td>\n",
       "    </tr>\n",
       "    <tr>\n",
       "      <th>min</th>\n",
       "      <td>-1.687697</td>\n",
       "      <td>-1.832496e+00</td>\n",
       "      <td>-1.992045e+00</td>\n",
       "      <td>-2.147728e+00</td>\n",
       "      <td>-9.992958e-01</td>\n",
       "      <td>-2.637932</td>\n",
       "      <td>-1.241691e+00</td>\n",
       "      <td>-2.209422e+00</td>\n",
       "      <td>-1.874305e+00</td>\n",
       "      <td>-2.166090e+00</td>\n",
       "      <td>-1.440936e+00</td>\n",
       "    </tr>\n",
       "    <tr>\n",
       "      <th>25%</th>\n",
       "      <td>-0.873758</td>\n",
       "      <td>-7.020318e-01</td>\n",
       "      <td>-9.014731e-01</td>\n",
       "      <td>-9.348427e-01</td>\n",
       "      <td>-8.015706e-01</td>\n",
       "      <td>-0.647754</td>\n",
       "      <td>-8.743223e-01</td>\n",
       "      <td>-5.947375e-01</td>\n",
       "      <td>-5.669503e-01</td>\n",
       "      <td>-7.627999e-01</td>\n",
       "      <td>-6.643329e-01</td>\n",
       "    </tr>\n",
       "    <tr>\n",
       "      <th>50%</th>\n",
       "      <td>0.056458</td>\n",
       "      <td>4.508332e-03</td>\n",
       "      <td>-6.194377e-02</td>\n",
       "      <td>3.803197e-02</td>\n",
       "      <td>-4.360727e-01</td>\n",
       "      <td>0.170040</td>\n",
       "      <td>-3.411554e-01</td>\n",
       "      <td>-1.347131e-01</td>\n",
       "      <td>2.167905e-02</td>\n",
       "      <td>4.963096e-02</td>\n",
       "      <td>1.122707e-01</td>\n",
       "    </tr>\n",
       "    <tr>\n",
       "      <th>75%</th>\n",
       "      <td>0.870396</td>\n",
       "      <td>7.817024e-01</td>\n",
       "      <td>9.802433e-01</td>\n",
       "      <td>8.285013e-01</td>\n",
       "      <td>5.443740e-01</td>\n",
       "      <td>0.685306</td>\n",
       "      <td>7.699113e-01</td>\n",
       "      <td>2.997445e-01</td>\n",
       "      <td>7.332420e-01</td>\n",
       "      <td>8.620619e-01</td>\n",
       "      <td>5.005725e-01</td>\n",
       "    </tr>\n",
       "    <tr>\n",
       "      <th>max</th>\n",
       "      <td>1.684335</td>\n",
       "      <td>1.700205e+00</td>\n",
       "      <td>1.859258e+00</td>\n",
       "      <td>1.665308e+00</td>\n",
       "      <td>3.491370e+00</td>\n",
       "      <td>2.456483</td>\n",
       "      <td>2.312047e+00</td>\n",
       "      <td>2.436978e+00</td>\n",
       "      <td>3.050324e+00</td>\n",
       "      <td>1.526778e+00</td>\n",
       "      <td>2.442081e+00</td>\n",
       "    </tr>\n",
       "  </tbody>\n",
       "</table>\n",
       "</div>"
      ],
      "text/plain": [
       "               Day      State ID           Lat         Long_        Active  \\\n",
       "count  1003.000000  1.003000e+03  1.003000e+03  1.003000e+03  1.003000e+03   \n",
       "mean      0.000000 -3.896296e-17  7.084175e-18  1.948148e-17  6.198653e-18   \n",
       "std       1.000499  1.000499e+00  1.000499e+00  1.000499e+00  1.000499e+00   \n",
       "min      -1.687697 -1.832496e+00 -1.992045e+00 -2.147728e+00 -9.992958e-01   \n",
       "25%      -0.873758 -7.020318e-01 -9.014731e-01 -9.348427e-01 -8.015706e-01   \n",
       "50%       0.056458  4.508332e-03 -6.194377e-02  3.803197e-02 -4.360727e-01   \n",
       "75%       0.870396  7.817024e-01  9.802433e-01  8.285013e-01  5.443740e-01   \n",
       "max       1.684335  1.700205e+00  1.859258e+00  1.665308e+00  3.491370e+00   \n",
       "\n",
       "       Incident_Rate  Total_Test_Results  Case_Fatality_Ratio  Testing_Rate  \\\n",
       "count    1003.000000        1.003000e+03         1.003000e+03  1.003000e+03   \n",
       "mean        0.000000        1.416835e-17         1.593939e-17 -2.833670e-17   \n",
       "std         1.000499        1.000499e+00         1.000499e+00  1.000499e+00   \n",
       "min        -2.637932       -1.241691e+00        -2.209422e+00 -1.874305e+00   \n",
       "25%        -0.647754       -8.743223e-01        -5.947375e-01 -5.669503e-01   \n",
       "50%         0.170040       -3.411554e-01        -1.347131e-01  2.167905e-02   \n",
       "75%         0.685306        7.699113e-01         2.997445e-01  7.332420e-01   \n",
       "max         2.456483        2.312047e+00         2.436978e+00  3.050324e+00   \n",
       "\n",
       "       Density Rank 2020 Census      SexRatio  \n",
       "count              1.003000e+03  1.003000e+03  \n",
       "mean              -2.944360e-17 -6.840656e-17  \n",
       "std                1.000499e+00  1.000499e+00  \n",
       "min               -2.166090e+00 -1.440936e+00  \n",
       "25%               -7.627999e-01 -6.643329e-01  \n",
       "50%                4.963096e-02  1.122707e-01  \n",
       "75%                8.620619e-01  5.005725e-01  \n",
       "max                1.526778e+00  2.442081e+00  "
      ]
     },
     "execution_count": 3,
     "metadata": {},
     "output_type": "execute_result"
    }
   ],
   "source": [
    "dfM.describe()"
   ]
  },
  {
   "cell_type": "markdown",
   "id": "76de1563",
   "metadata": {},
   "source": [
    "       Table 1. Corrected database after removing outliers and normalization "
   ]
  },
  {
   "cell_type": "markdown",
   "id": "76b6e07d",
   "metadata": {},
   "source": [
    "The following code is used to perform PCA(Principal Component Analysis), and LDA(Linear Discriminant Analysis) on a normalized dataset known as 'df-filteredfinalN.csv' to find features that could be used to form a new hybrid dataset for the upcoming tasks in the assignment."
   ]
  },
  {
   "cell_type": "markdown",
   "id": "6646a9a2",
   "metadata": {},
   "source": [
    "#  1. PCA:"
   ]
  },
  {
   "cell_type": "code",
   "execution_count": 4,
   "id": "66af853a",
   "metadata": {},
   "outputs": [],
   "source": [
    "from sklearn.decomposition import PCA\n",
    "from sklearn.discriminant_analysis import LinearDiscriminantAnalysis\n",
    "from sklearn import preprocessing \n",
    "import matplotlib.pyplot as plt\n",
    "import seaborn as sns"
   ]
  },
  {
   "cell_type": "code",
   "execution_count": 5,
   "id": "0bea9715",
   "metadata": {},
   "outputs": [],
   "source": [
    " scaled_data= preprocessing.scale(dfM.T)"
   ]
  },
  {
   "cell_type": "code",
   "execution_count": 6,
   "id": "99c62390",
   "metadata": {},
   "outputs": [],
   "source": [
    "pca= PCA(10)\n",
    "pca.fit(dfM)\n",
    "pca_data= pca.transform(dfM)"
   ]
  },
  {
   "cell_type": "markdown",
   "id": "14365207",
   "metadata": {},
   "source": [
    "For performing the PCA Method, the required algrithms including the PCA from sklearn.decomposition, preprocessing from the sklearn, and plt from  matplotlib.pyplotwere were imported. The normalized dataset 'dFM' was scaled, fitted into the pca system and was trasnformed to getthe final output 'pca_data'(1).   "
   ]
  },
  {
   "cell_type": "code",
   "execution_count": 7,
   "id": "5d29684f",
   "metadata": {},
   "outputs": [
    {
     "data": {
      "image/png": "[encoded data removed]",
      "text/plain": [
       "<Figure size 432x288 with 1 Axes>"
      ]
     },
     "metadata": {
      "needs_background": "light"
     },
     "output_type": "display_data"
    }
   ],
   "source": [
    "per_var=np.round(pca.explained_variance_ratio_* 100, decimals=1)\n",
    "labels=['PC' + str(x) for x in range(1, len(per_var)+1)]\n",
    "\n",
    "plt.bar(x=range(1,len(per_var)+1), height=per_var, tick_label=labels)\n",
    "plt.ylabel('Percentage of Explained Variance')\n",
    "plt.xlabel('Principal Component')\n",
    "plt.title('Scree Plot')\n",
    "plt.show()"
   ]
  },
  {
   "cell_type": "markdown",
   "id": "c189403e",
   "metadata": {},
   "source": [
    "    Figure 1. Percentage of Explained Variance for PCA Eig.Vectors(1)"
   ]
  },
  {
   "cell_type": "markdown",
   "id": "11abfb7e",
   "metadata": {},
   "source": [
    "The Cumulative variance represented by the PCA Eigenvectors is shown in the Scree Plot which is present in Figure 1. From the observation of the distribution of the Variance for each PCA eigenvector, PCA1 to PCA8 represents more than approximately 80% of the distrbution of variance from the original data. Thus, we chose the values from PCA1 to PCA8 to represent out new hybrid dataset as it represents most of the data while having reduced features. "
   ]
  },
  {
   "cell_type": "code",
   "execution_count": 8,
   "id": "2bbb263d",
   "metadata": {},
   "outputs": [
    {
     "data": {
      "image/png": "[encoded data removed]",
      "text/plain": [
       "<Figure size 432x288 with 1 Axes>"
      ]
     },
     "metadata": {
      "needs_background": "light"
     },
     "output_type": "display_data"
    }
   ],
   "source": [
    " \n",
    "plt.scatter(pca_data[:,0], pca_data[:,1],c=Y+2,cmap='plasma')\n",
    "plt.title('My PCA Graph')\n",
    "plt.xlabel('PC1 - {0}%'.format(per_var[0]))\n",
    "plt.ylabel('PC2 - {0}%'.format(per_var[1]))\n",
    "\n",
    "sns.scatterplot(x= pca_data[:,0], y=pca_data[:,1],hue= df['State'])\n",
    "plt.legend([],[], frameon=False)\n",
    "\n",
    "plt.show()"
   ]
  },
  {
   "cell_type": "markdown",
   "id": "e1e0bb63",
   "metadata": {},
   "source": [
    "              Figure 2. PC1 versus PC2 Result(2)"
   ]
  },
  {
   "cell_type": "markdown",
   "id": "2fa0211e",
   "metadata": {},
   "source": [
    "The data points for the first and second PCA eigenvectors have been plotted as shown in figure 2 where a hue was formed to represent the 'State' feature for each data point using the seaborn scatterplot function 'sns.scatterplot'(2)."
   ]
  },
  {
   "cell_type": "code",
   "execution_count": 9,
   "id": "07381f34",
   "metadata": {},
   "outputs": [
    {
     "data": {
      "text/plain": [
       "<AxesSubplot:>"
      ]
     },
     "execution_count": 9,
     "metadata": {},
     "output_type": "execute_result"
    },
    {
     "data": {
      "image/png": "[encoded data removed]",
      "text/plain": [
       "<Figure size 432x288 with 1 Axes>"
      ]
     },
     "metadata": {
      "needs_background": "light"
     },
     "output_type": "display_data"
    }
   ],
   "source": [
    "sns.scatterplot(x= pca_data[:,0], y=pca_data[:,1],hue= df['State'])"
   ]
  },
  {
   "cell_type": "markdown",
   "id": "7f400d53",
   "metadata": {},
   "source": [
    "Figure 3. Presenting Color Coding Hue for Each State in the PCA Diagram(2) "
   ]
  },
  {
   "cell_type": "code",
   "execution_count": 10,
   "id": "c76e3ae4",
   "metadata": {},
   "outputs": [
    {
     "name": "stdout",
     "output_type": "stream",
     "text": [
      "<class 'pandas.core.frame.DataFrame'>\n",
      "RangeIndex: 1003 entries, 0 to 1002\n",
      "Data columns (total 11 columns):\n",
      " #   Column     Non-Null Count  Dtype  \n",
      "---  ------     --------------  -----  \n",
      " 0   PC1        1003 non-null   float64\n",
      " 1   PC2        1003 non-null   float64\n",
      " 2   PC3        1003 non-null   float64\n",
      " 3   PC4        1003 non-null   float64\n",
      " 4   PC5        1003 non-null   float64\n",
      " 5   PC6        1003 non-null   float64\n",
      " 6   PC7        1003 non-null   float64\n",
      " 7   PC8        1003 non-null   float64\n",
      " 8   Confirmed  1003 non-null   bool   \n",
      " 9   Deaths     1003 non-null   bool   \n",
      " 10  Recovered  1003 non-null   bool   \n",
      "dtypes: bool(3), float64(8)\n",
      "memory usage: 65.8 KB\n"
     ]
    }
   ],
   "source": [
    "dfHybrid= pd.DataFrame(pca_data[:,0:8],columns= ['PC' + str(x) for x in range(1,9)])\n",
    "dfHybrid['Confirmed']=Y\n",
    "dfHybrid['Deaths']=Y1\n",
    "dfHybrid['Recovered']=Y2\n",
    "\n",
    "dfHybrid.info()"
   ]
  },
  {
   "cell_type": "code",
   "execution_count": 11,
   "id": "61416df6",
   "metadata": {},
   "outputs": [],
   "source": [
    "dfHybrid.to_csv('PCAFeatures.csv', index=False)"
   ]
  },
  {
   "cell_type": "markdown",
   "id": "00eca569",
   "metadata": {},
   "source": [
    "As mentioned previously,  PCA1 to PCA8 are used to represent our new hybrid dataset as it represents most of the data while having reduced features. The new hybrid dataset is known as 'PCAFeatures.csv'and will used for the upcoming questions in the assignment."
   ]
  },
  {
   "cell_type": "markdown",
   "id": "7770f268",
   "metadata": {},
   "source": [
    "# 2. LDA:"
   ]
  },
  {
   "cell_type": "markdown",
   "id": "18ff20fc",
   "metadata": {},
   "source": [
    "For peforming the LDA, the LinearDiscriminantAnalysis from the sklearn.discriminant_analysis toolkit, and the plt from matplotlib.pyplotwere were imported. The features in the dataset were reduced based on each target label in the dataset('Confirmed','Deaths','Recovered')(3) to one feature. The final LDA models were fitted and were shown in a scatterplot based on their respective target labels(3)."
   ]
  },
  {
   "cell_type": "code",
   "execution_count": 12,
   "id": "a5b378fa",
   "metadata": {},
   "outputs": [],
   "source": [
    "lda=LinearDiscriminantAnalysis(n_components=1)\n",
    "\n",
    "ldaD= lda.fit(X,Y).transform(X)"
   ]
  },
  {
   "cell_type": "code",
   "execution_count": 13,
   "id": "304640a4",
   "metadata": {},
   "outputs": [
    {
     "data": {
      "text/plain": [
       "array([[-1.68769725, -1.83249591, -1.71119919, ..., -1.55809484,\n",
       "        -0.09808375, -1.44093648],\n",
       "       [-1.68769725, -1.69118789, -1.36607727, ..., -1.50547993,\n",
       "         0.34506038,  0.5005725 ],\n",
       "       [-1.68769725, -1.62053388, -1.06293426, ..., -0.36660925,\n",
       "         0.41891774, -0.66433288],\n",
       "       ...,\n",
       "       [ 1.68433531,  1.55889653, -0.20196313, ...,  1.19020927,\n",
       "         0.04963096,  0.11227071],\n",
       "       [ 1.68433531,  1.62955054,  1.21052829, ...,  1.09353377,\n",
       "        -0.24579846,  0.5005725 ],\n",
       "       [ 1.68433531,  1.70020455,  0.84073734, ...,  1.23550995,\n",
       "         1.52677806,  2.44208148]])"
      ]
     },
     "execution_count": 13,
     "metadata": {},
     "output_type": "execute_result"
    }
   ],
   "source": [
    "X #Original Features Array"
   ]
  },
  {
   "cell_type": "code",
   "execution_count": 14,
   "id": "ea0d8082",
   "metadata": {},
   "outputs": [
    {
     "data": {
      "text/plain": [
       "array([[-5.91696104e-01],\n",
       "       [-9.76172577e-01],\n",
       "       [-9.46250601e-01],\n",
       "       ...,\n",
       "       [-8.81240984e-04],\n",
       "       [ 1.15051507e+00],\n",
       "       [-1.44784850e-01]])"
      ]
     },
     "execution_count": 14,
     "metadata": {},
     "output_type": "execute_result"
    }
   ],
   "source": [
    "\n",
    "ldaD #Reduced Feature Array"
   ]
  },
  {
   "cell_type": "code",
   "execution_count": 15,
   "id": "b94fc47f",
   "metadata": {},
   "outputs": [
    {
     "data": {
      "text/plain": [
       "<matplotlib.collections.PathCollection at 0x1e12759d970>"
      ]
     },
     "execution_count": 15,
     "metadata": {},
     "output_type": "execute_result"
    },
    {
     "data": {
      "image/png": "[encoded data removed]",
      "text/plain": [
       "<Figure size 432x288 with 1 Axes>"
      ]
     },
     "metadata": {
      "needs_background": "light"
     },
     "output_type": "display_data"
    }
   ],
   "source": [
    "plt.scatter(ldaD, Y)\n"
   ]
  },
  {
   "cell_type": "markdown",
   "id": "48652684",
   "metadata": {},
   "source": [
    "       Figure 4. LDA scatter plot for the first label('Confirmed')"
   ]
  },
  {
   "cell_type": "code",
   "execution_count": 16,
   "id": "dde7d019",
   "metadata": {},
   "outputs": [
    {
     "data": {
      "text/plain": [
       "<matplotlib.collections.PathCollection at 0x1e12749c190>"
      ]
     },
     "execution_count": 16,
     "metadata": {},
     "output_type": "execute_result"
    },
    {
     "data": {
      "image/png": "[encoded data removed]",
      "text/plain": [
       "<Figure size 432x288 with 1 Axes>"
      ]
     },
     "metadata": {
      "needs_background": "light"
     },
     "output_type": "display_data"
    }
   ],
   "source": [
    "ldaD2= lda.fit(X,Y1).transform(X)\n",
    "plt.scatter(ldaD2[:,0],Y1)\n"
   ]
  },
  {
   "cell_type": "markdown",
   "id": "4e1d43a9",
   "metadata": {},
   "source": [
    "       Figure 5. LDA scatter plot for the second label('Deaths')"
   ]
  },
  {
   "cell_type": "code",
   "execution_count": 17,
   "id": "02192ace",
   "metadata": {},
   "outputs": [
    {
     "data": {
      "text/plain": [
       "<matplotlib.collections.PathCollection at 0x1e1274bb8e0>"
      ]
     },
     "execution_count": 17,
     "metadata": {},
     "output_type": "execute_result"
    },
    {
     "data": {
      "image/png": "[encoded data removed]",
      "text/plain": [
       "<Figure size 432x288 with 1 Axes>"
      ]
     },
     "metadata": {
      "needs_background": "light"
     },
     "output_type": "display_data"
    }
   ],
   "source": [
    "ldaD3= lda.fit(X,Y2).transform(X)\n",
    "plt.scatter(ldaD3[:,0],Y2)\n"
   ]
  },
  {
   "cell_type": "markdown",
   "id": "389c3cc0",
   "metadata": {},
   "source": [
    "       Figure 6. LDA scatter plot for the third label('Recovered')"
   ]
  },
  {
   "cell_type": "markdown",
   "id": "cb83380b",
   "metadata": {},
   "source": [
    "From the results displayed in Figure 4, 5, and 6 for label 1,2,and 3; it can be observed that the numerical features were reduced to only one feature. The scatterplots included graphing the single feature values against the respective target values. The LDA output dataset was eventually not used as the hybrid dataset was not achieved from the output."
   ]
  },
  {
   "cell_type": "markdown",
   "id": "109f16d4",
   "metadata": {},
   "source": [
    "## Conclusion:"
   ]
  },
  {
   "cell_type": "markdown",
   "id": "a9ad06ca",
   "metadata": {},
   "source": [
    "Both LDA and PCA are linear transformation techniques: LDA is a supervised whereas PCA is unsupervised – PCA ignores class labels(4). Based on our analysis the PCA allowed us to extract a useful dataset that includes the features inclusive of over 80% of the entire dataset. Thus, we chose the PCA dataset as our hybrid dataset for the random forrest and gradient boosting classifiers in CM4 and CM5 respectively. "
   ]
  },
  {
   "cell_type": "markdown",
   "id": "79197cb4",
   "metadata": {},
   "source": [
    "## Reference:"
   ]
  },
  {
   "cell_type": "markdown",
   "id": "aea15b3f",
   "metadata": {},
   "source": [
    "(1) https://www.youtube.com/watch?v=Lsue2gEM9D0&ab_channel=StatQuestwithJoshStarmer\n",
    "\n",
    "(2) https://seaborn.pydata.org/generated/seaborn.scatterplot.html\n",
    "\n",
    "(3) https://www.youtube.com/watch?v=v6D1M9Aq-54&t=78s&ab_channel=SaptarsiGoswami\n",
    "\n",
    "(4) https://sebastianraschka.com/faq/docs/lda-vs-pca.html\n"
   ]
  }
 ],
 "metadata": {
  "kernelspec": {
   "display_name": "Python 3",
   "language": "python",
   "name": "python3"
  },
  "language_info": {
   "codemirror_mode": {
    "name": "ipython",
    "version": 3
   },
   "file_extension": ".py",
   "mimetype": "text/x-python",
   "name": "python",
   "nbconvert_exporter": "python",
   "pygments_lexer": "ipython3",
   "version": "3.9.5"
  }
 },
 "nbformat": 4,
 "nbformat_minor": 5
}
