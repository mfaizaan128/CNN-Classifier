{
 "cells": [
  {
   "cell_type": "code",
   "execution_count": 1,
   "id": "2bcc4f33",
   "metadata": {},
   "outputs": [],
   "source": [
    "import numpy as np\n",
    "import pandas as pd \n",
    "from sklearn.ensemble import GradientBoostingClassifier\n",
    "from sklearn.model_selection import GridSearchCV,train_test_split\n",
    "from sklearn.metrics import accuracy_score\n",
    "import matplotlib.pyplot as plt"
   ]
  },
  {
   "cell_type": "markdown",
   "id": "519aa331",
   "metadata": {},
   "source": [
    "The following code aims to demonstrate the use of Gradient Boosting on the original features in the provided dataset and on a hybrid dataset that was found using the PCA features. The two csv files named 'df-filteredfinalN.csv' and 'PCAFeatures.csv' are used for loading the original dataset and the hybrid dataset respectively."
   ]
  },
  {
   "cell_type": "markdown",
   "id": "0a74d02c",
   "metadata": {},
   "source": [
    "# 1. Original Dataset Features:"
   ]
  },
  {
   "cell_type": "code",
   "execution_count": 2,
   "id": "883e67a7",
   "metadata": {},
   "outputs": [],
   "source": [
    "df= pd.read_csv('df-filteredfinalN.csv')\n",
    "                \n",
    "x=df[['Day','State ID','Lat','Long_','Incident_Rate','Active','Total_Test_Results','Case_Fatality_Ratio','Testing_Rate','Density Rank 2020 Census','SexRatio']].values\n",
    "\n",
    "y=df['Confirmed'].values\n",
    "\n",
    "y1= df['Deaths'].values\n",
    "\n",
    "y2= df['Recovered'].values\n"
   ]
  },
  {
   "cell_type": "markdown",
   "id": "a9a5f0ec",
   "metadata": {},
   "source": [
    "# Hyper-Parameter Tuning- Label 1('Confirmed'):"
   ]
  },
  {
   "cell_type": "code",
   "execution_count": 3,
   "id": "7d43a605",
   "metadata": {
    "scrolled": true
   },
   "outputs": [
    {
     "name": "stdout",
     "output_type": "stream",
     "text": [
      "Fitting 10 folds for each of 5 candidates, totalling 50 fits\n"
     ]
    },
    {
     "data": {
      "text/plain": [
       "[<matplotlib.lines.Line2D at 0x22d9d154610>]"
      ]
     },
     "execution_count": 3,
     "metadata": {},
     "output_type": "execute_result"
    },
    {
     "data": {
      "image/png": "[encoded data removed]",
      "text/plain": [
       "<Figure size 432x288 with 1 Axes>"
      ]
     },
     "metadata": {
      "needs_background": "light"
     },
     "output_type": "display_data"
    }
   ],
   "source": [
    "x_train,x_test,y_train,y_test = train_test_split(x,y,test_size = 0.2, random_state = 0)\n",
    "\n",
    "grid_param= {'n_estimators':[5,10,50,150,200], 'random_state':[0]}\n",
    "gb= GradientBoostingClassifier()\n",
    "grid= GridSearchCV(gb,grid_param, cv=10, verbose=1, n_jobs= -1)\n",
    "grid.fit(x_train, y_train)\n",
    "estimators=['5','10','50','150','200']\n",
    "plt.xlabel('No of estimators')\n",
    "plt.ylabel('Mean accuracy')\n",
    "plt.plot(estimators,grid.cv_results_['mean_test_score'])"
   ]
  },
  {
   "cell_type": "markdown",
   "id": "ae63340c",
   "metadata": {},
   "source": [
    "Figure 1 Mean accuracy based on number of estimators for Hyper-Parameter Tuning- Label 1 in original dataset "
   ]
  },
  {
   "cell_type": "markdown",
   "id": "a941f696",
   "metadata": {},
   "source": [
    "Initially, the data is split with 80% of the data used for training and 20% percent of the data left for testing. The data is classified using Decision trees with the number of trees being: {5,10,50,150,200}. The Gradient Boosting classifier is intialized as 'gb'(1)and the K-fold cross validation is used with k being 10 for the trees. 'GridSearchCV' is used to find the best values for the classifier(2). The Mean accuracy of the trained estimators is reported on a plot using the plot command from the Matplot library(3)."
   ]
  },
  {
   "cell_type": "markdown",
   "id": "02ac4215",
   "metadata": {},
   "source": [
    "# Best Parameter Evaluation: "
   ]
  },
  {
   "cell_type": "code",
   "execution_count": 4,
   "id": "ed305021",
   "metadata": {},
   "outputs": [
    {
     "data": {
      "text/plain": [
       "{'n_estimators': 5, 'random_state': 0}"
      ]
     },
     "execution_count": 4,
     "metadata": {},
     "output_type": "execute_result"
    }
   ],
   "source": [
    "grid.best_params_"
   ]
  },
  {
   "cell_type": "code",
   "execution_count": 5,
   "id": "433f7078",
   "metadata": {},
   "outputs": [
    {
     "data": {
      "text/plain": [
       "0.9676234567901234"
      ]
     },
     "execution_count": 5,
     "metadata": {},
     "output_type": "execute_result"
    }
   ],
   "source": [
    "grid.best_score_"
   ]
  },
  {
   "cell_type": "code",
   "execution_count": 6,
   "id": "4f9c6d67",
   "metadata": {},
   "outputs": [
    {
     "data": {
      "text/plain": [
       "GradientBoostingClassifier(n_estimators=5, random_state=0)"
      ]
     },
     "execution_count": 6,
     "metadata": {},
     "output_type": "execute_result"
    }
   ],
   "source": [
    "grid.best_estimator_"
   ]
  },
  {
   "cell_type": "markdown",
   "id": "becef009",
   "metadata": {},
   "source": [
    "The best parameter for the Gradient Boosting Classifier is when the number of estimators is 5."
   ]
  },
  {
   "cell_type": "markdown",
   "id": "89cd6071",
   "metadata": {},
   "source": [
    "# Parameter Testing:"
   ]
  },
  {
   "cell_type": "code",
   "execution_count": 7,
   "id": "fef20b82",
   "metadata": {},
   "outputs": [
    {
     "name": "stdout",
     "output_type": "stream",
     "text": [
      "Accuracy on test set:  0.945273631840796\n"
     ]
    }
   ],
   "source": [
    "gbo= GradientBoostingClassifier(n_estimators=5, random_state=0)\n",
    "gbo.fit(x_train,y_train)\n",
    "y_pred= gbo.predict(x_test)\n",
    "print(\"Accuracy on test set: \" ,accuracy_score(y_test,y_pred))"
   ]
  },
  {
   "cell_type": "markdown",
   "id": "223b21fb",
   "metadata": {},
   "source": [
    "The accuracy of the test set for the trained classifier is approximately 94.53 percent and this shows that the classifier is great at predicting the output for the label with less than 6 percent of error."
   ]
  },
  {
   "cell_type": "markdown",
   "id": "b625acdf",
   "metadata": {},
   "source": [
    "# Hyper-Parameter Tuning- Label 2('Deaths'):"
   ]
  },
  {
   "cell_type": "code",
   "execution_count": 8,
   "id": "33b289bd",
   "metadata": {
    "scrolled": true
   },
   "outputs": [
    {
     "name": "stdout",
     "output_type": "stream",
     "text": [
      "Fitting 10 folds for each of 5 candidates, totalling 50 fits\n"
     ]
    },
    {
     "data": {
      "text/plain": [
       "[<matplotlib.lines.Line2D at 0x22d9d26a2e0>]"
      ]
     },
     "execution_count": 8,
     "metadata": {},
     "output_type": "execute_result"
    },
    {
     "data": {
      "image/png": "[encoded data removed]",
      "text/plain": [
       "<Figure size 432x288 with 1 Axes>"
      ]
     },
     "metadata": {
      "needs_background": "light"
     },
     "output_type": "display_data"
    }
   ],
   "source": [
    "x_train,x_test,y_train,y_test = train_test_split(x,y1,test_size = 0.2, random_state = 0)\n",
    "\n",
    "grid_param= {'n_estimators':[5,10,50,150,200], 'random_state':[0]}\n",
    "gb= GradientBoostingClassifier()\n",
    "grid= GridSearchCV(gb,grid_param, cv=10, verbose=1, n_jobs= -1)\n",
    "grid.fit(x_train, y_train)\n",
    "estimators=['5','10','50','150','200']\n",
    "plt.xlabel('No of estimators')\n",
    "plt.ylabel('Mean accuracy')\n",
    "plt.plot(estimators,grid.cv_results_['mean_test_score'])"
   ]
  },
  {
   "cell_type": "markdown",
   "id": "a75c9315",
   "metadata": {},
   "source": [
    "Figure 2 Mean accuracy based on number of estimators for Hyper-Parameter Tuning- Label 2 in original dataset "
   ]
  },
  {
   "cell_type": "markdown",
   "id": "197f5da1",
   "metadata": {},
   "source": [
    "Initially, the data is split with 80% of the data used for training and 20% percent of the data left for testing. The data is classified using Decision trees with the number of trees being: {5,10,50,150,200}. The Gradient Boosting classifier is intialized as 'gb'(1)and the K-fold cross validation is used with k being 10 for the trees. 'GridSearchCV' is used to find the best values for the classifier(2). The Mean accuracy of the trained estimators is reported on a plot using the plot command from the Matplot library(3)."
   ]
  },
  {
   "cell_type": "markdown",
   "id": "5a0d0be1",
   "metadata": {},
   "source": [
    "# Best Parameter Evaluation:"
   ]
  },
  {
   "cell_type": "code",
   "execution_count": 9,
   "id": "dfb0f0a1",
   "metadata": {},
   "outputs": [
    {
     "data": {
      "text/plain": [
       "{'n_estimators': 10, 'random_state': 0}"
      ]
     },
     "execution_count": 9,
     "metadata": {},
     "output_type": "execute_result"
    }
   ],
   "source": [
    "grid.best_params_"
   ]
  },
  {
   "cell_type": "code",
   "execution_count": 10,
   "id": "a7bb8c74",
   "metadata": {},
   "outputs": [
    {
     "data": {
      "text/plain": [
       "0.9339506172839507"
      ]
     },
     "execution_count": 10,
     "metadata": {},
     "output_type": "execute_result"
    }
   ],
   "source": [
    "grid.best_score_"
   ]
  },
  {
   "cell_type": "code",
   "execution_count": 11,
   "id": "b7ff1f98",
   "metadata": {},
   "outputs": [
    {
     "data": {
      "text/plain": [
       "GradientBoostingClassifier(n_estimators=10, random_state=0)"
      ]
     },
     "execution_count": 11,
     "metadata": {},
     "output_type": "execute_result"
    }
   ],
   "source": [
    "grid.best_estimator_"
   ]
  },
  {
   "cell_type": "markdown",
   "id": "dec9f37d",
   "metadata": {},
   "source": [
    "The best parameter for the Gradient Boosting Classifier is when the number of estimators is 10."
   ]
  },
  {
   "cell_type": "markdown",
   "id": "67152dd3",
   "metadata": {},
   "source": [
    "# Parameter Testing:"
   ]
  },
  {
   "cell_type": "code",
   "execution_count": 12,
   "id": "3e4baa4e",
   "metadata": {},
   "outputs": [
    {
     "name": "stdout",
     "output_type": "stream",
     "text": [
      "Accuracy on test set:  0.9303482587064676\n"
     ]
    }
   ],
   "source": [
    "gbo= GradientBoostingClassifier(n_estimators=10, random_state=0)\n",
    "gbo.fit(x_train,y_train)\n",
    "y_pred= gbo.predict(x_test)\n",
    "print(\"Accuracy on test set: \" ,accuracy_score(y_test,y_pred))"
   ]
  },
  {
   "cell_type": "markdown",
   "id": "a83c9c4f",
   "metadata": {},
   "source": [
    "The accuracy of the test set for the trained classifier is approximately 93.03 percent and this shows that the classifier is great at predicting the output for the label with less than 7 percent of error."
   ]
  },
  {
   "cell_type": "markdown",
   "id": "86404ab5",
   "metadata": {},
   "source": [
    "# Hyper-Parameter Tuning- Label 3('Recovered'):"
   ]
  },
  {
   "cell_type": "code",
   "execution_count": 13,
   "id": "8dcf2f0c",
   "metadata": {},
   "outputs": [
    {
     "name": "stdout",
     "output_type": "stream",
     "text": [
      "Fitting 10 folds for each of 5 candidates, totalling 50 fits\n"
     ]
    },
    {
     "data": {
      "text/plain": [
       "[<matplotlib.lines.Line2D at 0x22d9d2cf970>]"
      ]
     },
     "execution_count": 13,
     "metadata": {},
     "output_type": "execute_result"
    },
    {
     "data": {
      "image/png": "[encoded data removed]",
      "text/plain": [
       "<Figure size 432x288 with 1 Axes>"
      ]
     },
     "metadata": {
      "needs_background": "light"
     },
     "output_type": "display_data"
    }
   ],
   "source": [
    "x_train,x_test,y_train,y_test = train_test_split(x,y2,test_size = 0.2, random_state = 0)\n",
    "\n",
    "grid_param= {'n_estimators':[5,10,50,150,200], 'random_state':[0]}\n",
    "gb= GradientBoostingClassifier()\n",
    "grid= GridSearchCV(gb,grid_param, cv=10, verbose=1, n_jobs= -1)\n",
    "grid.fit(x_train, y_train)\n",
    "estimators=['5','10','50','150','200']\n",
    "plt.xlabel('No of estimators')\n",
    "plt.ylabel('Mean accuracy')\n",
    "plt.plot(estimators,grid.cv_results_['mean_test_score'])"
   ]
  },
  {
   "cell_type": "markdown",
   "id": "716a7f37",
   "metadata": {},
   "source": [
    "Figure 3 Mean accuracy based on number of estimators for Hyper-Parameter Tuning- Label 3 in original dataset "
   ]
  },
  {
   "cell_type": "markdown",
   "id": "8e8c641d",
   "metadata": {},
   "source": [
    "Initially, the data is split with 80% of the data used for training and 20% percent of the data left for testing. The data is classified using Decision trees with the number of trees being: {5,10,50,150,200}. The Gradient Boosting classifier is intialized as 'gb'(1)and the K-fold cross validation is used with k being 10 for the trees. 'GridSearchCV' is used to find the best values for the classifier(2). The Mean accuracy of the trained estimators is reported on a plot using the plot command from the Matplot library(3)."
   ]
  },
  {
   "cell_type": "markdown",
   "id": "fadaf85e",
   "metadata": {},
   "source": [
    "# Best Parameter Evaluation:"
   ]
  },
  {
   "cell_type": "code",
   "execution_count": 14,
   "id": "ce4a952f",
   "metadata": {},
   "outputs": [
    {
     "data": {
      "text/plain": [
       "{'n_estimators': 50, 'random_state': 0}"
      ]
     },
     "execution_count": 14,
     "metadata": {},
     "output_type": "execute_result"
    }
   ],
   "source": [
    "grid.best_params_"
   ]
  },
  {
   "cell_type": "code",
   "execution_count": 15,
   "id": "6433937d",
   "metadata": {},
   "outputs": [
    {
     "data": {
      "text/plain": [
       "0.9151697530864198"
      ]
     },
     "execution_count": 15,
     "metadata": {},
     "output_type": "execute_result"
    }
   ],
   "source": [
    "grid.best_score_"
   ]
  },
  {
   "cell_type": "code",
   "execution_count": 16,
   "id": "0ee424f6",
   "metadata": {
    "scrolled": true
   },
   "outputs": [
    {
     "data": {
      "text/plain": [
       "GradientBoostingClassifier(n_estimators=50, random_state=0)"
      ]
     },
     "execution_count": 16,
     "metadata": {},
     "output_type": "execute_result"
    }
   ],
   "source": [
    "grid.best_estimator_"
   ]
  },
  {
   "cell_type": "markdown",
   "id": "d502d185",
   "metadata": {},
   "source": [
    "The best parameter for the Gradient Boosting Classifier is when the number of estimators is 50."
   ]
  },
  {
   "cell_type": "markdown",
   "id": "c89d98fd",
   "metadata": {},
   "source": [
    "# Parameter Testing:"
   ]
  },
  {
   "cell_type": "code",
   "execution_count": 17,
   "id": "326fb91b",
   "metadata": {},
   "outputs": [
    {
     "name": "stdout",
     "output_type": "stream",
     "text": [
      "Accuracy on test set:  0.9552238805970149\n"
     ]
    }
   ],
   "source": [
    "gbo= GradientBoostingClassifier(n_estimators=50, random_state=0)\n",
    "gbo.fit(x_train,y_train)\n",
    "y_pred= gbo.predict(x_test)\n",
    "print(\"Accuracy on test set: \" ,accuracy_score(y_test,y_pred))"
   ]
  },
  {
   "cell_type": "markdown",
   "id": "09438824",
   "metadata": {},
   "source": [
    "The accuracy of the test set for the trained classifier is approximately 95.52 percent and this shows that the classifier is great at predicting the output for the label with less than 5 percent of error."
   ]
  },
  {
   "cell_type": "markdown",
   "id": "b56e131f",
   "metadata": {},
   "source": [
    "# 2. PCA Features:"
   ]
  },
  {
   "cell_type": "code",
   "execution_count": 18,
   "id": "a590bc90",
   "metadata": {},
   "outputs": [],
   "source": [
    "pcaf=pd.read_csv('PCAFeatures.csv')\n",
    "x=pcaf[['PC1','PC2','PC3','PC4','PC5','PC6','PC7','PC8']].values\n",
    "y=pcaf['Confirmed'].values\n",
    "y1=pcaf['Deaths'].values\n",
    "y2=pcaf['Recovered'].values\n"
   ]
  },
  {
   "cell_type": "markdown",
   "id": "239769cc",
   "metadata": {},
   "source": [
    "# Hyper-Parameter Tuning- Label 1('Confirmed'):"
   ]
  },
  {
   "cell_type": "code",
   "execution_count": 19,
   "id": "45d39268",
   "metadata": {},
   "outputs": [
    {
     "name": "stdout",
     "output_type": "stream",
     "text": [
      "Fitting 10 folds for each of 5 candidates, totalling 50 fits\n"
     ]
    },
    {
     "data": {
      "text/plain": [
       "[<matplotlib.lines.Line2D at 0x22d9d342940>]"
      ]
     },
     "execution_count": 19,
     "metadata": {},
     "output_type": "execute_result"
    },
    {
     "data": {
      "image/png": "[encoded data removed]",
      "text/plain": [
       "<Figure size 432x288 with 1 Axes>"
      ]
     },
     "metadata": {
      "needs_background": "light"
     },
     "output_type": "display_data"
    }
   ],
   "source": [
    "x_train,x_test,y_train,y_test = train_test_split(x,y,test_size = 0.2, random_state = 0)\n",
    "\n",
    "grid_param= {'n_estimators':[5,10,50,150,200], 'random_state':[0]}\n",
    "gb= GradientBoostingClassifier()\n",
    "grid= GridSearchCV(gb,grid_param, cv=10, verbose=1, n_jobs= -1)\n",
    "grid.fit(x_train, y_train)\n",
    "estimators=['5','10','50','150','200']\n",
    "plt.xlabel('No of estimators')\n",
    "plt.ylabel('Mean accuracy')\n",
    "plt.plot(estimators,grid.cv_results_['mean_test_score'])"
   ]
  },
  {
   "cell_type": "markdown",
   "id": "f99d9e38",
   "metadata": {},
   "source": [
    "Figure 4 Mean accuracy based on number of estimators for Hyper-Parameter Tuning- Label 1 in extracted features by PCA"
   ]
  },
  {
   "cell_type": "markdown",
   "id": "d167abbc",
   "metadata": {},
   "source": [
    "Initially, the data is split with 80% of the data used for training and 20% percent of the data left for testing. The data is classified using Decision trees with the number of trees being: {5,10,50,150,200}. The Gradient Boosting classifier is intialized as 'gb'(1)and the K-fold cross validation is used with k being 10 for the trees. 'GridSearchCV' is used to find the best values for the classifier(2). The Mean accuracy of the trained estimators is reported on a plot using the plot command from the Matplot library(3)."
   ]
  },
  {
   "cell_type": "markdown",
   "id": "10b65f5a",
   "metadata": {},
   "source": [
    "# Best Parameter Evaluation:"
   ]
  },
  {
   "cell_type": "code",
   "execution_count": 20,
   "id": "402ec25d",
   "metadata": {},
   "outputs": [
    {
     "data": {
      "text/plain": [
       "{'n_estimators': 5, 'random_state': 0}"
      ]
     },
     "execution_count": 20,
     "metadata": {},
     "output_type": "execute_result"
    }
   ],
   "source": [
    "grid.best_params_"
   ]
  },
  {
   "cell_type": "code",
   "execution_count": 21,
   "id": "93c957e9",
   "metadata": {},
   "outputs": [
    {
     "data": {
      "text/plain": [
       "0.9750925925925926"
      ]
     },
     "execution_count": 21,
     "metadata": {},
     "output_type": "execute_result"
    }
   ],
   "source": [
    "grid.best_score_"
   ]
  },
  {
   "cell_type": "code",
   "execution_count": 22,
   "id": "7cb8b3a7",
   "metadata": {},
   "outputs": [
    {
     "data": {
      "text/plain": [
       "GradientBoostingClassifier(n_estimators=5, random_state=0)"
      ]
     },
     "execution_count": 22,
     "metadata": {},
     "output_type": "execute_result"
    }
   ],
   "source": [
    "grid.best_estimator_"
   ]
  },
  {
   "cell_type": "markdown",
   "id": "d8455df8",
   "metadata": {},
   "source": [
    "The best parameter for the Gradient Boosting Classifier is when the number of estimators is 5."
   ]
  },
  {
   "cell_type": "markdown",
   "id": "1e092147",
   "metadata": {},
   "source": [
    "# Parameter Testing:"
   ]
  },
  {
   "cell_type": "code",
   "execution_count": 23,
   "id": "bf4ef20e",
   "metadata": {},
   "outputs": [
    {
     "name": "stdout",
     "output_type": "stream",
     "text": [
      "Accuracy on test set:  0.9502487562189055\n"
     ]
    }
   ],
   "source": [
    "gbo= GradientBoostingClassifier(n_estimators=5, random_state=0)\n",
    "gbo.fit(x_train,y_train)\n",
    "y_pred= gbo.predict(x_test)\n",
    "print(\"Accuracy on test set: \" ,accuracy_score(y_test,y_pred))"
   ]
  },
  {
   "cell_type": "markdown",
   "id": "7a6d36f2",
   "metadata": {},
   "source": [
    "The accuracy of the test set for the trained classifier is approximately 95.02 percent and this shows that the classifier is great at predicting the output for the label with less than 5 percent of error."
   ]
  },
  {
   "cell_type": "markdown",
   "id": "b0dcdd4c",
   "metadata": {},
   "source": [
    "# Hyper-Parameter Tuning- Label 2('Deaths'):"
   ]
  },
  {
   "cell_type": "code",
   "execution_count": 24,
   "id": "639847a5",
   "metadata": {},
   "outputs": [
    {
     "name": "stdout",
     "output_type": "stream",
     "text": [
      "Fitting 10 folds for each of 5 candidates, totalling 50 fits\n"
     ]
    },
    {
     "data": {
      "text/plain": [
       "[<matplotlib.lines.Line2D at 0x22d9d39c400>]"
      ]
     },
     "execution_count": 24,
     "metadata": {},
     "output_type": "execute_result"
    },
    {
     "data": {
      "image/png": "[encoded data removed]",
      "text/plain": [
       "<Figure size 432x288 with 1 Axes>"
      ]
     },
     "metadata": {
      "needs_background": "light"
     },
     "output_type": "display_data"
    }
   ],
   "source": [
    "x_train,x_test,y_train,y_test = train_test_split(x,y1,test_size = 0.2, random_state = 0)\n",
    "\n",
    "grid_param= {'n_estimators':[5,10,50,150,200], 'random_state':[0]}\n",
    "gb= GradientBoostingClassifier()\n",
    "grid= GridSearchCV(gb,grid_param, cv=10, verbose=1, n_jobs= -1)\n",
    "grid.fit(x_train, y_train)\n",
    "estimators=['5','10','50','150','200']\n",
    "plt.xlabel('No of estimators')\n",
    "plt.ylabel('Mean accuracy')\n",
    "plt.plot(estimators,grid.cv_results_['mean_test_score'])"
   ]
  },
  {
   "cell_type": "markdown",
   "id": "26cef5c1",
   "metadata": {},
   "source": [
    "Figure 5 Mean accuracy based on number of estimators for Hyper-Parameter Tuning- Label 2 in extracted features by PCA"
   ]
  },
  {
   "cell_type": "markdown",
   "id": "57bb540b",
   "metadata": {},
   "source": [
    "Initially, the data is split with 80% of the data used for training and 20% percent of the data left for testing. The data is classified using Decision trees with the number of trees being: {5,10,50,150,200}. The Gradient Boosting classifier is intialized as 'gb'(1)and the K-fold cross validation is used with k being 10 for the trees. 'GridSearchCV' is used to find the best values for the classifier(2). The Mean accuracy of the trained estimators is reported on a plot using the plot command from the Matplot library(3)."
   ]
  },
  {
   "cell_type": "markdown",
   "id": "5cea2e54",
   "metadata": {},
   "source": [
    "# Best Parameter Evaluation:"
   ]
  },
  {
   "cell_type": "code",
   "execution_count": 25,
   "id": "f2704520",
   "metadata": {},
   "outputs": [
    {
     "data": {
      "text/plain": [
       "{'n_estimators': 10, 'random_state': 0}"
      ]
     },
     "execution_count": 25,
     "metadata": {},
     "output_type": "execute_result"
    }
   ],
   "source": [
    "grid.best_params_"
   ]
  },
  {
   "cell_type": "code",
   "execution_count": 26,
   "id": "20871417",
   "metadata": {},
   "outputs": [
    {
     "data": {
      "text/plain": [
       "0.9339351851851851"
      ]
     },
     "execution_count": 26,
     "metadata": {},
     "output_type": "execute_result"
    }
   ],
   "source": [
    "grid.best_score_"
   ]
  },
  {
   "cell_type": "code",
   "execution_count": 27,
   "id": "7bb387b7",
   "metadata": {},
   "outputs": [
    {
     "data": {
      "text/plain": [
       "GradientBoostingClassifier(n_estimators=10, random_state=0)"
      ]
     },
     "execution_count": 27,
     "metadata": {},
     "output_type": "execute_result"
    }
   ],
   "source": [
    "grid.best_estimator_"
   ]
  },
  {
   "cell_type": "markdown",
   "id": "e1dad843",
   "metadata": {},
   "source": [
    "The best parameter for the Gradient Boosting Classifier is when the number of estimators is 10."
   ]
  },
  {
   "cell_type": "markdown",
   "id": "a233df98",
   "metadata": {},
   "source": [
    "# Parameter Testing:"
   ]
  },
  {
   "cell_type": "code",
   "execution_count": 28,
   "id": "72f0a081",
   "metadata": {},
   "outputs": [
    {
     "name": "stdout",
     "output_type": "stream",
     "text": [
      "Accuracy on test set:  0.9303482587064676\n"
     ]
    }
   ],
   "source": [
    "gbo= GradientBoostingClassifier(n_estimators=10, random_state=0)\n",
    "gbo.fit(x_train,y_train)\n",
    "y_pred= gbo.predict(x_test)\n",
    "print(\"Accuracy on test set: \" ,accuracy_score(y_test,y_pred))"
   ]
  },
  {
   "cell_type": "markdown",
   "id": "e1399f70",
   "metadata": {},
   "source": [
    "The accuracy of the test set for the trained classifier is approximately 93.03 percent and this shows that the classifier is great at predicting the output for the label with less than 3 percent of error."
   ]
  },
  {
   "cell_type": "markdown",
   "id": "db54daa4",
   "metadata": {},
   "source": [
    "# Hyper-Parameter Tuning- Label 3('Recovered'):"
   ]
  },
  {
   "cell_type": "code",
   "execution_count": 29,
   "id": "58f77f8e",
   "metadata": {},
   "outputs": [
    {
     "name": "stdout",
     "output_type": "stream",
     "text": [
      "Fitting 10 folds for each of 5 candidates, totalling 50 fits\n"
     ]
    },
    {
     "data": {
      "text/plain": [
       "[<matplotlib.lines.Line2D at 0x22d9d3fdfd0>]"
      ]
     },
     "execution_count": 29,
     "metadata": {},
     "output_type": "execute_result"
    },
    {
     "data": {
      "image/png": "[encoded data removed]",
      "text/plain": [
       "<Figure size 432x288 with 1 Axes>"
      ]
     },
     "metadata": {
      "needs_background": "light"
     },
     "output_type": "display_data"
    }
   ],
   "source": [
    "x_train,x_test,y_train,y_test = train_test_split(x,y2,test_size = 0.2, random_state = 0)\n",
    "\n",
    "grid_param= {'n_estimators':[5,10,50,150,200], 'random_state':[0]}\n",
    "gb= GradientBoostingClassifier()\n",
    "grid= GridSearchCV(gb,grid_param, cv=10, verbose=1, n_jobs= -1)\n",
    "grid.fit(x_train, y_train)\n",
    "estimators=['5','10','50','150','200']\n",
    "plt.xlabel('No of estimators')\n",
    "plt.ylabel('Mean accuracy')\n",
    "plt.plot(estimators,grid.cv_results_['mean_test_score'])"
   ]
  },
  {
   "cell_type": "markdown",
   "id": "4b7df90c",
   "metadata": {},
   "source": [
    "Figure 6 Mean accuracy based on number of estimators for Hyper-Parameter Tuning- Label 3 in extracted features by PCA"
   ]
  },
  {
   "cell_type": "markdown",
   "id": "6bd850a8",
   "metadata": {},
   "source": [
    "Initially, the data is split with 80% of the data used for training and 20% percent of the data left for testing. The data is classified using Decision trees with the number of trees being: {5,10,50,150,200}. The Gradient Boosting classifier is intialized as 'gb'(1)and the K-fold cross validation is used with k being 10 for the trees. 'GridSearchCV' is used to find the best values for the classifier(2). The Mean accuracy of the trained estimators is reported on a plot using the plot command from the Matplot library(3)."
   ]
  },
  {
   "cell_type": "markdown",
   "id": "03b08cd6",
   "metadata": {},
   "source": [
    "# Best Parameter Evaluation:"
   ]
  },
  {
   "cell_type": "code",
   "execution_count": 30,
   "id": "7bb67f50",
   "metadata": {},
   "outputs": [
    {
     "data": {
      "text/plain": [
       "{'n_estimators': 50, 'random_state': 0}"
      ]
     },
     "execution_count": 30,
     "metadata": {},
     "output_type": "execute_result"
    }
   ],
   "source": [
    "grid.best_params_"
   ]
  },
  {
   "cell_type": "code",
   "execution_count": 31,
   "id": "60f00d85",
   "metadata": {},
   "outputs": [
    {
     "data": {
      "text/plain": [
       "0.9351388888888887"
      ]
     },
     "execution_count": 31,
     "metadata": {},
     "output_type": "execute_result"
    }
   ],
   "source": [
    "grid.best_score_"
   ]
  },
  {
   "cell_type": "code",
   "execution_count": 32,
   "id": "e0dbd036",
   "metadata": {},
   "outputs": [
    {
     "data": {
      "text/plain": [
       "GradientBoostingClassifier(n_estimators=50, random_state=0)"
      ]
     },
     "execution_count": 32,
     "metadata": {},
     "output_type": "execute_result"
    }
   ],
   "source": [
    "grid.best_estimator_"
   ]
  },
  {
   "cell_type": "markdown",
   "id": "9054a641",
   "metadata": {},
   "source": [
    "The best parameter for the Gradient Boosting Classifier is when the number of estimators is 50."
   ]
  },
  {
   "cell_type": "markdown",
   "id": "37ec3d9c",
   "metadata": {},
   "source": [
    "# Parameter Testing:"
   ]
  },
  {
   "cell_type": "code",
   "execution_count": 33,
   "id": "fd1b31a2",
   "metadata": {},
   "outputs": [
    {
     "name": "stdout",
     "output_type": "stream",
     "text": [
      "Accuracy on test set:  0.945273631840796\n"
     ]
    }
   ],
   "source": [
    "gbo= GradientBoostingClassifier(n_estimators=50, random_state=0)\n",
    "gbo.fit(x_train,y_train)\n",
    "y_pred= gbo.predict(x_test)\n",
    "print(\"Accuracy on test set: \" ,accuracy_score(y_test,y_pred))"
   ]
  },
  {
   "cell_type": "markdown",
   "id": "b72e4d9a",
   "metadata": {},
   "source": [
    "The accuracy of the test set for the trained classifier is approximately 94.53 percent and this shows that the classifier is great at predicting the output for the label with less than 6 percent of error."
   ]
  },
  {
   "cell_type": "markdown",
   "id": "9cdcbb94",
   "metadata": {},
   "source": [
    "# References:"
   ]
  },
  {
   "cell_type": "markdown",
   "id": "c830bb20",
   "metadata": {},
   "source": [
    "(1)https://scikit-learn.org/stable/modules/generated/sklearn.ensemble.GradientBoostingClassifier.html\n",
    "\n",
    "(2) https://scikit-learn.org/stable/modules/generated/sklearn.model_selection.GridSearchCV.html\n",
    "\n",
    "(3)https://matplotlib.org/stable/api/_as_gen/matplotlib.pyplot.html"
   ]
  }
 ],
 "metadata": {
  "kernelspec": {
   "display_name": "Python 3",
   "language": "python",
   "name": "python3"
  },
  "language_info": {
   "codemirror_mode": {
    "name": "ipython",
    "version": 3
   },
   "file_extension": ".py",
   "mimetype": "text/x-python",
   "name": "python",
   "nbconvert_exporter": "python",
   "pygments_lexer": "ipython3",
   "version": "3.9.5"
  }
 },
 "nbformat": 4,
 "nbformat_minor": 5
}
