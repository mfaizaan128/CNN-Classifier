{
 "cells": [
  {
   "cell_type": "code",
   "execution_count": 1,
   "id": "cffad789",
   "metadata": {},
   "outputs": [],
   "source": [
    "import numpy as np\n",
    "import pandas as pd \n",
    "from sklearn.model_selection import GridSearchCV,train_test_split\n",
    "from sklearn.metrics import accuracy_score\n",
    "import matplotlib.pyplot as plt\n",
    "from sklearn.naive_bayes import GaussianNB\n",
    "from sklearn.preprocessing import PowerTransformer \n",
    "from scipy import stats\n",
    "from sklearn.utils import shuffle \n",
    "from sklearn.inspection import permutation_importance"
   ]
  },
  {
   "cell_type": "markdown",
   "id": "ca2b4f0b",
   "metadata": {},
   "source": [
    "The following code aims to demonstrate the use of the Naive Bayes Classifier on the original features in the dataset from the csv file named 'df-filteredfinalN.csv'."
   ]
  },
  {
   "cell_type": "code",
   "execution_count": 2,
   "id": "c5e49994",
   "metadata": {},
   "outputs": [],
   "source": [
    "df= pd.read_csv('df-filteredfinalN.csv')\n",
    "                \n",
    "x=df[['Day','State ID','Lat','Long_','Incident_Rate','Active','Total_Test_Results','Case_Fatality_Ratio','Testing_Rate','Density Rank 2020 Census','SexRatio']].values\n",
    "\n",
    "y=df['Confirmed'].values\n",
    "\n",
    "y1=df['Deaths'].values\n",
    "\n",
    "y2=df['Recovered'].values\n",
    "\n"
   ]
  },
  {
   "cell_type": "markdown",
   "id": "cd9d6e9c",
   "metadata": {},
   "source": [
    "# Hyper-Parameter Tuning- Label 1('Confirmed'):"
   ]
  },
  {
   "cell_type": "code",
   "execution_count": 3,
   "id": "496e192e",
   "metadata": {
    "scrolled": true
   },
   "outputs": [
    {
     "name": "stdout",
     "output_type": "stream",
     "text": [
      "Fitting 10 folds for each of 5 candidates, totalling 50 fits\n"
     ]
    },
    {
     "data": {
      "text/plain": [
       "Text(0, 0.5, 'Accuracy')"
      ]
     },
     "execution_count": 3,
     "metadata": {},
     "output_type": "execute_result"
    },
    {
     "data": {
      "image/png": "[encoded data removed]",
      "text/plain": [
       "<Figure size 432x288 with 1 Axes>"
      ]
     },
     "metadata": {
      "needs_background": "light"
     },
     "output_type": "display_data"
    }
   ],
   "source": [
    "x_train,x_test,y_train,y_test = train_test_split(x,y,test_size = 0.2, random_state = 0)\n",
    "\n",
    "params_NB= {'var_smoothing': [1e-10, 1e-9, 1e-5, 1e-3, 1e-1]}\n",
    "gs_NB= GridSearchCV(estimator= GaussianNB(), param_grid=params_NB, cv=10, verbose=1, scoring='accuracy')\n",
    "\n",
    "TransformedData= PowerTransformer().fit_transform(x_train)\n",
    "\n",
    "gs_NB.fit(TransformedData, y_train)\n",
    "\n",
    "df_score= pd.DataFrame.from_dict(gs_NB.cv_results_)\n",
    "\n",
    "var_smoothing= ['1e-10', '1e-9', '1e-5', '1e-3', '1e-1']\n",
    "\n",
    "plt.plot(var_smoothing, df_score.mean_test_score)\n",
    "\n",
    "plt.xlabel(\"Var Smoothing\")\n",
    "plt.ylabel(\"Accuracy\")"
   ]
  },
  {
   "cell_type": "markdown",
   "id": "ac668f45",
   "metadata": {},
   "source": [
    "Figure 1 Accuracy based on number of estimators for Hyper-Parameter Tuning- Label 1 in original dataset "
   ]
  },
  {
   "cell_type": "markdown",
   "id": "521655fe",
   "metadata": {},
   "source": [
    "Initially, the data is split with 80% of the data used for training and 20% percent of the data left for testing. The data is classified using Naive Bayes Classifer with the smoothing parameter being: {1e-10, 1e-9, 1e-5, 1e-3, 1e-1}. The Naive Bayes Classifer is intialized as 'gs_NB'and the K-fold cross validation is used with k being 10 for the trees. 'GridSearchCV' is used to find the best values for the classifier(1). A power transform using the command 'PowerTransformer().fit_transform()' is applied on the training sample to make the data more Gaussian(2). The Mean accuracy of the trained estimators is reported on a plot using the plot command from the Matplot library. From Figure 1, it is clear that by increasing smoothing parameter; the Accuracy improved slightly.  \n",
    "\n",
    "The same algortithm is repeated for each label to find the best Naive Bayes Classifier Parameters for those labels."
   ]
  },
  {
   "cell_type": "markdown",
   "id": "ddb8f377",
   "metadata": {},
   "source": [
    "# Best Parameter Evaluation:"
   ]
  },
  {
   "cell_type": "code",
   "execution_count": 4,
   "id": "27ae0c95",
   "metadata": {},
   "outputs": [
    {
     "data": {
      "text/plain": [
       "{'var_smoothing': 0.1}"
      ]
     },
     "execution_count": 4,
     "metadata": {},
     "output_type": "execute_result"
    }
   ],
   "source": [
    "gs_NB.best_params_"
   ]
  },
  {
   "cell_type": "code",
   "execution_count": 5,
   "id": "2c620144",
   "metadata": {},
   "outputs": [
    {
     "data": {
      "text/plain": [
       "0.9688425925925925"
      ]
     },
     "execution_count": 5,
     "metadata": {},
     "output_type": "execute_result"
    }
   ],
   "source": [
    "gs_NB.best_score_"
   ]
  },
  {
   "cell_type": "code",
   "execution_count": 6,
   "id": "a899555b",
   "metadata": {},
   "outputs": [
    {
     "data": {
      "text/plain": [
       "GaussianNB(var_smoothing=0.1)"
      ]
     },
     "execution_count": 6,
     "metadata": {},
     "output_type": "execute_result"
    }
   ],
   "source": [
    "gs_NB.best_estimator_"
   ]
  },
  {
   "cell_type": "markdown",
   "id": "f2fe4896",
   "metadata": {},
   "source": [
    "Therfore, the best value for smoothing parameter is 1e-1 for the label 1."
   ]
  },
  {
   "cell_type": "markdown",
   "id": "7b8e73c8",
   "metadata": {},
   "source": [
    "# Best Parameter Testing on Test Set:"
   ]
  },
  {
   "cell_type": "code",
   "execution_count": 7,
   "id": "42c93a26",
   "metadata": {},
   "outputs": [
    {
     "name": "stdout",
     "output_type": "stream",
     "text": [
      "Accuracy on Test Set: 0.9601990049751243\n"
     ]
    }
   ],
   "source": [
    "classifier= GaussianNB(var_smoothing= 0.1)\n",
    "classifier.fit(x_train, y_train)\n",
    "\n",
    "predY= classifier.predict(x_test)\n",
    "\n",
    "print('Accuracy on Test Set:', accuracy_score(y_test,predY))"
   ]
  },
  {
   "cell_type": "markdown",
   "id": "e5b89dac",
   "metadata": {},
   "source": [
    "The test accuracy reached 96.01%."
   ]
  },
  {
   "cell_type": "markdown",
   "id": "23c13471",
   "metadata": {},
   "source": [
    "# Hyper-Parameter Tuning- Label 2('Deaths'):"
   ]
  },
  {
   "cell_type": "code",
   "execution_count": 8,
   "id": "f67fe2f5",
   "metadata": {},
   "outputs": [
    {
     "name": "stdout",
     "output_type": "stream",
     "text": [
      "Fitting 10 folds for each of 5 candidates, totalling 50 fits\n"
     ]
    },
    {
     "data": {
      "text/plain": [
       "Text(0, 0.5, 'Accuracy')"
      ]
     },
     "execution_count": 8,
     "metadata": {},
     "output_type": "execute_result"
    },
    {
     "data": {
      "image/png": "[encoded data removed]",
      "text/plain": [
       "<Figure size 432x288 with 1 Axes>"
      ]
     },
     "metadata": {
      "needs_background": "light"
     },
     "output_type": "display_data"
    }
   ],
   "source": [
    "x_train,x_test,y_train,y_test = train_test_split(x,y1,test_size = 0.2, random_state = 0)\n",
    "\n",
    "params_NB= {'var_smoothing': [1e-10, 1e-9, 1e-5, 1e-3, 1e-1]}\n",
    "gs_NB= GridSearchCV(estimator= GaussianNB(), param_grid=params_NB, cv=10, verbose=1, scoring='accuracy')\n",
    "\n",
    "TransformedData= PowerTransformer().fit_transform(x_train)\n",
    "\n",
    "gs_NB.fit(TransformedData, y_train)\n",
    "\n",
    "df_score= pd.DataFrame.from_dict(gs_NB.cv_results_)\n",
    "\n",
    "var_smoothing= ['1e-10', '1e-9', '1e-5', '1e-3', '1e-1']\n",
    "\n",
    "plt.plot(var_smoothing, df_score.mean_test_score)\n",
    "\n",
    "plt.xlabel(\"Var Smoothing\")\n",
    "plt.ylabel(\"Accuracy\")"
   ]
  },
  {
   "cell_type": "markdown",
   "id": "b2850059",
   "metadata": {},
   "source": [
    "Figure 2 Accuracy based on number of estimators for Hyper-Parameter Tuning- Label 2 in original dataset"
   ]
  },
  {
   "cell_type": "markdown",
   "id": "aef45ed2",
   "metadata": {},
   "source": [
    "From Figure 2, It is clear that by increasing smoothing parameter the Accuracy improved slightly. "
   ]
  },
  {
   "cell_type": "markdown",
   "id": "ea6bfd73",
   "metadata": {},
   "source": [
    "# Best Parameter Evaluation:"
   ]
  },
  {
   "cell_type": "code",
   "execution_count": 9,
   "id": "5f2ad8a7",
   "metadata": {},
   "outputs": [
    {
     "data": {
      "text/plain": [
       "{'var_smoothing': 0.1}"
      ]
     },
     "execution_count": 9,
     "metadata": {},
     "output_type": "execute_result"
    }
   ],
   "source": [
    "gs_NB.best_params_"
   ]
  },
  {
   "cell_type": "code",
   "execution_count": 10,
   "id": "6271da5d",
   "metadata": {},
   "outputs": [
    {
     "data": {
      "text/plain": [
       "0.8441358024691358"
      ]
     },
     "execution_count": 10,
     "metadata": {},
     "output_type": "execute_result"
    }
   ],
   "source": [
    "gs_NB.best_score_"
   ]
  },
  {
   "cell_type": "code",
   "execution_count": 11,
   "id": "1d7a9018",
   "metadata": {},
   "outputs": [
    {
     "data": {
      "text/plain": [
       "GaussianNB(var_smoothing=0.1)"
      ]
     },
     "execution_count": 11,
     "metadata": {},
     "output_type": "execute_result"
    }
   ],
   "source": [
    "gs_NB.best_estimator_"
   ]
  },
  {
   "cell_type": "markdown",
   "id": "2007c4af",
   "metadata": {},
   "source": [
    "Therfore, the best value for smoothing parametr is 1e-1 for the label 2."
   ]
  },
  {
   "cell_type": "markdown",
   "id": "941b59ba",
   "metadata": {},
   "source": [
    "# Best Parameter Testing on Test Set:"
   ]
  },
  {
   "cell_type": "code",
   "execution_count": 12,
   "id": "f0d52e1f",
   "metadata": {},
   "outputs": [
    {
     "name": "stdout",
     "output_type": "stream",
     "text": [
      "Accuracy on Test Set: 0.8805970149253731\n"
     ]
    }
   ],
   "source": [
    "classifier= GaussianNB(var_smoothing= 0.1)\n",
    "classifier.fit(x_train, y_train)\n",
    "\n",
    "predY= classifier.predict(x_test)\n",
    "\n",
    "print('Accuracy on Test Set:', accuracy_score(y_test,predY))"
   ]
  },
  {
   "cell_type": "markdown",
   "id": "78906c9e",
   "metadata": {},
   "source": [
    "The test accuracy reached 88.05%."
   ]
  },
  {
   "cell_type": "markdown",
   "id": "50688d81",
   "metadata": {},
   "source": [
    "# Hyper-Parameter Tuning- Label 3('Recovered'):"
   ]
  },
  {
   "cell_type": "code",
   "execution_count": 13,
   "id": "0ab3c6f8",
   "metadata": {},
   "outputs": [
    {
     "name": "stdout",
     "output_type": "stream",
     "text": [
      "Fitting 10 folds for each of 5 candidates, totalling 50 fits\n"
     ]
    },
    {
     "data": {
      "text/plain": [
       "Text(0, 0.5, 'Accuracy')"
      ]
     },
     "execution_count": 13,
     "metadata": {},
     "output_type": "execute_result"
    },
    {
     "data": {
      "image/png": "[encoded data removed]",
      "text/plain": [
       "<Figure size 432x288 with 1 Axes>"
      ]
     },
     "metadata": {
      "needs_background": "light"
     },
     "output_type": "display_data"
    }
   ],
   "source": [
    "x_train,x_test,y_train,y_test = train_test_split(x,y2,test_size = 0.2, random_state = 0)\n",
    "\n",
    "params_NB= {'var_smoothing': [1e-10, 1e-9, 1e-5, 1e-3, 1e-1]}\n",
    "gs_NB= GridSearchCV(estimator= GaussianNB(), param_grid=params_NB, cv=10, verbose=1, scoring='accuracy')\n",
    "\n",
    "TransformedData= PowerTransformer().fit_transform(x_train)\n",
    "\n",
    "gs_NB.fit(TransformedData, y_train)\n",
    "\n",
    "df_score= pd.DataFrame.from_dict(gs_NB.cv_results_)\n",
    "\n",
    "var_smoothing= ['1e-10', '1e-9', '1e-5', '1e-3', '1e-1']\n",
    "\n",
    "plt.plot(var_smoothing, df_score.mean_test_score)\n",
    "\n",
    "plt.xlabel(\"Var Smoothing\")\n",
    "plt.ylabel(\"Accuracy\")"
   ]
  },
  {
   "cell_type": "markdown",
   "id": "fe52235b",
   "metadata": {},
   "source": [
    "Figure 3 Accuracy based on number of estimators for Hyper-Parameter Tuning-Label 3 in original dataset."
   ]
  },
  {
   "cell_type": "markdown",
   "id": "7e1c8ac7",
   "metadata": {},
   "source": [
    "From Figure 3, it is clear that by increasing smoothing parameter the Accuracy went down slightly. "
   ]
  },
  {
   "cell_type": "markdown",
   "id": "e4c3a970",
   "metadata": {},
   "source": [
    "# Best Parameter Evaluation:"
   ]
  },
  {
   "cell_type": "code",
   "execution_count": 14,
   "id": "571128b5",
   "metadata": {},
   "outputs": [
    {
     "data": {
      "text/plain": [
       "{'var_smoothing': 1e-10}"
      ]
     },
     "execution_count": 14,
     "metadata": {},
     "output_type": "execute_result"
    }
   ],
   "source": [
    "gs_NB.best_params_"
   ]
  },
  {
   "cell_type": "code",
   "execution_count": 15,
   "id": "2a9c9d46",
   "metadata": {},
   "outputs": [
    {
     "data": {
      "text/plain": [
       "0.7057716049382716"
      ]
     },
     "execution_count": 15,
     "metadata": {},
     "output_type": "execute_result"
    }
   ],
   "source": [
    "gs_NB.best_score_"
   ]
  },
  {
   "cell_type": "code",
   "execution_count": 16,
   "id": "c831e70e",
   "metadata": {},
   "outputs": [
    {
     "data": {
      "text/plain": [
       "GaussianNB(var_smoothing=1e-10)"
      ]
     },
     "execution_count": 16,
     "metadata": {},
     "output_type": "execute_result"
    }
   ],
   "source": [
    "gs_NB.best_estimator_"
   ]
  },
  {
   "cell_type": "markdown",
   "id": "82315da4",
   "metadata": {},
   "source": [
    "Therfore, the best value for smoothing parametr is 1e-10 for the label 3. "
   ]
  },
  {
   "cell_type": "markdown",
   "id": "0c05b9c1",
   "metadata": {},
   "source": [
    "# Best Parameter Testing on Test Set:"
   ]
  },
  {
   "cell_type": "code",
   "execution_count": 17,
   "id": "4c8e76bb",
   "metadata": {},
   "outputs": [
    {
     "name": "stdout",
     "output_type": "stream",
     "text": [
      "Accuracy on Test Set: 0.7014925373134329\n"
     ]
    }
   ],
   "source": [
    "classifier= GaussianNB(var_smoothing= 1e-10)\n",
    "classifier.fit(x_train, y_train)\n",
    "\n",
    "predY= classifier.predict(x_test)\n",
    "\n",
    "print('Accuracy on Test Set:', accuracy_score(y_test,predY))"
   ]
  },
  {
   "cell_type": "markdown",
   "id": "592a7227",
   "metadata": {},
   "source": [
    "The test accuracy reached 70.14%."
   ]
  },
  {
   "cell_type": "markdown",
   "id": "c01ad3de",
   "metadata": {},
   "source": [
    "# Conclusion"
   ]
  },
  {
   "cell_type": "markdown",
   "id": "5159bab2",
   "metadata": {},
   "source": [
    "It is clear that by increasing smoothing parameter the Accuracy improved slightly for the first two labels. However, it went down for the third label. "
   ]
  },
  {
   "cell_type": "markdown",
   "id": "c086bdc2",
   "metadata": {},
   "source": [
    "# References:"
   ]
  },
  {
   "cell_type": "markdown",
   "id": "bda260b0",
   "metadata": {},
   "source": [
    "(1) https://scikit-learn.org/stable/modules/generated/sklearn.model_selection.GridSearchCV.html\n",
    "\n",
    "(2) https://scikit-learn.org/stable/modules/generated/sklearn.preprocessing.PowerTransformer.html"
   ]
  }
 ],
 "metadata": {
  "kernelspec": {
   "display_name": "Python 3",
   "language": "python",
   "name": "python3"
  },
  "language_info": {
   "codemirror_mode": {
    "name": "ipython",
    "version": 3
   },
   "file_extension": ".py",
   "mimetype": "text/x-python",
   "name": "python",
   "nbconvert_exporter": "python",
   "pygments_lexer": "ipython3",
   "version": "3.9.5"
  }
 },
 "nbformat": 4,
 "nbformat_minor": 5
}
