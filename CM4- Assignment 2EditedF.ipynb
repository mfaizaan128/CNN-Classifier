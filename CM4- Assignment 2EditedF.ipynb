{
 "cells": [
  {
   "cell_type": "code",
   "execution_count": 1,
   "id": "2da85819",
   "metadata": {},
   "outputs": [],
   "source": [
    "import numpy as npb\n",
    "import pandas as pd \n",
    "from sklearn.tree import DecisionTreeClassifier\n",
    "from sklearn.metrics import accuracy_score\n",
    "import matplotlib.pyplot as plt\n",
    "from sklearn.model_selection import GridSearchCV, RandomizedSearchCV,train_test_split\n",
    "df= pd.read_csv('df-filteredfinalN.csv')\n",
    "from six import StringIO  \n",
    "from sklearn.tree import export_graphviz\n",
    "import pydotplus\n",
    "from sklearn.ensemble import RandomForestClassifier\n",
    "import seaborn as sns\n",
    "\n"
   ]
  },
  {
   "cell_type": "markdown",
   "id": "3e19e539",
   "metadata": {},
   "source": [
    "The following code aims to demonstrate the use of a Random Forest Classifier on the original features in the provided dataset and on a hybrid dataset that was found using the PCA features.The two csv files named 'df-filteredfinalN.csv' and 'PCAFeatures.csv' are used for loading the original dataset and the hybrid dataset respectively."
   ]
  },
  {
   "cell_type": "markdown",
   "id": "ce6fa3e7",
   "metadata": {},
   "source": [
    "# 1. Original Dataset Features:"
   ]
  },
  {
   "cell_type": "markdown",
   "id": "65a1041a",
   "metadata": {},
   "source": [
    "# Hyper-Parameter Tuning- Label 1('Confirmed'):"
   ]
  },
  {
   "cell_type": "code",
   "execution_count": 2,
   "id": "772cf68d",
   "metadata": {},
   "outputs": [
    {
     "name": "stderr",
     "output_type": "stream",
     "text": [
      "c:\\python\\python39\\lib\\site-packages\\sklearn\\model_selection\\_search.py:285: UserWarning: The total space of parameters 20 is smaller than n_iter=200. Running 20 iterations. For exhaustive searches, use GridSearchCV.\n",
      "  warnings.warn(\n"
     ]
    },
    {
     "name": "stdout",
     "output_type": "stream",
     "text": [
      "Fitting 10 folds for each of 20 candidates, totalling 200 fits\n"
     ]
    },
    {
     "data": {
      "image/png": "[encoded data removed]",
      "text/plain": [
       "<Figure size 1080x576 with 2 Axes>"
      ]
     },
     "metadata": {
      "needs_background": "light"
     },
     "output_type": "display_data"
    }
   ],
   "source": [
    "x=df[['Day','State ID','Lat','Long_','Incident_Rate','Active','Total_Test_Results','Case_Fatality_Ratio','Testing_Rate','Density Rank 2020 Census','SexRatio']].values\n",
    "\n",
    "y=df['Confirmed'].values\n",
    "\n",
    "x_train,x_test,y_train,y_test = train_test_split(x,y,test_size = 0.2, random_state = 0)\n",
    "\n",
    "grid_param = {'n_estimators': [5,10,50,150,200],\n",
    "             'max_depth':[3,5,10,None], 'random_state':[0]}\n",
    "random_forest= RandomForestClassifier()\n",
    "\n",
    "random_grid= RandomizedSearchCV(estimator= random_forest, param_distributions=grid_param, n_iter=200, cv=10, verbose=1, random_state=42,n_jobs=-1)\n",
    "random_grid.fit(x_train,y_train)\n",
    "ac_df=pd.DataFrame(random_grid.cv_results_['params'])\n",
    "ac_df[\"accuracy\"]=random_grid.cv_results_['mean_test_score']\n",
    "ac_df=ac_df.pivot(index='max_depth',columns='n_estimators',values='accuracy')\n",
    "plt.figure(figsize=(15,8))\n",
    "sns.heatmap(data=ac_df,cmap='RdBu_r',\n",
    "            annot=True,\n",
    "            linewidth=0.5)\n",
    "plt.title(\"Accuracy plot for Train data\")\n",
    "plt.show()"
   ]
  },
  {
   "cell_type": "markdown",
   "id": "16a1ea9a",
   "metadata": {},
   "source": [
    "Figure 1 Accuracy plot for train data based on number of estimators and maximum depth in Hyper-Parameter Tuning- Label 1 for orginal database"
   ]
  },
  {
   "cell_type": "markdown",
   "id": "7354ff95",
   "metadata": {},
   "source": [
    "Initially, the data is split with 80% of the data used for training and 20% percent of the data left for testing. The Random Forest Classifier is intialiazed with max depth being:{3,5,10,None}(1). The data is classified using Decision trees with the number of trees being: {5,10,50,150,200}. K-fold cross validation is used with k being 10 for the trees. 'RandomizedSearchCV' is used to find the best values for the classifier(2). The accuracy of the trained estimators is reported on a heat plot using the heatmap command from the Seaborn library(3)."
   ]
  },
  {
   "cell_type": "markdown",
   "id": "4776e6c1",
   "metadata": {},
   "source": [
    "# Best Parameter Evaluation:"
   ]
  },
  {
   "cell_type": "code",
   "execution_count": 3,
   "id": "58781475",
   "metadata": {},
   "outputs": [
    {
     "data": {
      "text/plain": [
       "{'random_state': 0, 'n_estimators': 10, 'max_depth': 3}"
      ]
     },
     "execution_count": 3,
     "metadata": {},
     "output_type": "execute_result"
    }
   ],
   "source": [
    "random_grid.best_params_"
   ]
  },
  {
   "cell_type": "code",
   "execution_count": 4,
   "id": "22276ea1",
   "metadata": {},
   "outputs": [
    {
     "data": {
      "text/plain": [
       "0.9713425925925925"
      ]
     },
     "execution_count": 4,
     "metadata": {},
     "output_type": "execute_result"
    }
   ],
   "source": [
    "random_grid.best_score_"
   ]
  },
  {
   "cell_type": "code",
   "execution_count": 5,
   "id": "e1e21d4f",
   "metadata": {},
   "outputs": [
    {
     "data": {
      "text/plain": [
       "RandomForestClassifier(max_depth=3, n_estimators=10, random_state=0)"
      ]
     },
     "execution_count": 5,
     "metadata": {},
     "output_type": "execute_result"
    }
   ],
   "source": [
    "random_grid.best_estimator_"
   ]
  },
  {
   "cell_type": "markdown",
   "id": "e75b6d78",
   "metadata": {},
   "source": [
    "The best parameter for the Random Forest Classifier is the one that has a max-depth of 3 with the number of trees being 10."
   ]
  },
  {
   "cell_type": "markdown",
   "id": "1115b14d",
   "metadata": {},
   "source": [
    "# Parameter Testing:"
   ]
  },
  {
   "cell_type": "code",
   "execution_count": 6,
   "id": "a520e28f",
   "metadata": {},
   "outputs": [
    {
     "name": "stdout",
     "output_type": "stream",
     "text": [
      "Accuracy on test set:  0.9601990049751243\n"
     ]
    }
   ],
   "source": [
    "random_forest= RandomForestClassifier(max_depth=3, n_estimators=10, random_state=0)\n",
    "random_forest.fit(x_train,y_train)\n",
    "y_pred=random_forest.predict(x_test)\n",
    "print(\"Accuracy on test set: \" ,accuracy_score(y_test,y_pred))"
   ]
  },
  {
   "cell_type": "markdown",
   "id": "10a1a143",
   "metadata": {},
   "source": [
    "The accuracy of the test set for the trained classifier is approximately 96 percent and this shows that the classifier is great at predicting the output for the label with less than 5 percent of error."
   ]
  },
  {
   "cell_type": "markdown",
   "id": "105d53df",
   "metadata": {},
   "source": [
    "# Hyper-Parameter Tuning- Label 2('Deaths'):"
   ]
  },
  {
   "cell_type": "code",
   "execution_count": 7,
   "id": "88aecccd",
   "metadata": {
    "scrolled": false
   },
   "outputs": [
    {
     "name": "stderr",
     "output_type": "stream",
     "text": [
      "c:\\python\\python39\\lib\\site-packages\\sklearn\\model_selection\\_search.py:285: UserWarning: The total space of parameters 20 is smaller than n_iter=200. Running 20 iterations. For exhaustive searches, use GridSearchCV.\n",
      "  warnings.warn(\n"
     ]
    },
    {
     "name": "stdout",
     "output_type": "stream",
     "text": [
      "Fitting 10 folds for each of 20 candidates, totalling 200 fits\n"
     ]
    },
    {
     "data": {
      "image/png": "[encoded data removed]",
      "text/plain": [
       "<Figure size 1080x576 with 2 Axes>"
      ]
     },
     "metadata": {
      "needs_background": "light"
     },
     "output_type": "display_data"
    }
   ],
   "source": [
    "x=df[['Day','State ID','Lat','Long_','Incident_Rate','Active','Total_Test_Results','Case_Fatality_Ratio','Testing_Rate','Density Rank 2020 Census','SexRatio']].values\n",
    "\n",
    "y1=df['Deaths'].values\n",
    "\n",
    "x_train,x_test,y_train,y_test = train_test_split(x,y1,test_size = 0.2, random_state = 0)\n",
    "\n",
    "grid_param = {'n_estimators': [5,10,50,150,200],\n",
    "             'max_depth':[3,5,10,None], 'random_state':[0]}\n",
    "random_forest= RandomForestClassifier()\n",
    "\n",
    "random_grid= RandomizedSearchCV(estimator= random_forest, param_distributions=grid_param, n_iter=200, cv=10, verbose=1, random_state=42,n_jobs=-1)\n",
    "\n",
    "random_grid.fit(x_train,y_train)\n",
    "\n",
    "ac_df=pd.DataFrame(random_grid.cv_results_['params'])\n",
    "ac_df[\"accuracy\"]=random_grid.cv_results_['mean_test_score']\n",
    "ac_df=ac_df.pivot(index='max_depth',columns='n_estimators',values='accuracy')\n",
    "plt.figure(figsize=(15,8))\n",
    "sns.heatmap(data=ac_df,cmap='RdBu_r',\n",
    "            annot=True,\n",
    "            linewidth=0.5)\n",
    "plt.title(\"Accuracy plot for Train data\")\n",
    "plt.show()"
   ]
  },
  {
   "cell_type": "markdown",
   "id": "43ff125e",
   "metadata": {},
   "source": [
    "Figure 2 Accuracy plot for train data based on number of estimators and maximum depth in Hyper-Parameter Tuning- Label 2 for orginal database"
   ]
  },
  {
   "cell_type": "markdown",
   "id": "676db28c",
   "metadata": {},
   "source": [
    "Initially, the data is split with 80% of the data used for training and 20% percent of the data left for testing. The Random Forest Classifier is intialiazed with max depth being:{3,5,10,None}(1). The data is classified using Decision trees with the number of trees being: {5,10,50,150,200}. K-fold cross validation is used with k being 10 for the trees. 'RandomizedSearchCV' is used to find the best values for the classifier(2). The accuracy of the trained estimators is reported on a heat plot using the heatmap command from the Seaborn library(3)."
   ]
  },
  {
   "cell_type": "markdown",
   "id": "0629411c",
   "metadata": {},
   "source": [
    "# Best Parameter Evaluation:"
   ]
  },
  {
   "cell_type": "code",
   "execution_count": 8,
   "id": "71bd2f1b",
   "metadata": {
    "scrolled": true
   },
   "outputs": [
    {
     "data": {
      "text/plain": [
       "{'random_state': 0, 'n_estimators': 10, 'max_depth': 3}"
      ]
     },
     "execution_count": 8,
     "metadata": {},
     "output_type": "execute_result"
    }
   ],
   "source": [
    "random_grid.best_params_"
   ]
  },
  {
   "cell_type": "code",
   "execution_count": 9,
   "id": "81898a1e",
   "metadata": {},
   "outputs": [
    {
     "data": {
      "text/plain": [
       "0.9389197530864198"
      ]
     },
     "execution_count": 9,
     "metadata": {},
     "output_type": "execute_result"
    }
   ],
   "source": [
    "random_grid.best_score_"
   ]
  },
  {
   "cell_type": "code",
   "execution_count": 10,
   "id": "d9384e55",
   "metadata": {},
   "outputs": [
    {
     "data": {
      "text/plain": [
       "RandomForestClassifier(max_depth=3, n_estimators=10, random_state=0)"
      ]
     },
     "execution_count": 10,
     "metadata": {},
     "output_type": "execute_result"
    }
   ],
   "source": [
    "random_grid.best_estimator_"
   ]
  },
  {
   "cell_type": "markdown",
   "id": "5b03596e",
   "metadata": {},
   "source": [
    "The best parameter for the Random Forest Classifier is the one that has a max-depth of 3 with the number of trees being 10."
   ]
  },
  {
   "cell_type": "markdown",
   "id": "772bc852",
   "metadata": {},
   "source": [
    "# Parameter Testing:"
   ]
  },
  {
   "cell_type": "code",
   "execution_count": 11,
   "id": "b4725e61",
   "metadata": {},
   "outputs": [
    {
     "name": "stdout",
     "output_type": "stream",
     "text": [
      "Accuracy on test set:  0.9353233830845771\n"
     ]
    }
   ],
   "source": [
    "random_forest= RandomForestClassifier(max_depth=3, n_estimators=10, random_state=0)\n",
    "random_forest.fit(x_train,y_train)\n",
    "y_pred=random_forest.predict(x_test)\n",
    "print(\"Accuracy on test set: \" ,accuracy_score(y_test,y_pred))"
   ]
  },
  {
   "cell_type": "markdown",
   "id": "ca05604e",
   "metadata": {},
   "source": [
    "The accuracy of the test set for the trained classifier is approximately 93.53 percent and this shows that the classifier is great at predicting the output for the label with less than 7 percent of error."
   ]
  },
  {
   "cell_type": "markdown",
   "id": "caa61fa3",
   "metadata": {},
   "source": [
    "# Hyper-Parameter Tuning- Label 3('Recovered'):"
   ]
  },
  {
   "cell_type": "code",
   "execution_count": 12,
   "id": "2bd3f0ab",
   "metadata": {},
   "outputs": [
    {
     "name": "stdout",
     "output_type": "stream",
     "text": [
      "Fitting 10 folds for each of 20 candidates, totalling 200 fits\n"
     ]
    },
    {
     "name": "stderr",
     "output_type": "stream",
     "text": [
      "c:\\python\\python39\\lib\\site-packages\\sklearn\\model_selection\\_search.py:285: UserWarning: The total space of parameters 20 is smaller than n_iter=200. Running 20 iterations. For exhaustive searches, use GridSearchCV.\n",
      "  warnings.warn(\n"
     ]
    },
    {
     "data": {
      "image/png": "[encoded data removed]",
      "text/plain": [
       "<Figure size 1080x576 with 2 Axes>"
      ]
     },
     "metadata": {
      "needs_background": "light"
     },
     "output_type": "display_data"
    }
   ],
   "source": [
    "x=df[['Day','State ID','Lat','Long_','Incident_Rate','Active','Total_Test_Results','Case_Fatality_Ratio','Testing_Rate','Density Rank 2020 Census','SexRatio']].values\n",
    "\n",
    "y2=df['Recovered'].values\n",
    "\n",
    "x_train,x_test,y_train,y_test = train_test_split(x,y2,test_size = 0.2, random_state = 0)\n",
    "\n",
    "grid_param = {'n_estimators': [5,10,50,150,200],\n",
    "             'max_depth':[3,5,10,None], 'random_state':[0]}\n",
    "random_forest= RandomForestClassifier()\n",
    "\n",
    "random_grid= RandomizedSearchCV(estimator= random_forest, param_distributions=grid_param, n_iter=200, cv=10, verbose=1, random_state=42,n_jobs=-1)\n",
    "\n",
    "random_grid.fit(x_train,y_train)\n",
    "\n",
    "ac_df=pd.DataFrame(random_grid.cv_results_['params'])\n",
    "\n",
    "ac_df[\"accuracy\"]=random_grid.cv_results_['mean_test_score']\n",
    "\n",
    "ac_df=ac_df.pivot(index='max_depth',columns='n_estimators',values='accuracy')\n",
    "plt.figure(figsize=(15,8))\n",
    "sns.heatmap(data=ac_df,cmap='RdBu_r',\n",
    "            annot=True,\n",
    "            linewidth=0.5)\n",
    "plt.title(\"Accuracy plot for Train data\")\n",
    "plt.show()"
   ]
  },
  {
   "cell_type": "markdown",
   "id": "c43ce007",
   "metadata": {},
   "source": [
    "Figure 3 Accuracy plot for train data based on number of estimators and maximum depth in Hyper-Parameter Tuning- Label 3 for orginal database"
   ]
  },
  {
   "cell_type": "markdown",
   "id": "09b0e8c2",
   "metadata": {},
   "source": [
    "Initially, the data is split with 80% of the data used for training and 20% percent of the data left for testing. The Random Forest Classifier is intialiazed with max depth being:{3,5,10,None}(1). The data is classified using Decision trees with the number of trees being: {5,10,50,150,200}. K-fold cross validation is used with k being 10 for the trees.'RandomizedSearchCV' is used to find the best values for the classifier(2). The accuracy of the trained estimators is reported on a heat plot using the heatmap command from the Seaborn library(3)."
   ]
  },
  {
   "cell_type": "markdown",
   "id": "31a55ed7",
   "metadata": {},
   "source": [
    "# Best Parameter Evaluation:"
   ]
  },
  {
   "cell_type": "code",
   "execution_count": 13,
   "id": "417d29af",
   "metadata": {
    "scrolled": true
   },
   "outputs": [
    {
     "data": {
      "text/plain": [
       "{'random_state': 0, 'n_estimators': 150, 'max_depth': 5}"
      ]
     },
     "execution_count": 13,
     "metadata": {},
     "output_type": "execute_result"
    }
   ],
   "source": [
    "random_grid.best_params_"
   ]
  },
  {
   "cell_type": "code",
   "execution_count": 14,
   "id": "3f2d6ea7",
   "metadata": {},
   "outputs": [
    {
     "data": {
      "text/plain": [
       "0.9176697530864197"
      ]
     },
     "execution_count": 14,
     "metadata": {},
     "output_type": "execute_result"
    }
   ],
   "source": [
    "random_grid.best_score_"
   ]
  },
  {
   "cell_type": "code",
   "execution_count": 15,
   "id": "dd91de51",
   "metadata": {
    "scrolled": true
   },
   "outputs": [
    {
     "data": {
      "text/plain": [
       "RandomForestClassifier(max_depth=5, n_estimators=150, random_state=0)"
      ]
     },
     "execution_count": 15,
     "metadata": {},
     "output_type": "execute_result"
    }
   ],
   "source": [
    "random_grid.best_estimator_"
   ]
  },
  {
   "cell_type": "markdown",
   "id": "fb88e87e",
   "metadata": {},
   "source": [
    "The best parameter for the Random Forest Classifier is the one that has a max-depth of 5 with the number of trees being 150."
   ]
  },
  {
   "cell_type": "markdown",
   "id": "e910b283",
   "metadata": {},
   "source": [
    "# Parameter Testing:"
   ]
  },
  {
   "cell_type": "code",
   "execution_count": 16,
   "id": "cd7e10da",
   "metadata": {},
   "outputs": [
    {
     "name": "stdout",
     "output_type": "stream",
     "text": [
      "Accuracy on test set:  0.945273631840796\n"
     ]
    }
   ],
   "source": [
    "random_forest= RandomForestClassifier(max_depth=5, n_estimators=150, random_state=0)\n",
    "random_forest.fit(x_train,y_train)\n",
    "y_pred=random_forest.predict(x_test)\n",
    "print(\"Accuracy on test set: \" ,accuracy_score(y_test,y_pred))"
   ]
  },
  {
   "cell_type": "markdown",
   "id": "2ab70d05",
   "metadata": {},
   "source": [
    "The accuracy of the test set for the trained classifier is approximately 94.53 percent and this shows that the classifier is great at predicting the output for the label with less than 6 percent of error."
   ]
  },
  {
   "cell_type": "markdown",
   "id": "9d731427",
   "metadata": {},
   "source": [
    "# 2. PCA Features:"
   ]
  },
  {
   "cell_type": "code",
   "execution_count": 17,
   "id": "ad87fcda",
   "metadata": {},
   "outputs": [
    {
     "data": {
      "text/html": [
       "<div>\n",
       "<style scoped>\n",
       "    .dataframe tbody tr th:only-of-type {\n",
       "        vertical-align: middle;\n",
       "    }\n",
       "\n",
       "    .dataframe tbody tr th {\n",
       "        vertical-align: top;\n",
       "    }\n",
       "\n",
       "    .dataframe thead th {\n",
       "        text-align: right;\n",
       "    }\n",
       "</style>\n",
       "<table border=\"1\" class=\"dataframe\">\n",
       "  <thead>\n",
       "    <tr style=\"text-align: right;\">\n",
       "      <th></th>\n",
       "      <th>PC1</th>\n",
       "      <th>PC2</th>\n",
       "      <th>PC3</th>\n",
       "      <th>PC4</th>\n",
       "      <th>PC5</th>\n",
       "      <th>PC6</th>\n",
       "      <th>PC7</th>\n",
       "      <th>PC8</th>\n",
       "    </tr>\n",
       "  </thead>\n",
       "  <tbody>\n",
       "    <tr>\n",
       "      <th>count</th>\n",
       "      <td>1.003000e+03</td>\n",
       "      <td>1003.000000</td>\n",
       "      <td>1.003000e+03</td>\n",
       "      <td>1.003000e+03</td>\n",
       "      <td>1.003000e+03</td>\n",
       "      <td>1.003000e+03</td>\n",
       "      <td>1.003000e+03</td>\n",
       "      <td>1.003000e+03</td>\n",
       "    </tr>\n",
       "    <tr>\n",
       "      <th>mean</th>\n",
       "      <td>-8.855219e-19</td>\n",
       "      <td>0.000000</td>\n",
       "      <td>1.416835e-17</td>\n",
       "      <td>1.133468e-16</td>\n",
       "      <td>3.542087e-17</td>\n",
       "      <td>2.125252e-17</td>\n",
       "      <td>4.250505e-17</td>\n",
       "      <td>-1.416835e-17</td>\n",
       "    </tr>\n",
       "    <tr>\n",
       "      <th>std</th>\n",
       "      <td>1.896813e+00</td>\n",
       "      <td>1.316211</td>\n",
       "      <td>1.124108e+00</td>\n",
       "      <td>1.072333e+00</td>\n",
       "      <td>9.409481e-01</td>\n",
       "      <td>8.106868e-01</td>\n",
       "      <td>7.809744e-01</td>\n",
       "      <td>7.365326e-01</td>\n",
       "    </tr>\n",
       "    <tr>\n",
       "      <th>min</th>\n",
       "      <td>-3.395668e+00</td>\n",
       "      <td>-2.586852</td>\n",
       "      <td>-2.378357e+00</td>\n",
       "      <td>-2.611054e+00</td>\n",
       "      <td>-1.805029e+00</td>\n",
       "      <td>-1.503267e+00</td>\n",
       "      <td>-1.670704e+00</td>\n",
       "      <td>-1.283876e+00</td>\n",
       "    </tr>\n",
       "    <tr>\n",
       "      <th>25%</th>\n",
       "      <td>-1.473418e+00</td>\n",
       "      <td>-0.984843</td>\n",
       "      <td>-6.715774e-01</td>\n",
       "      <td>-8.501743e-01</td>\n",
       "      <td>-7.552188e-01</td>\n",
       "      <td>-5.121509e-01</td>\n",
       "      <td>-5.703046e-01</td>\n",
       "      <td>-5.730587e-01</td>\n",
       "    </tr>\n",
       "    <tr>\n",
       "      <th>50%</th>\n",
       "      <td>-2.873339e-01</td>\n",
       "      <td>0.014709</td>\n",
       "      <td>-8.730318e-02</td>\n",
       "      <td>-7.964920e-03</td>\n",
       "      <td>-8.020204e-02</td>\n",
       "      <td>-9.424572e-02</td>\n",
       "      <td>-8.949131e-02</td>\n",
       "      <td>-9.327186e-02</td>\n",
       "    </tr>\n",
       "    <tr>\n",
       "      <th>75%</th>\n",
       "      <td>1.332222e+00</td>\n",
       "      <td>0.881105</td>\n",
       "      <td>6.007261e-01</td>\n",
       "      <td>8.309940e-01</td>\n",
       "      <td>7.481521e-01</td>\n",
       "      <td>2.971319e-01</td>\n",
       "      <td>4.938777e-01</td>\n",
       "      <td>4.927044e-01</td>\n",
       "    </tr>\n",
       "    <tr>\n",
       "      <th>max</th>\n",
       "      <td>3.634080e+00</td>\n",
       "      <td>4.258121</td>\n",
       "      <td>2.692125e+00</td>\n",
       "      <td>2.696974e+00</td>\n",
       "      <td>2.599336e+00</td>\n",
       "      <td>2.738488e+00</td>\n",
       "      <td>2.381606e+00</td>\n",
       "      <td>1.795647e+00</td>\n",
       "    </tr>\n",
       "  </tbody>\n",
       "</table>\n",
       "</div>"
      ],
      "text/plain": [
       "                PC1          PC2           PC3           PC4           PC5  \\\n",
       "count  1.003000e+03  1003.000000  1.003000e+03  1.003000e+03  1.003000e+03   \n",
       "mean  -8.855219e-19     0.000000  1.416835e-17  1.133468e-16  3.542087e-17   \n",
       "std    1.896813e+00     1.316211  1.124108e+00  1.072333e+00  9.409481e-01   \n",
       "min   -3.395668e+00    -2.586852 -2.378357e+00 -2.611054e+00 -1.805029e+00   \n",
       "25%   -1.473418e+00    -0.984843 -6.715774e-01 -8.501743e-01 -7.552188e-01   \n",
       "50%   -2.873339e-01     0.014709 -8.730318e-02 -7.964920e-03 -8.020204e-02   \n",
       "75%    1.332222e+00     0.881105  6.007261e-01  8.309940e-01  7.481521e-01   \n",
       "max    3.634080e+00     4.258121  2.692125e+00  2.696974e+00  2.599336e+00   \n",
       "\n",
       "                PC6           PC7           PC8  \n",
       "count  1.003000e+03  1.003000e+03  1.003000e+03  \n",
       "mean   2.125252e-17  4.250505e-17 -1.416835e-17  \n",
       "std    8.106868e-01  7.809744e-01  7.365326e-01  \n",
       "min   -1.503267e+00 -1.670704e+00 -1.283876e+00  \n",
       "25%   -5.121509e-01 -5.703046e-01 -5.730587e-01  \n",
       "50%   -9.424572e-02 -8.949131e-02 -9.327186e-02  \n",
       "75%    2.971319e-01  4.938777e-01  4.927044e-01  \n",
       "max    2.738488e+00  2.381606e+00  1.795647e+00  "
      ]
     },
     "execution_count": 17,
     "metadata": {},
     "output_type": "execute_result"
    }
   ],
   "source": [
    "pcaf=pd.read_csv('PCAFeatures.csv')\n",
    "pcaf.describe()"
   ]
  },
  {
   "cell_type": "markdown",
   "id": "c5446cfb",
   "metadata": {},
   "source": [
    "# Hyper-Parameter Tuning- Label 1('Confirmed'):"
   ]
  },
  {
   "cell_type": "code",
   "execution_count": 18,
   "id": "9467c432",
   "metadata": {},
   "outputs": [
    {
     "name": "stdout",
     "output_type": "stream",
     "text": [
      "Fitting 10 folds for each of 20 candidates, totalling 200 fits\n"
     ]
    },
    {
     "name": "stderr",
     "output_type": "stream",
     "text": [
      "c:\\python\\python39\\lib\\site-packages\\sklearn\\model_selection\\_search.py:285: UserWarning: The total space of parameters 20 is smaller than n_iter=200. Running 20 iterations. For exhaustive searches, use GridSearchCV.\n",
      "  warnings.warn(\n"
     ]
    },
    {
     "data": {
      "image/png": "[encoded data removed]",
      "text/plain": [
       "<Figure size 1080x576 with 2 Axes>"
      ]
     },
     "metadata": {
      "needs_background": "light"
     },
     "output_type": "display_data"
    }
   ],
   "source": [
    "x=pcaf[['PC1','PC2','PC3','PC4','PC5','PC6','PC7','PC8']].values\n",
    "\n",
    "y=pcaf['Confirmed'].values\n",
    "\n",
    "x_train,x_test,y_train,y_test = train_test_split(x,y,test_size = 0.2, random_state = 0)\n",
    "\n",
    "grid_param = {'n_estimators': [5,10,50,150,200],\n",
    "             'max_depth':[3,5,10,None], 'random_state':[0]}\n",
    "random_forest= RandomForestClassifier()\n",
    "\n",
    "random_grid= RandomizedSearchCV(estimator= random_forest, param_distributions=grid_param, n_iter=200, cv=10, verbose=1, random_state=42,n_jobs=-1)\n",
    "\n",
    "random_grid.fit(x_train,y_train)\n",
    "\n",
    "ac_df=pd.DataFrame(random_grid.cv_results_['params'])\n",
    "\n",
    "ac_df[\"accuracy\"]=random_grid.cv_results_['mean_test_score']\n",
    "\n",
    "ac_df=ac_df.pivot(index='max_depth',columns='n_estimators',values='accuracy')\n",
    "plt.figure(figsize=(15,8))\n",
    "sns.heatmap(data=ac_df,cmap='RdBu_r',\n",
    "            annot=True,\n",
    "            linewidth=0.5)\n",
    "plt.title(\"Accuracy plot for Train data\")\n",
    "plt.show()"
   ]
  },
  {
   "cell_type": "markdown",
   "id": "72bf66e8",
   "metadata": {},
   "source": [
    "Figure 4 Accuracy plot for train data based on number of estimators and maximum depth in Hyper-Parameter Tuning- Label 1 for extracted feature by PCA"
   ]
  },
  {
   "cell_type": "markdown",
   "id": "caeb4c3a",
   "metadata": {},
   "source": [
    "Initially, the data is split with 80% of the data used for training and 20% percent of the data left for testing. The Random Forest Classifier is intialiazed with max depth being:{3,5,10,None}(1). The data is classified using Decision trees with the number of trees being: {5,10,50,150,200}. K-fold cross validation is used with k being 10 for the trees.'RandomizedSearchCV' is used to find the best values for the classifier(2). The accuracy of the trained estimators is reported on a heat plot using the heatmap command from the Seaborn library(3)."
   ]
  },
  {
   "cell_type": "markdown",
   "id": "c998f4b6",
   "metadata": {},
   "source": [
    "# Best Parameter Evaluation:"
   ]
  },
  {
   "cell_type": "code",
   "execution_count": 19,
   "id": "3dfc0824",
   "metadata": {},
   "outputs": [
    {
     "data": {
      "text/plain": [
       "{'random_state': 0, 'n_estimators': 5, 'max_depth': 3}"
      ]
     },
     "execution_count": 19,
     "metadata": {},
     "output_type": "execute_result"
    }
   ],
   "source": [
    "random_grid.best_params_"
   ]
  },
  {
   "cell_type": "code",
   "execution_count": 20,
   "id": "30bcc8ee",
   "metadata": {},
   "outputs": [
    {
     "data": {
      "text/plain": [
       "0.9713425925925925"
      ]
     },
     "execution_count": 20,
     "metadata": {},
     "output_type": "execute_result"
    }
   ],
   "source": [
    "random_grid.best_score_"
   ]
  },
  {
   "cell_type": "code",
   "execution_count": 21,
   "id": "89f5409d",
   "metadata": {
    "scrolled": true
   },
   "outputs": [
    {
     "data": {
      "text/plain": [
       "RandomForestClassifier(max_depth=3, n_estimators=5, random_state=0)"
      ]
     },
     "execution_count": 21,
     "metadata": {},
     "output_type": "execute_result"
    }
   ],
   "source": [
    "random_grid.best_estimator_"
   ]
  },
  {
   "cell_type": "markdown",
   "id": "3d638176",
   "metadata": {},
   "source": [
    "The best parameter for the Random Forest Classifier is the one that has a max-depth of 3 with the number of trees being 5."
   ]
  },
  {
   "cell_type": "markdown",
   "id": "d3740ba5",
   "metadata": {},
   "source": [
    "# Parameter Testing:"
   ]
  },
  {
   "cell_type": "code",
   "execution_count": 22,
   "id": "5edba382",
   "metadata": {},
   "outputs": [
    {
     "name": "stdout",
     "output_type": "stream",
     "text": [
      "Accuracy on test set:  0.9601990049751243\n"
     ]
    }
   ],
   "source": [
    "random_forest= RandomForestClassifier(max_depth=3, n_estimators=5, random_state=0)\n",
    "random_forest.fit(x_train,y_train)\n",
    "y_pred=random_forest.predict(x_test)\n",
    "print(\"Accuracy on test set: \" ,accuracy_score(y_test,y_pred))"
   ]
  },
  {
   "cell_type": "markdown",
   "id": "cf632587",
   "metadata": {},
   "source": [
    "The accuracy of the test set for the trained classifier is approximately 96 percent and this shows that the classifier is great at predicting the output for the label with less than 4 percent of error."
   ]
  },
  {
   "cell_type": "markdown",
   "id": "691ed0d6",
   "metadata": {},
   "source": [
    "# Hyper-Parameter Tuning- Label 2('Deaths'):"
   ]
  },
  {
   "cell_type": "code",
   "execution_count": 23,
   "id": "589f6068",
   "metadata": {},
   "outputs": [
    {
     "name": "stdout",
     "output_type": "stream",
     "text": [
      "Fitting 10 folds for each of 20 candidates, totalling 200 fits\n"
     ]
    },
    {
     "name": "stderr",
     "output_type": "stream",
     "text": [
      "c:\\python\\python39\\lib\\site-packages\\sklearn\\model_selection\\_search.py:285: UserWarning: The total space of parameters 20 is smaller than n_iter=200. Running 20 iterations. For exhaustive searches, use GridSearchCV.\n",
      "  warnings.warn(\n"
     ]
    },
    {
     "data": {
      "image/png": "[encoded data removed]",
      "text/plain": [
       "<Figure size 1080x576 with 2 Axes>"
      ]
     },
     "metadata": {
      "needs_background": "light"
     },
     "output_type": "display_data"
    }
   ],
   "source": [
    "x=pcaf[['PC1','PC2','PC3','PC4','PC5','PC6','PC7','PC8']].values\n",
    "\n",
    "y1=pcaf['Deaths'].values\n",
    "\n",
    "x_train,x_test,y_train,y_test = train_test_split(x,y1,test_size = 0.2, random_state = 0)\n",
    "\n",
    "grid_param = {'n_estimators': [5,10,50,150,200],\n",
    "             'max_depth':[3,5,10,None], 'random_state':[0]}\n",
    "random_forest= RandomForestClassifier()\n",
    "\n",
    "random_grid= RandomizedSearchCV(estimator= random_forest, param_distributions=grid_param, n_iter=200, cv=10, verbose=1, random_state=42,n_jobs=-1)\n",
    "\n",
    "random_grid.fit(x_train,y_train)\n",
    "\n",
    "ac_df=pd.DataFrame(random_grid.cv_results_['params'])\n",
    "\n",
    "ac_df[\"accuracy\"]=random_grid.cv_results_['mean_test_score']\n",
    "\n",
    "ac_df=ac_df.pivot(index='max_depth',columns='n_estimators',values='accuracy')\n",
    "plt.figure(figsize=(15,8))\n",
    "sns.heatmap(data=ac_df,cmap='RdBu_r',\n",
    "            annot=True,\n",
    "            linewidth=0.5)\n",
    "plt.title(\"Accuracy plot for Train data\")\n",
    "plt.show()"
   ]
  },
  {
   "cell_type": "markdown",
   "id": "df1f826f",
   "metadata": {},
   "source": [
    "Figure 5 Accuracy plot for train data based on number of estimators and maximum depth in Hyper-Parameter Tuning- Label 2 for extracted feature by PCA"
   ]
  },
  {
   "cell_type": "markdown",
   "id": "6079b2ff",
   "metadata": {},
   "source": [
    "Initially, the data is split with 80% of the data used for training and 20% percent of the data left for testing. The Random Forest Classifier is intialiazed with max depth being:{3,5,10,None}(1). The data is classified using Decision trees with the number of trees being: {5,10,50,150,200}. K-fold cross validation is used with k being 10 for the trees.'RandomizedSearchCV' is used to find the best values for the classifier(2). The accuracy of the trained estimators is reported on a heat plot using the heatmap command from the Seaborn library(3)."
   ]
  },
  {
   "cell_type": "markdown",
   "id": "879343eb",
   "metadata": {},
   "source": [
    "# Best Parameter Evaluation:"
   ]
  },
  {
   "cell_type": "code",
   "execution_count": 24,
   "id": "de766866",
   "metadata": {},
   "outputs": [
    {
     "data": {
      "text/plain": [
       "{'random_state': 0, 'n_estimators': 200, 'max_depth': 5}"
      ]
     },
     "execution_count": 24,
     "metadata": {},
     "output_type": "execute_result"
    }
   ],
   "source": [
    "random_grid.best_params_"
   ]
  },
  {
   "cell_type": "code",
   "execution_count": 25,
   "id": "f6ef69ac",
   "metadata": {},
   "outputs": [
    {
     "data": {
      "text/plain": [
       "0.9351851851851853"
      ]
     },
     "execution_count": 25,
     "metadata": {},
     "output_type": "execute_result"
    }
   ],
   "source": [
    "random_grid.best_score_"
   ]
  },
  {
   "cell_type": "code",
   "execution_count": 26,
   "id": "ee84ef7b",
   "metadata": {},
   "outputs": [
    {
     "data": {
      "text/plain": [
       "RandomForestClassifier(max_depth=5, n_estimators=200, random_state=0)"
      ]
     },
     "execution_count": 26,
     "metadata": {},
     "output_type": "execute_result"
    }
   ],
   "source": [
    "random_grid.best_estimator_"
   ]
  },
  {
   "cell_type": "markdown",
   "id": "64badc0d",
   "metadata": {},
   "source": [
    "The best parameter for the Random Forest Classifier is the one that has a max-depth of 5 with the number of trees being 200."
   ]
  },
  {
   "cell_type": "markdown",
   "id": "148bb193",
   "metadata": {},
   "source": [
    "# Parameter Testing:"
   ]
  },
  {
   "cell_type": "code",
   "execution_count": 27,
   "id": "e83e9149",
   "metadata": {},
   "outputs": [
    {
     "name": "stdout",
     "output_type": "stream",
     "text": [
      "Accuracy on test set:  0.9303482587064676\n"
     ]
    }
   ],
   "source": [
    "random_forest= RandomForestClassifier(max_depth=5, n_estimators=200, random_state=0)\n",
    "random_forest.fit(x_train,y_train)\n",
    "y_pred=random_forest.predict(x_test)\n",
    "print(\"Accuracy on test set: \" ,accuracy_score(y_test,y_pred))"
   ]
  },
  {
   "cell_type": "markdown",
   "id": "b8da325e",
   "metadata": {},
   "source": [
    "The accuracy of the test set for the trained classifier is approximately 93.04 percent and this shows that the classifier is great at predicting the output for the label with less than 7 percent of error."
   ]
  },
  {
   "cell_type": "markdown",
   "id": "9f903e0e",
   "metadata": {},
   "source": [
    "# Hyper-Parameter Tuning- Label 3('Recovered'):"
   ]
  },
  {
   "cell_type": "code",
   "execution_count": 28,
   "id": "1da638a0",
   "metadata": {},
   "outputs": [
    {
     "name": "stdout",
     "output_type": "stream",
     "text": [
      "Fitting 10 folds for each of 20 candidates, totalling 200 fits\n"
     ]
    },
    {
     "name": "stderr",
     "output_type": "stream",
     "text": [
      "c:\\python\\python39\\lib\\site-packages\\sklearn\\model_selection\\_search.py:285: UserWarning: The total space of parameters 20 is smaller than n_iter=200. Running 20 iterations. For exhaustive searches, use GridSearchCV.\n",
      "  warnings.warn(\n"
     ]
    },
    {
     "data": {
      "image/png": "[encoded data removed]",
      "text/plain": [
       "<Figure size 1080x576 with 2 Axes>"
      ]
     },
     "metadata": {
      "needs_background": "light"
     },
     "output_type": "display_data"
    }
   ],
   "source": [
    "x=pcaf[['PC1','PC2','PC3','PC4','PC5','PC6','PC7','PC8']].values\n",
    "\n",
    "y2=pcaf['Recovered'].values\n",
    "\n",
    "x_train,x_test,y_train,y_test = train_test_split(x,y2,test_size = 0.2, random_state = 0)\n",
    "\n",
    "grid_param = {'n_estimators': [5,10,50,150,200],\n",
    "             'max_depth':[3,5,10,None], 'random_state':[0]}\n",
    "random_forest= RandomForestClassifier()\n",
    "\n",
    "random_grid= RandomizedSearchCV(estimator= random_forest, param_distributions=grid_param, n_iter=200, cv=10, verbose=1, random_state=42,n_jobs=-1)\n",
    "\n",
    "random_grid.fit(x_train,y_train)\n",
    "\n",
    "ac_df=pd.DataFrame(random_grid.cv_results_['params'])\n",
    "\n",
    "ac_df[\"accuracy\"]=random_grid.cv_results_['mean_test_score']\n",
    "\n",
    "ac_df=ac_df.pivot(index='max_depth',columns='n_estimators',values='accuracy')\n",
    "plt.figure(figsize=(15,8))\n",
    "sns.heatmap(data=ac_df,cmap='RdBu_r',\n",
    "            annot=True,\n",
    "            linewidth=0.5)\n",
    "plt.title(\"Accuracy plot for Train data\")\n",
    "plt.show()"
   ]
  },
  {
   "cell_type": "markdown",
   "id": "32341e6f",
   "metadata": {},
   "source": [
    "Figure 6 Accuracy plot for train data based on number of estimators and maximum depth in Hyper-Parameter Tuning- Label 3 for extracted feature by PCA"
   ]
  },
  {
   "cell_type": "markdown",
   "id": "4feb9ef6",
   "metadata": {},
   "source": [
    "Initially, the data is split with 80% of the data used for training and 20% percent of the data left for testing. The Random Forest Classifier is intialiazed with max depth being:{3,5,10,None}(1). The data is classified using Decision trees with the number of trees being: {5,10,50,150,200}. K-fold cross validation is used with k being 10 for the trees.'RandomizedSearchCV' is used to find the best values for the classifier(2). The accuracy of the trained estimators is reported on a heat plot using the heatmap command from the Seaborn library(3)."
   ]
  },
  {
   "cell_type": "markdown",
   "id": "5e17728e",
   "metadata": {},
   "source": [
    "# Best Parameter Evaluation:"
   ]
  },
  {
   "cell_type": "code",
   "execution_count": 29,
   "id": "f6634552",
   "metadata": {},
   "outputs": [
    {
     "data": {
      "text/plain": [
       "{'random_state': 0, 'n_estimators': 200, 'max_depth': 10}"
      ]
     },
     "execution_count": 29,
     "metadata": {},
     "output_type": "execute_result"
    }
   ],
   "source": [
    "random_grid.best_params_"
   ]
  },
  {
   "cell_type": "code",
   "execution_count": 30,
   "id": "12931bef",
   "metadata": {},
   "outputs": [
    {
     "data": {
      "text/plain": [
       "0.9239197530864198"
      ]
     },
     "execution_count": 30,
     "metadata": {},
     "output_type": "execute_result"
    }
   ],
   "source": [
    "random_grid.best_score_"
   ]
  },
  {
   "cell_type": "code",
   "execution_count": 31,
   "id": "ce42837e",
   "metadata": {},
   "outputs": [
    {
     "data": {
      "text/plain": [
       "RandomForestClassifier(max_depth=10, n_estimators=200, random_state=0)"
      ]
     },
     "execution_count": 31,
     "metadata": {},
     "output_type": "execute_result"
    }
   ],
   "source": [
    "random_grid.best_estimator_"
   ]
  },
  {
   "cell_type": "markdown",
   "id": "7ecd4e4d",
   "metadata": {},
   "source": [
    "The best parameter for the Random Forest Classifier is the one that has a max-depth of 10 with the number of trees being 200."
   ]
  },
  {
   "cell_type": "markdown",
   "id": "9d5b9af4",
   "metadata": {},
   "source": [
    "# Parameter Testing:"
   ]
  },
  {
   "cell_type": "code",
   "execution_count": 32,
   "id": "cd4c0546",
   "metadata": {},
   "outputs": [
    {
     "name": "stdout",
     "output_type": "stream",
     "text": [
      "Accuracy on test set:  0.945273631840796\n"
     ]
    }
   ],
   "source": [
    "random_forest= RandomForestClassifier(max_depth=10, n_estimators=200, random_state=0)\n",
    "random_forest.fit(x_train,y_train)\n",
    "y_pred=random_forest.predict(x_test)\n",
    "print(\"Accuracy on test set: \" ,accuracy_score(y_test,y_pred))"
   ]
  },
  {
   "cell_type": "markdown",
   "id": "5e04d00a",
   "metadata": {},
   "source": [
    "The accuracy of the test set for the trained classifier is approximately 94.53 percent and this shows that the classifier is great at predicting the output for the label with less than 6 percent of error."
   ]
  },
  {
   "cell_type": "markdown",
   "id": "9e4a2f40",
   "metadata": {},
   "source": [
    "# References:"
   ]
  },
  {
   "cell_type": "markdown",
   "id": "b7f855d8",
   "metadata": {},
   "source": [
    "(1) https://scikit-learn.org/stable/modules/generated/sklearn.ensemble.RandomForestClassifier.html\n",
    "\n",
    "(2) https://scikit-learn.org/stable/modules/generated/sklearn.model_selection.RandomizedSearchCV.html\n",
    "\n",
    "(3) https://seaborn.pydata.org/generated/seaborn.heatmap.html"
   ]
  }
 ],
 "metadata": {
  "kernelspec": {
   "display_name": "Python 3",
   "language": "python",
   "name": "python3"
  },
  "language_info": {
   "codemirror_mode": {
    "name": "ipython",
    "version": 3
   },
   "file_extension": ".py",
   "mimetype": "text/x-python",
   "name": "python",
   "nbconvert_exporter": "python",
   "pygments_lexer": "ipython3",
   "version": "3.9.5"
  }
 },
 "nbformat": 4,
 "nbformat_minor": 5
}
