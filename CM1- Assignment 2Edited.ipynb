{
 "cells": [
  {
   "cell_type": "code",
   "execution_count": 1,
   "id": "bcf3d88b",
   "metadata": {},
   "outputs": [],
   "source": [
    "import pandas as pd\n",
    "import numpy as np"
   ]
  },
  {
   "cell_type": "code",
   "execution_count": 2,
   "id": "c2cdaf11",
   "metadata": {},
   "outputs": [],
   "source": [
    "import matplotlib.pyplot as plt"
   ]
  },
  {
   "cell_type": "code",
   "execution_count": 3,
   "id": "9912ae1c",
   "metadata": {},
   "outputs": [],
   "source": [
    "df= pd.read_csv('dkmacovid_train.csv')\n",
    "df_org= df.copy()\n"
   ]
  },
  {
   "cell_type": "code",
   "execution_count": 4,
   "id": "0d9d4109",
   "metadata": {},
   "outputs": [
    {
     "data": {
      "text/html": [
       "<div>\n",
       "<style scoped>\n",
       "    .dataframe tbody tr th:only-of-type {\n",
       "        vertical-align: middle;\n",
       "    }\n",
       "\n",
       "    .dataframe tbody tr th {\n",
       "        vertical-align: top;\n",
       "    }\n",
       "\n",
       "    .dataframe thead th {\n",
       "        text-align: right;\n",
       "    }\n",
       "</style>\n",
       "<table border=\"1\" class=\"dataframe\">\n",
       "  <thead>\n",
       "    <tr style=\"text-align: right;\">\n",
       "      <th></th>\n",
       "      <th>Day</th>\n",
       "      <th>State ID</th>\n",
       "      <th>Lat</th>\n",
       "      <th>Long_</th>\n",
       "      <th>Active</th>\n",
       "      <th>Incident_Rate</th>\n",
       "      <th>Total_Test_Results</th>\n",
       "      <th>Case_Fatality_Ratio</th>\n",
       "      <th>Testing_Rate</th>\n",
       "      <th>Density Rank 2020 Census</th>\n",
       "      <th>SexRatio</th>\n",
       "    </tr>\n",
       "  </thead>\n",
       "  <tbody>\n",
       "    <tr>\n",
       "      <th>count</th>\n",
       "      <td>1380.000000</td>\n",
       "      <td>1380.000000</td>\n",
       "      <td>1380.000000</td>\n",
       "      <td>1380.000000</td>\n",
       "      <td>1.380000e+03</td>\n",
       "      <td>1380.000000</td>\n",
       "      <td>1.380000e+03</td>\n",
       "      <td>1380.000000</td>\n",
       "      <td>1380.000000</td>\n",
       "      <td>1380.000000</td>\n",
       "      <td>1380.000000</td>\n",
       "    </tr>\n",
       "    <tr>\n",
       "      <th>mean</th>\n",
       "      <td>16.500000</td>\n",
       "      <td>25.239130</td>\n",
       "      <td>39.470717</td>\n",
       "      <td>-92.879928</td>\n",
       "      <td>2.610390e+05</td>\n",
       "      <td>7203.192905</td>\n",
       "      <td>5.271097e+06</td>\n",
       "      <td>1.631757</td>\n",
       "      <td>91763.237514</td>\n",
       "      <td>27.173913</td>\n",
       "      <td>97.760870</td>\n",
       "    </tr>\n",
       "    <tr>\n",
       "      <th>std</th>\n",
       "      <td>8.658579</td>\n",
       "      <td>14.513405</td>\n",
       "      <td>6.070494</td>\n",
       "      <td>19.632514</td>\n",
       "      <td>4.914059e+05</td>\n",
       "      <td>2305.025102</td>\n",
       "      <td>6.991478e+06</td>\n",
       "      <td>0.656702</td>\n",
       "      <td>40858.185997</td>\n",
       "      <td>15.378197</td>\n",
       "      <td>3.219219</td>\n",
       "    </tr>\n",
       "    <tr>\n",
       "      <th>min</th>\n",
       "      <td>2.000000</td>\n",
       "      <td>1.000000</td>\n",
       "      <td>21.094300</td>\n",
       "      <td>-157.498300</td>\n",
       "      <td>9.550000e+02</td>\n",
       "      <td>1232.233261</td>\n",
       "      <td>3.739460e+05</td>\n",
       "      <td>0.439598</td>\n",
       "      <td>30524.071590</td>\n",
       "      <td>1.000000</td>\n",
       "      <td>94.000000</td>\n",
       "    </tr>\n",
       "    <tr>\n",
       "      <th>25%</th>\n",
       "      <td>9.000000</td>\n",
       "      <td>12.000000</td>\n",
       "      <td>35.630100</td>\n",
       "      <td>-105.311100</td>\n",
       "      <td>2.731600e+04</td>\n",
       "      <td>6042.134459</td>\n",
       "      <td>1.310515e+06</td>\n",
       "      <td>1.246993</td>\n",
       "      <td>67457.197525</td>\n",
       "      <td>13.000000</td>\n",
       "      <td>95.000000</td>\n",
       "    </tr>\n",
       "    <tr>\n",
       "      <th>50%</th>\n",
       "      <td>16.500000</td>\n",
       "      <td>25.500000</td>\n",
       "      <td>39.583950</td>\n",
       "      <td>-88.259400</td>\n",
       "      <td>1.005915e+05</td>\n",
       "      <td>7453.675955</td>\n",
       "      <td>2.919566e+06</td>\n",
       "      <td>1.499993</td>\n",
       "      <td>85438.613770</td>\n",
       "      <td>28.500000</td>\n",
       "      <td>97.000000</td>\n",
       "    </tr>\n",
       "    <tr>\n",
       "      <th>75%</th>\n",
       "      <td>24.000000</td>\n",
       "      <td>37.000000</td>\n",
       "      <td>43.326600</td>\n",
       "      <td>-77.209800</td>\n",
       "      <td>2.592418e+05</td>\n",
       "      <td>8621.924085</td>\n",
       "      <td>6.093790e+06</td>\n",
       "      <td>1.817013</td>\n",
       "      <td>104509.453475</td>\n",
       "      <td>41.000000</td>\n",
       "      <td>99.000000</td>\n",
       "    </tr>\n",
       "    <tr>\n",
       "      <th>max</th>\n",
       "      <td>31.000000</td>\n",
       "      <td>51.000000</td>\n",
       "      <td>61.370700</td>\n",
       "      <td>-69.381900</td>\n",
       "      <td>3.283336e+06</td>\n",
       "      <td>12811.162350</td>\n",
       "      <td>4.227902e+07</td>\n",
       "      <td>3.928767</td>\n",
       "      <td>235733.711200</td>\n",
       "      <td>52.000000</td>\n",
       "      <td>109.000000</td>\n",
       "    </tr>\n",
       "  </tbody>\n",
       "</table>\n",
       "</div>"
      ],
      "text/plain": [
       "               Day     State ID          Lat        Long_        Active  \\\n",
       "count  1380.000000  1380.000000  1380.000000  1380.000000  1.380000e+03   \n",
       "mean     16.500000    25.239130    39.470717   -92.879928  2.610390e+05   \n",
       "std       8.658579    14.513405     6.070494    19.632514  4.914059e+05   \n",
       "min       2.000000     1.000000    21.094300  -157.498300  9.550000e+02   \n",
       "25%       9.000000    12.000000    35.630100  -105.311100  2.731600e+04   \n",
       "50%      16.500000    25.500000    39.583950   -88.259400  1.005915e+05   \n",
       "75%      24.000000    37.000000    43.326600   -77.209800  2.592418e+05   \n",
       "max      31.000000    51.000000    61.370700   -69.381900  3.283336e+06   \n",
       "\n",
       "       Incident_Rate  Total_Test_Results  Case_Fatality_Ratio   Testing_Rate  \\\n",
       "count    1380.000000        1.380000e+03          1380.000000    1380.000000   \n",
       "mean     7203.192905        5.271097e+06             1.631757   91763.237514   \n",
       "std      2305.025102        6.991478e+06             0.656702   40858.185997   \n",
       "min      1232.233261        3.739460e+05             0.439598   30524.071590   \n",
       "25%      6042.134459        1.310515e+06             1.246993   67457.197525   \n",
       "50%      7453.675955        2.919566e+06             1.499993   85438.613770   \n",
       "75%      8621.924085        6.093790e+06             1.817013  104509.453475   \n",
       "max     12811.162350        4.227902e+07             3.928767  235733.711200   \n",
       "\n",
       "       Density Rank 2020 Census     SexRatio  \n",
       "count               1380.000000  1380.000000  \n",
       "mean                  27.173913    97.760870  \n",
       "std                   15.378197     3.219219  \n",
       "min                    1.000000    94.000000  \n",
       "25%                   13.000000    95.000000  \n",
       "50%                   28.500000    97.000000  \n",
       "75%                   41.000000    99.000000  \n",
       "max                   52.000000   109.000000  "
      ]
     },
     "execution_count": 4,
     "metadata": {},
     "output_type": "execute_result"
    }
   ],
   "source": [
    "df.describe()"
   ]
  },
  {
   "cell_type": "markdown",
   "id": "d5b44354",
   "metadata": {},
   "source": [
    "                              Table 1 Original database "
   ]
  },
  {
   "cell_type": "markdown",
   "id": "0349e453",
   "metadata": {},
   "source": [
    "Outliers are found using the Z-score method and the Interquantile method(1). The method that finds the most outliers accurately is then choosen. Numerical features including ”Day”, and ”State ID” are checked to find if any outliers exist. Non-numerical features such as ”State” are not used in searching for outliers."
   ]
  },
  {
   "cell_type": "markdown",
   "id": "d99af7cd",
   "metadata": {},
   "source": [
    "# Finding Outliers Using Z-score for Each Feature:"
   ]
  },
  {
   "cell_type": "markdown",
   "id": "f5a96886",
   "metadata": {},
   "source": [
    "Outliers are found using the Z-score method for each feature that has numeric values using the method defined below."
   ]
  },
  {
   "cell_type": "code",
   "execution_count": 5,
   "id": "8da6520c",
   "metadata": {},
   "outputs": [],
   "source": [
    "outliers=[]"
   ]
  },
  {
   "cell_type": "code",
   "execution_count": 6,
   "id": "7615b4b7",
   "metadata": {},
   "outputs": [],
   "source": [
    "def detect_outliers(data):\n",
    "    \n",
    "    threshold= 3\n",
    "    mean= np.mean(data)\n",
    "    std= np.std(data)\n",
    "    \n",
    "    for i in data:\n",
    "        z_score= (i-mean)/std\n",
    "        \n",
    "        if np.abs(z_score)> threshold:\n",
    "            \n",
    "            outliers.append(i)\n",
    "            \n",
    "            return outliers\n",
    "    "
   ]
  },
  {
   "cell_type": "code",
   "execution_count": 7,
   "id": "136e2a54",
   "metadata": {},
   "outputs": [
    {
     "name": "stdout",
     "output_type": "stream",
     "text": [
      "None\n"
     ]
    }
   ],
   "source": [
    "outliers_pt= detect_outliers(df['Day'])\n",
    "print(outliers_pt)"
   ]
  },
  {
   "cell_type": "code",
   "execution_count": 8,
   "id": "f50efef5",
   "metadata": {},
   "outputs": [
    {
     "name": "stdout",
     "output_type": "stream",
     "text": [
      "None\n"
     ]
    }
   ],
   "source": [
    "outliers_pt= detect_outliers(df['State ID'])\n",
    "print(outliers_pt)"
   ]
  },
  {
   "cell_type": "code",
   "execution_count": 9,
   "id": "d867bdb4",
   "metadata": {},
   "outputs": [
    {
     "name": "stdout",
     "output_type": "stream",
     "text": [
      "[61.3707]\n"
     ]
    }
   ],
   "source": [
    "outliers_pt1= detect_outliers(df['Lat'])\n",
    "print(outliers_pt1)"
   ]
  },
  {
   "cell_type": "code",
   "execution_count": 10,
   "id": "76794cc6",
   "metadata": {},
   "outputs": [
    {
     "name": "stdout",
     "output_type": "stream",
     "text": [
      "[61.3707, -152.4044]\n"
     ]
    }
   ],
   "source": [
    "outliers_pt2= detect_outliers(df['Long_'])\n",
    "print(outliers_pt2)"
   ]
  },
  {
   "cell_type": "code",
   "execution_count": 11,
   "id": "d0eb68e2",
   "metadata": {},
   "outputs": [
    {
     "name": "stdout",
     "output_type": "stream",
     "text": [
      "[61.3707, -152.4044, 2362015]\n"
     ]
    }
   ],
   "source": [
    "outliers_pt3= detect_outliers(df['Active'])\n",
    "print(outliers_pt3)"
   ]
  },
  {
   "cell_type": "code",
   "execution_count": 12,
   "id": "a40587cf",
   "metadata": {},
   "outputs": [
    {
     "name": "stdout",
     "output_type": "stream",
     "text": [
      "None\n"
     ]
    }
   ],
   "source": [
    "outliers_pt4= detect_outliers(df['Incident_Rate'])\n",
    "print(outliers_pt4)"
   ]
  },
  {
   "cell_type": "code",
   "execution_count": 13,
   "id": "a7e25541",
   "metadata": {},
   "outputs": [
    {
     "name": "stdout",
     "output_type": "stream",
     "text": [
      "[61.3707, -152.4044, 2362015, 33391442]\n"
     ]
    }
   ],
   "source": [
    "outliers_pt5= detect_outliers(df['Total_Test_Results'])\n",
    "print(outliers_pt5)"
   ]
  },
  {
   "cell_type": "code",
   "execution_count": 14,
   "id": "7d5e4634",
   "metadata": {},
   "outputs": [
    {
     "name": "stdout",
     "output_type": "stream",
     "text": [
      "[61.3707, -152.4044, 2362015, 33391442, 3.928767415]\n"
     ]
    }
   ],
   "source": [
    "outliers_pt5= detect_outliers(df['Case_Fatality_Ratio'])\n",
    "print(outliers_pt5)"
   ]
  },
  {
   "cell_type": "code",
   "execution_count": 15,
   "id": "67b91c4a",
   "metadata": {},
   "outputs": [
    {
     "name": "stdout",
     "output_type": "stream",
     "text": [
      "[61.3707, -152.4044, 2362015, 33391442, 3.928767415, 216923.3151]\n"
     ]
    }
   ],
   "source": [
    "outliers_pt6= detect_outliers(df['Testing_Rate'])\n",
    "print(outliers_pt6)"
   ]
  },
  {
   "cell_type": "code",
   "execution_count": 16,
   "id": "25ee410b",
   "metadata": {},
   "outputs": [
    {
     "name": "stdout",
     "output_type": "stream",
     "text": [
      "None\n"
     ]
    }
   ],
   "source": [
    "outliers_pt6= detect_outliers(df['Density Rank 2020 Census'])\n",
    "print(outliers_pt6)"
   ]
  },
  {
   "cell_type": "code",
   "execution_count": 17,
   "id": "1286da7a",
   "metadata": {},
   "outputs": [
    {
     "name": "stdout",
     "output_type": "stream",
     "text": [
      "[61.3707, -152.4044, 2362015, 33391442, 3.928767415, 216923.3151, 109]\n"
     ]
    }
   ],
   "source": [
    "outliers_pt7= detect_outliers(df['SexRatio'])\n",
    "print(outliers_pt7)"
   ]
  },
  {
   "cell_type": "markdown",
   "id": "012d4f1f",
   "metadata": {},
   "source": [
    "# Finding Outliers using Interquantile Range:"
   ]
  },
  {
   "cell_type": "markdown",
   "id": "367e8337",
   "metadata": {},
   "source": [
    "Outliers are found using the Interquantile Range method for each feature that has numeric values using the method defined below."
   ]
  },
  {
   "cell_type": "code",
   "execution_count": 18,
   "id": "9c60e229",
   "metadata": {},
   "outputs": [
    {
     "name": "stdout",
     "output_type": "stream",
     "text": [
      "-25.5 74.5\n"
     ]
    }
   ],
   "source": [
    " quantile1, quantile3= np.percentile(df['State ID'],[25,75])\n",
    "\n",
    "iqr_valu=quantile3- quantile1\n",
    "\n",
    "lboundval= quantile1-(1.5 * iqr_valu)\n",
    "uboundval= quantile3+(1.5 * iqr_valu)\n",
    "\n",
    "print(lboundval,uboundval)\n"
   ]
  },
  {
   "cell_type": "code",
   "execution_count": 19,
   "id": "0badf70a",
   "metadata": {},
   "outputs": [
    {
     "name": "stdout",
     "output_type": "stream",
     "text": [
      "-13.5 46.5\n"
     ]
    }
   ],
   "source": [
    " quantile1, quantile3= np.percentile(df['Day'],[25,75])\n",
    "\n",
    "iqr_valu=quantile3- quantile1\n",
    "\n",
    "lboundval= quantile1-(1.5 * iqr_valu)\n",
    "uboundval= quantile3+(1.5 * iqr_valu)\n",
    "\n",
    "print(lboundval,uboundval)\n"
   ]
  },
  {
   "cell_type": "markdown",
   "id": "4385c946",
   "metadata": {},
   "source": [
    "'State ID' and 'Day' does not have any outliers as its numerical values fall under its respective upper and lower bound ranges."
   ]
  },
  {
   "cell_type": "code",
   "execution_count": 20,
   "id": "7b67f012",
   "metadata": {},
   "outputs": [
    {
     "name": "stdout",
     "output_type": "stream",
     "text": [
      "24.08535 54.87135\n"
     ]
    }
   ],
   "source": [
    " \n",
    "     for x in ['Lat']:\n",
    "\n",
    "    quantile1, quantile3= np.percentile(df['Lat'],[25,75])\n",
    "\n",
    "iqr_valu=quantile3- quantile1\n",
    "\n",
    "lboundval= quantile1- (1.5 * iqr_valu)\n",
    "uboundval= quantile3+ (1.5 * iqr_valu)\n",
    "\n",
    "print(lboundval,uboundval)\n",
    "\n",
    "df.loc[df[x]< lboundval,x]= np.nan\n",
    "df.loc[df[x]> uboundval,x]= np.nan\n"
   ]
  },
  {
   "cell_type": "markdown",
   "id": "13dd0a2e",
   "metadata": {},
   "source": [
    "Outliers are present in 'Lat' after the upper bound value 54.87135 as the max value is 61.37 in specified data above. "
   ]
  },
  {
   "cell_type": "code",
   "execution_count": 21,
   "id": "995b80cc",
   "metadata": {},
   "outputs": [
    {
     "name": "stdout",
     "output_type": "stream",
     "text": [
      "-147.46304999999998 -35.05785000000001\n"
     ]
    }
   ],
   "source": [
    "     for x in ['Long_']:\n",
    "\n",
    "    quantile1, quantile3= np.percentile(df['Long_'],[25,75])\n",
    "\n",
    "iqr_valu=quantile3- quantile1\n",
    "\n",
    "lboundval= quantile1-(1.5 * iqr_valu)\n",
    "uboundval= quantile3+(1.5 * iqr_valu)\n",
    "\n",
    "print(lboundval,uboundval)\n",
    "\n",
    "df.loc[df[x]< lboundval,x]= np.nan\n",
    "df.loc[df[x]> uboundval,x]= np.nan"
   ]
  },
  {
   "cell_type": "markdown",
   "id": "2e602efb",
   "metadata": {},
   "source": [
    "Outliers are present in 'Long_' as the minimum value for this feature is -157.4983 which is less than the lower bound value -147.4630  as specified above."
   ]
  },
  {
   "cell_type": "code",
   "execution_count": 22,
   "id": "a14ef286",
   "metadata": {},
   "outputs": [
    {
     "name": "stdout",
     "output_type": "stream",
     "text": [
      "-320572.625 607130.375\n"
     ]
    }
   ],
   "source": [
    "      for x in ['Active']:\n",
    "\n",
    "    quantile1, quantile3= np.percentile(df['Active'],[25,75])\n",
    "\n",
    "iqr_valu=quantile3- quantile1\n",
    "\n",
    "lboundval= quantile1-(1.5 * iqr_valu)\n",
    "uboundval= quantile3+(1.5 * iqr_valu)\n",
    "\n",
    "print(lboundval,uboundval)\n",
    "\n",
    "df.loc[df[x]< lboundval,x]= np.nan\n",
    "df.loc[df[x]> uboundval,x]= np.nan\n",
    "\n"
   ]
  },
  {
   "cell_type": "markdown",
   "id": "4294ab18",
   "metadata": {},
   "source": [
    "Outliers are present in 'Lat' after the upper bound value 607130.375 as the max value is 3.283336e+06 as specified above."
   ]
  },
  {
   "cell_type": "code",
   "execution_count": 23,
   "id": "0713a2bf",
   "metadata": {},
   "outputs": [
    {
     "name": "stdout",
     "output_type": "stream",
     "text": [
      "2172.450020124999 12491.608523125002\n"
     ]
    }
   ],
   "source": [
    "       for x in ['Incident_Rate']:\n",
    "\n",
    "    quantile1, quantile3= np.percentile(df['Incident_Rate'],[25,75])\n",
    "\n",
    "iqr_valu=quantile3- quantile1\n",
    "\n",
    "lboundval= quantile1-(1.5 * iqr_valu)\n",
    "uboundval= quantile3+(1.5 * iqr_valu)\n",
    "\n",
    "print(lboundval,uboundval)\n",
    "\n",
    "df.loc[df[x]< lboundval,x]= np.nan\n",
    "df.loc[df[x]> uboundval,x]= np.nan"
   ]
  },
  {
   "cell_type": "markdown",
   "id": "4c25f7d7",
   "metadata": {},
   "source": [
    "Outliers are present in 'Incident_Rate' below the lower bound value and also above the upper bounds 2172.450020124999, 12491.608523125002 respectively as the min and max values are 1232.233261 and 12811.162350 respectively."
   ]
  },
  {
   "cell_type": "code",
   "execution_count": 24,
   "id": "5db9d062",
   "metadata": {},
   "outputs": [
    {
     "name": "stdout",
     "output_type": "stream",
     "text": [
      "-5864398.5 13268703.5\n"
     ]
    }
   ],
   "source": [
    "        for x in ['Total_Test_Results']:\n",
    "\n",
    "    quantile1, quantile3= np.percentile(df['Total_Test_Results'],[25,75])\n",
    "\n",
    "iqr_valu=quantile3- quantile1\n",
    "\n",
    "lboundval= quantile1-(1.5 * iqr_valu)\n",
    "uboundval= quantile3+(1.5 * iqr_valu)\n",
    "\n",
    "print(lboundval,uboundval)\n",
    "\n",
    "df.loc[df[x]< lboundval,x]= np.nan\n",
    "df.loc[df[x]> uboundval,x]= np.nan"
   ]
  },
  {
   "cell_type": "markdown",
   "id": "2795ea2e",
   "metadata": {},
   "source": [
    "Outliers are present in 'Total_Test_Results' after the upper bound value 607130.375 as the max value is 4.227902e+07 in the numerics table specified above."
   ]
  },
  {
   "cell_type": "code",
   "execution_count": 25,
   "id": "7eead38d",
   "metadata": {},
   "outputs": [
    {
     "name": "stdout",
     "output_type": "stream",
     "text": [
      "0.3919640299999998 2.67204191\n"
     ]
    }
   ],
   "source": [
    "        for x in ['Case_Fatality_Ratio']:\n",
    "\n",
    "    quantile1, quantile3= np.percentile(df['Case_Fatality_Ratio'],[25,75])\n",
    "\n",
    "iqr_valu=quantile3- quantile1\n",
    "\n",
    "lboundval= quantile1-(1.5 * iqr_valu)\n",
    "uboundval= quantile3+(1.5 * iqr_valu)\n",
    "\n",
    "print(lboundval,uboundval)\n",
    "\n",
    "df.loc[df[x]< lboundval,x]= np.nan\n",
    "df.loc[df[x]> uboundval,x]= np.nan"
   ]
  },
  {
   "cell_type": "markdown",
   "id": "a60fb74a",
   "metadata": {},
   "source": [
    "Outliers are present in 'Total_Test_Results' after the upper bound value 2.67204191 as the max value is 3.928767 in the numerics table specified above."
   ]
  },
  {
   "cell_type": "code",
   "execution_count": 26,
   "id": "bfda6a35",
   "metadata": {},
   "outputs": [
    {
     "name": "stdout",
     "output_type": "stream",
     "text": [
      "11878.813599999987 160087.83740000002\n"
     ]
    }
   ],
   "source": [
    "        for x in ['Testing_Rate']:\n",
    "\n",
    "    quantile1, quantile3= np.percentile(df['Testing_Rate'],[25,75])\n",
    "\n",
    "iqr_valu=quantile3- quantile1\n",
    "\n",
    "lboundval= quantile1-(1.5 * iqr_valu)\n",
    "uboundval= quantile3+(1.5 * iqr_valu)\n",
    "\n",
    "print(lboundval,uboundval)\n",
    "\n",
    "df.loc[df[x]< lboundval,x]= np.nan\n",
    "df.loc[df[x]> uboundval,x]= np.nan"
   ]
  },
  {
   "cell_type": "markdown",
   "id": "47146d44",
   "metadata": {},
   "source": [
    "Outliers are present in 'Testing_Rate' below the lower bound value and also above the upper bounds 11878.813599999987, 160087.83740000002 respectively as the min and max values are 30524.071590 and 235733.711200 respectively."
   ]
  },
  {
   "cell_type": "code",
   "execution_count": 27,
   "id": "33c6149c",
   "metadata": {},
   "outputs": [
    {
     "name": "stdout",
     "output_type": "stream",
     "text": [
      "-29.0 83.0\n"
     ]
    }
   ],
   "source": [
    "        for x in ['Density Rank 2020 Census']:\n",
    "\n",
    "    quantile1, quantile3= np.percentile(df['Density Rank 2020 Census'],[25,75])\n",
    "\n",
    "iqr_valu=quantile3- quantile1\n",
    "\n",
    "lboundval= quantile1-(1.5 * iqr_valu)\n",
    "uboundval= quantile3+(1.5 * iqr_valu)\n",
    "\n",
    "print(lboundval,uboundval)\n",
    "\n",
    "df.loc[df[x]< lboundval,x]= np.nan\n",
    "df.loc[df[x]> uboundval,x]= np.nan"
   ]
  },
  {
   "cell_type": "markdown",
   "id": "cd2c1243",
   "metadata": {},
   "source": [
    "'Density Rank 2020 Census' does not have any outliers as it's min and max(1.000000,52.000000) values fall within their respective upper and lower bound ranges(-29.0, 83.0) in the numerics table specified above."
   ]
  },
  {
   "cell_type": "code",
   "execution_count": 28,
   "id": "7ea36e89",
   "metadata": {},
   "outputs": [
    {
     "name": "stdout",
     "output_type": "stream",
     "text": [
      "89.0 105.0\n"
     ]
    }
   ],
   "source": [
    "        for x in ['SexRatio']:\n",
    "\n",
    "    quantile1, quantile3= np.percentile(df['SexRatio'],[25,75])\n",
    "\n",
    "iqr_valu=quantile3- quantile1\n",
    "\n",
    "lboundval= quantile1-(1.5 * iqr_valu)\n",
    "uboundval= quantile3+(1.5 * iqr_valu)\n",
    "\n",
    "print(lboundval,uboundval)\n",
    "\n",
    "df.loc[df[x]< lboundval,x]= np.nan\n",
    "df.loc[df[x]> uboundval,x]= np.nan"
   ]
  },
  {
   "cell_type": "markdown",
   "id": "d0a2073c",
   "metadata": {},
   "source": [
    "Outliers are present in 'SexRatio' after the upper bound value 105.0 as the max value is 109.000000 in the numerics table specified above."
   ]
  },
  {
   "cell_type": "code",
   "execution_count": 29,
   "id": "9fb2d48a",
   "metadata": {},
   "outputs": [
    {
     "data": {
      "text/html": [
       "<div>\n",
       "<style scoped>\n",
       "    .dataframe tbody tr th:only-of-type {\n",
       "        vertical-align: middle;\n",
       "    }\n",
       "\n",
       "    .dataframe tbody tr th {\n",
       "        vertical-align: top;\n",
       "    }\n",
       "\n",
       "    .dataframe thead th {\n",
       "        text-align: right;\n",
       "    }\n",
       "</style>\n",
       "<table border=\"1\" class=\"dataframe\">\n",
       "  <thead>\n",
       "    <tr style=\"text-align: right;\">\n",
       "      <th></th>\n",
       "      <th>Day</th>\n",
       "      <th>State ID</th>\n",
       "      <th>Lat</th>\n",
       "      <th>Long_</th>\n",
       "      <th>Active</th>\n",
       "      <th>Incident_Rate</th>\n",
       "      <th>Total_Test_Results</th>\n",
       "      <th>Case_Fatality_Ratio</th>\n",
       "      <th>Testing_Rate</th>\n",
       "      <th>Density Rank 2020 Census</th>\n",
       "      <th>SexRatio</th>\n",
       "    </tr>\n",
       "  </thead>\n",
       "  <tbody>\n",
       "    <tr>\n",
       "      <th>count</th>\n",
       "      <td>1003.000000</td>\n",
       "      <td>1003.000000</td>\n",
       "      <td>1003.000000</td>\n",
       "      <td>1003.000000</td>\n",
       "      <td>1003.000000</td>\n",
       "      <td>1003.000000</td>\n",
       "      <td>1.003000e+03</td>\n",
       "      <td>1003.000000</td>\n",
       "      <td>1003.000000</td>\n",
       "      <td>1003.000000</td>\n",
       "      <td>1003.000000</td>\n",
       "    </tr>\n",
       "    <tr>\n",
       "      <th>mean</th>\n",
       "      <td>16.514457</td>\n",
       "      <td>26.936191</td>\n",
       "      <td>39.317259</td>\n",
       "      <td>-92.393330</td>\n",
       "      <td>135733.039880</td>\n",
       "      <td>7387.058370</td>\n",
       "      <td>3.515933e+06</td>\n",
       "      <td>1.506624</td>\n",
       "      <td>78252.900036</td>\n",
       "      <td>30.328016</td>\n",
       "      <td>97.710867</td>\n",
       "    </tr>\n",
       "    <tr>\n",
       "      <th>std</th>\n",
       "      <td>8.604445</td>\n",
       "      <td>14.160539</td>\n",
       "      <td>4.092189</td>\n",
       "      <td>13.825014</td>\n",
       "      <td>134797.128608</td>\n",
       "      <td>1975.065568</td>\n",
       "      <td>2.531671e+06</td>\n",
       "      <td>0.476659</td>\n",
       "      <td>25477.512412</td>\n",
       "      <td>13.546368</td>\n",
       "      <td>2.576601</td>\n",
       "    </tr>\n",
       "    <tr>\n",
       "      <th>min</th>\n",
       "      <td>2.000000</td>\n",
       "      <td>1.000000</td>\n",
       "      <td>31.169500</td>\n",
       "      <td>-122.070900</td>\n",
       "      <td>1098.000000</td>\n",
       "      <td>2179.566914</td>\n",
       "      <td>3.739460e+05</td>\n",
       "      <td>0.454009</td>\n",
       "      <td>30524.071590</td>\n",
       "      <td>1.000000</td>\n",
       "      <td>94.000000</td>\n",
       "    </tr>\n",
       "    <tr>\n",
       "      <th>25%</th>\n",
       "      <td>9.000000</td>\n",
       "      <td>17.000000</td>\n",
       "      <td>35.630100</td>\n",
       "      <td>-105.311100</td>\n",
       "      <td>27737.500000</td>\n",
       "      <td>6108.339399</td>\n",
       "      <td>1.303540e+06</td>\n",
       "      <td>1.223279</td>\n",
       "      <td>63815.618495</td>\n",
       "      <td>20.000000</td>\n",
       "      <td>96.000000</td>\n",
       "    </tr>\n",
       "    <tr>\n",
       "      <th>50%</th>\n",
       "      <td>17.000000</td>\n",
       "      <td>27.000000</td>\n",
       "      <td>39.063900</td>\n",
       "      <td>-91.867800</td>\n",
       "      <td>76981.000000</td>\n",
       "      <td>7722.730108</td>\n",
       "      <td>2.652670e+06</td>\n",
       "      <td>1.442444</td>\n",
       "      <td>78804.952950</td>\n",
       "      <td>31.000000</td>\n",
       "      <td>98.000000</td>\n",
       "    </tr>\n",
       "    <tr>\n",
       "      <th>75%</th>\n",
       "      <td>24.000000</td>\n",
       "      <td>38.000000</td>\n",
       "      <td>43.326600</td>\n",
       "      <td>-80.945000</td>\n",
       "      <td>209076.500000</td>\n",
       "      <td>8739.907284</td>\n",
       "      <td>5.464123e+06</td>\n",
       "      <td>1.649429</td>\n",
       "      <td>96924.767205</td>\n",
       "      <td>42.000000</td>\n",
       "      <td>99.000000</td>\n",
       "    </tr>\n",
       "    <tr>\n",
       "      <th>max</th>\n",
       "      <td>31.000000</td>\n",
       "      <td>51.000000</td>\n",
       "      <td>46.921900</td>\n",
       "      <td>-69.381900</td>\n",
       "      <td>606125.000000</td>\n",
       "      <td>12236.353220</td>\n",
       "      <td>9.366357e+06</td>\n",
       "      <td>2.667652</td>\n",
       "      <td>155928.807600</td>\n",
       "      <td>51.000000</td>\n",
       "      <td>104.000000</td>\n",
       "    </tr>\n",
       "  </tbody>\n",
       "</table>\n",
       "</div>"
      ],
      "text/plain": [
       "               Day     State ID          Lat        Long_         Active  \\\n",
       "count  1003.000000  1003.000000  1003.000000  1003.000000    1003.000000   \n",
       "mean     16.514457    26.936191    39.317259   -92.393330  135733.039880   \n",
       "std       8.604445    14.160539     4.092189    13.825014  134797.128608   \n",
       "min       2.000000     1.000000    31.169500  -122.070900    1098.000000   \n",
       "25%       9.000000    17.000000    35.630100  -105.311100   27737.500000   \n",
       "50%      17.000000    27.000000    39.063900   -91.867800   76981.000000   \n",
       "75%      24.000000    38.000000    43.326600   -80.945000  209076.500000   \n",
       "max      31.000000    51.000000    46.921900   -69.381900  606125.000000   \n",
       "\n",
       "       Incident_Rate  Total_Test_Results  Case_Fatality_Ratio   Testing_Rate  \\\n",
       "count    1003.000000        1.003000e+03          1003.000000    1003.000000   \n",
       "mean     7387.058370        3.515933e+06             1.506624   78252.900036   \n",
       "std      1975.065568        2.531671e+06             0.476659   25477.512412   \n",
       "min      2179.566914        3.739460e+05             0.454009   30524.071590   \n",
       "25%      6108.339399        1.303540e+06             1.223279   63815.618495   \n",
       "50%      7722.730108        2.652670e+06             1.442444   78804.952950   \n",
       "75%      8739.907284        5.464123e+06             1.649429   96924.767205   \n",
       "max     12236.353220        9.366357e+06             2.667652  155928.807600   \n",
       "\n",
       "       Density Rank 2020 Census     SexRatio  \n",
       "count               1003.000000  1003.000000  \n",
       "mean                  30.328016    97.710867  \n",
       "std                   13.546368     2.576601  \n",
       "min                    1.000000    94.000000  \n",
       "25%                   20.000000    96.000000  \n",
       "50%                   31.000000    98.000000  \n",
       "75%                   42.000000    99.000000  \n",
       "max                   51.000000   104.000000  "
      ]
     },
     "execution_count": 29,
     "metadata": {},
     "output_type": "execute_result"
    }
   ],
   "source": [
    "df=df.dropna(axis=0)\n",
    "df.describe()"
   ]
  },
  {
   "cell_type": "markdown",
   "id": "da476934",
   "metadata": {},
   "source": [
    "Table 2 Corrected database after removing outliers"
   ]
  },
  {
   "cell_type": "markdown",
   "id": "5b6312ef",
   "metadata": {},
   "source": [
    " The outliers are assigned a null value and are then dropped(2):"
   ]
  },
  {
   "cell_type": "code",
   "execution_count": 30,
   "id": "2268a4fe",
   "metadata": {},
   "outputs": [
    {
     "data": {
      "text/plain": [
       "Day                                0\n",
       "State ID                           0\n",
       "State                              0\n",
       "Lat                                0\n",
       "Long_                              0\n",
       "Active                             0\n",
       "Incident_Rate                      0\n",
       "Total_Test_Results                 0\n",
       "Case_Fatality_Ratio                0\n",
       "Testing_Rate                       0\n",
       "Resident Population 2020 Census    0\n",
       "Population Density 2020 Census     0\n",
       "Density Rank 2020 Census           0\n",
       "SexRatio                           0\n",
       "Confirmed                          0\n",
       "Deaths                             0\n",
       "Recovered                          0\n",
       "dtype: int64"
      ]
     },
     "execution_count": 30,
     "metadata": {},
     "output_type": "execute_result"
    }
   ],
   "source": [
    "df.isnull().sum()"
   ]
  },
  {
   "cell_type": "markdown",
   "id": "63e7c76b",
   "metadata": {},
   "source": [
    "# Z-Score Normalization:"
   ]
  },
  {
   "cell_type": "code",
   "execution_count": 31,
   "id": "1bb3c934",
   "metadata": {},
   "outputs": [],
   "source": [
    "def zscore(a): \n",
    "    \n",
    "    xx=a\n",
    "    a_std = (xx- np.mean(xx)) / (np.std(xx))\n",
    "    return a_std"
   ]
  },
  {
   "cell_type": "markdown",
   "id": "ac1e8ce8",
   "metadata": {},
   "source": [
    "The Z-Score normilization is then applied after the outliers are removed."
   ]
  },
  {
   "cell_type": "code",
   "execution_count": 32,
   "id": "6ed5732f",
   "metadata": {},
   "outputs": [],
   "source": [
    "df['Day']= zscore(df['Day'])\n",
    "df['State ID']= zscore(df['State ID'])\n",
    "df['Lat']= zscore(df['Lat'])\n",
    "df['Long_']= zscore(df['Long_'])\n",
    "df['Active']= zscore(df['Active'])\n",
    "df['Incident_Rate']= zscore(df['Incident_Rate'])\n",
    "df['Total_Test_Results']= zscore(df['Total_Test_Results'])\n",
    "df['Case_Fatality_Ratio']= zscore(df['Case_Fatality_Ratio'])\n",
    "df['Testing_Rate']= zscore(df['Testing_Rate'])\n",
    "df['Density Rank 2020 Census']= zscore(df['Density Rank 2020 Census'])\n",
    "df['SexRatio']= zscore(df['SexRatio'])"
   ]
  },
  {
   "cell_type": "code",
   "execution_count": 33,
   "id": "d8ea8a72",
   "metadata": {},
   "outputs": [
    {
     "data": {
      "text/html": [
       "<div>\n",
       "<style scoped>\n",
       "    .dataframe tbody tr th:only-of-type {\n",
       "        vertical-align: middle;\n",
       "    }\n",
       "\n",
       "    .dataframe tbody tr th {\n",
       "        vertical-align: top;\n",
       "    }\n",
       "\n",
       "    .dataframe thead th {\n",
       "        text-align: right;\n",
       "    }\n",
       "</style>\n",
       "<table border=\"1\" class=\"dataframe\">\n",
       "  <thead>\n",
       "    <tr style=\"text-align: right;\">\n",
       "      <th></th>\n",
       "      <th>Day</th>\n",
       "      <th>State ID</th>\n",
       "      <th>Lat</th>\n",
       "      <th>Long_</th>\n",
       "      <th>Active</th>\n",
       "      <th>Incident_Rate</th>\n",
       "      <th>Total_Test_Results</th>\n",
       "      <th>Case_Fatality_Ratio</th>\n",
       "      <th>Testing_Rate</th>\n",
       "      <th>Density Rank 2020 Census</th>\n",
       "      <th>SexRatio</th>\n",
       "    </tr>\n",
       "  </thead>\n",
       "  <tbody>\n",
       "    <tr>\n",
       "      <th>count</th>\n",
       "      <td>1003.000000</td>\n",
       "      <td>1.003000e+03</td>\n",
       "      <td>1.003000e+03</td>\n",
       "      <td>1.003000e+03</td>\n",
       "      <td>1.003000e+03</td>\n",
       "      <td>1.003000e+03</td>\n",
       "      <td>1.003000e+03</td>\n",
       "      <td>1.003000e+03</td>\n",
       "      <td>1.003000e+03</td>\n",
       "      <td>1.003000e+03</td>\n",
       "      <td>1.003000e+03</td>\n",
       "    </tr>\n",
       "    <tr>\n",
       "      <th>mean</th>\n",
       "      <td>0.000000</td>\n",
       "      <td>-4.958922e-17</td>\n",
       "      <td>2.320067e-16</td>\n",
       "      <td>-2.125252e-17</td>\n",
       "      <td>-8.855219e-17</td>\n",
       "      <td>-1.983569e-16</td>\n",
       "      <td>7.792592e-17</td>\n",
       "      <td>-1.328283e-16</td>\n",
       "      <td>-2.833670e-17</td>\n",
       "      <td>-3.387121e-17</td>\n",
       "      <td>-2.503813e-16</td>\n",
       "    </tr>\n",
       "    <tr>\n",
       "      <th>std</th>\n",
       "      <td>1.000499</td>\n",
       "      <td>1.000499e+00</td>\n",
       "      <td>1.000499e+00</td>\n",
       "      <td>1.000499e+00</td>\n",
       "      <td>1.000499e+00</td>\n",
       "      <td>1.000499e+00</td>\n",
       "      <td>1.000499e+00</td>\n",
       "      <td>1.000499e+00</td>\n",
       "      <td>1.000499e+00</td>\n",
       "      <td>1.000499e+00</td>\n",
       "      <td>1.000499e+00</td>\n",
       "    </tr>\n",
       "    <tr>\n",
       "      <th>min</th>\n",
       "      <td>-1.687697</td>\n",
       "      <td>-1.832496e+00</td>\n",
       "      <td>-1.992045e+00</td>\n",
       "      <td>-2.147728e+00</td>\n",
       "      <td>-9.992958e-01</td>\n",
       "      <td>-2.637932e+00</td>\n",
       "      <td>-1.241691e+00</td>\n",
       "      <td>-2.209422e+00</td>\n",
       "      <td>-1.874305e+00</td>\n",
       "      <td>-2.166090e+00</td>\n",
       "      <td>-1.440936e+00</td>\n",
       "    </tr>\n",
       "    <tr>\n",
       "      <th>25%</th>\n",
       "      <td>-0.873758</td>\n",
       "      <td>-7.020318e-01</td>\n",
       "      <td>-9.014731e-01</td>\n",
       "      <td>-9.348427e-01</td>\n",
       "      <td>-8.015706e-01</td>\n",
       "      <td>-6.477541e-01</td>\n",
       "      <td>-8.743223e-01</td>\n",
       "      <td>-5.947375e-01</td>\n",
       "      <td>-5.669503e-01</td>\n",
       "      <td>-7.627999e-01</td>\n",
       "      <td>-6.643329e-01</td>\n",
       "    </tr>\n",
       "    <tr>\n",
       "      <th>50%</th>\n",
       "      <td>0.056458</td>\n",
       "      <td>4.508332e-03</td>\n",
       "      <td>-6.194377e-02</td>\n",
       "      <td>3.803197e-02</td>\n",
       "      <td>-4.360727e-01</td>\n",
       "      <td>1.700395e-01</td>\n",
       "      <td>-3.411554e-01</td>\n",
       "      <td>-1.347131e-01</td>\n",
       "      <td>2.167905e-02</td>\n",
       "      <td>4.963096e-02</td>\n",
       "      <td>1.122707e-01</td>\n",
       "    </tr>\n",
       "    <tr>\n",
       "      <th>75%</th>\n",
       "      <td>0.870396</td>\n",
       "      <td>7.817024e-01</td>\n",
       "      <td>9.802433e-01</td>\n",
       "      <td>8.285013e-01</td>\n",
       "      <td>5.443740e-01</td>\n",
       "      <td>6.853058e-01</td>\n",
       "      <td>7.699113e-01</td>\n",
       "      <td>2.997445e-01</td>\n",
       "      <td>7.332420e-01</td>\n",
       "      <td>8.620619e-01</td>\n",
       "      <td>5.005725e-01</td>\n",
       "    </tr>\n",
       "    <tr>\n",
       "      <th>max</th>\n",
       "      <td>1.684335</td>\n",
       "      <td>1.700205e+00</td>\n",
       "      <td>1.859258e+00</td>\n",
       "      <td>1.665308e+00</td>\n",
       "      <td>3.491370e+00</td>\n",
       "      <td>2.456483e+00</td>\n",
       "      <td>2.312047e+00</td>\n",
       "      <td>2.436978e+00</td>\n",
       "      <td>3.050324e+00</td>\n",
       "      <td>1.526778e+00</td>\n",
       "      <td>2.442081e+00</td>\n",
       "    </tr>\n",
       "  </tbody>\n",
       "</table>\n",
       "</div>"
      ],
      "text/plain": [
       "               Day      State ID           Lat         Long_        Active  \\\n",
       "count  1003.000000  1.003000e+03  1.003000e+03  1.003000e+03  1.003000e+03   \n",
       "mean      0.000000 -4.958922e-17  2.320067e-16 -2.125252e-17 -8.855219e-17   \n",
       "std       1.000499  1.000499e+00  1.000499e+00  1.000499e+00  1.000499e+00   \n",
       "min      -1.687697 -1.832496e+00 -1.992045e+00 -2.147728e+00 -9.992958e-01   \n",
       "25%      -0.873758 -7.020318e-01 -9.014731e-01 -9.348427e-01 -8.015706e-01   \n",
       "50%       0.056458  4.508332e-03 -6.194377e-02  3.803197e-02 -4.360727e-01   \n",
       "75%       0.870396  7.817024e-01  9.802433e-01  8.285013e-01  5.443740e-01   \n",
       "max       1.684335  1.700205e+00  1.859258e+00  1.665308e+00  3.491370e+00   \n",
       "\n",
       "       Incident_Rate  Total_Test_Results  Case_Fatality_Ratio  Testing_Rate  \\\n",
       "count   1.003000e+03        1.003000e+03         1.003000e+03  1.003000e+03   \n",
       "mean   -1.983569e-16        7.792592e-17        -1.328283e-16 -2.833670e-17   \n",
       "std     1.000499e+00        1.000499e+00         1.000499e+00  1.000499e+00   \n",
       "min    -2.637932e+00       -1.241691e+00        -2.209422e+00 -1.874305e+00   \n",
       "25%    -6.477541e-01       -8.743223e-01        -5.947375e-01 -5.669503e-01   \n",
       "50%     1.700395e-01       -3.411554e-01        -1.347131e-01  2.167905e-02   \n",
       "75%     6.853058e-01        7.699113e-01         2.997445e-01  7.332420e-01   \n",
       "max     2.456483e+00        2.312047e+00         2.436978e+00  3.050324e+00   \n",
       "\n",
       "       Density Rank 2020 Census      SexRatio  \n",
       "count              1.003000e+03  1.003000e+03  \n",
       "mean              -3.387121e-17 -2.503813e-16  \n",
       "std                1.000499e+00  1.000499e+00  \n",
       "min               -2.166090e+00 -1.440936e+00  \n",
       "25%               -7.627999e-01 -6.643329e-01  \n",
       "50%                4.963096e-02  1.122707e-01  \n",
       "75%                8.620619e-01  5.005725e-01  \n",
       "max                1.526778e+00  2.442081e+00  "
      ]
     },
     "execution_count": 33,
     "metadata": {},
     "output_type": "execute_result"
    }
   ],
   "source": [
    "df.describe()"
   ]
  },
  {
   "cell_type": "markdown",
   "id": "1dc29639",
   "metadata": {},
   "source": [
    "Table 3 Corrected database after removing outliers and applying zscore normalization "
   ]
  },
  {
   "cell_type": "code",
   "execution_count": 34,
   "id": "b0c40dfb",
   "metadata": {},
   "outputs": [],
   "source": [
    "df.to_csv('df-filteredfinalN.csv',index=False)"
   ]
  },
  {
   "cell_type": "markdown",
   "id": "0bf4e741",
   "metadata": {},
   "source": [
    "# Conclusion:"
   ]
  },
  {
   "cell_type": "markdown",
   "id": "ada3bb6c",
   "metadata": {},
   "source": [
    "In conclusion, the interquantile range is chosen over the z-score for outlier detection as it was more accurate in detecting outliers by accounting for the upper and lower bounds of the data by considering the 25th and 75th percentile of the features in the data.The Interquantile method was able to find even the smallest range outliers such as with the feature 'Incident Rate' which was not found with the Z-score method. The outliers are assigned a null value and are then dropped after finding them through the interquantile method. The filtered data is normalized using Min-Max normalization and then downloaded as a new csv file for the following questions."
   ]
  },
  {
   "cell_type": "markdown",
   "id": "20658185",
   "metadata": {},
   "source": [
    "# References:"
   ]
  },
  {
   "cell_type": "markdown",
   "id": "5ca52d46",
   "metadata": {},
   "source": [
    "(1) https://www.youtube.com/watch?v=rzR_cKnkD18\n",
    "\n",
    "(2) https://www.askpython.com/python/examples/detection-removal-outliers-in-python"
   ]
  }
 ],
 "metadata": {
  "kernelspec": {
   "display_name": "Python 3",
   "language": "python",
   "name": "python3"
  },
  "language_info": {
   "codemirror_mode": {
    "name": "ipython",
    "version": 3
   },
   "file_extension": ".py",
   "mimetype": "text/x-python",
   "name": "python",
   "nbconvert_exporter": "python",
   "pygments_lexer": "ipython3",
   "version": "3.9.5"
  }
 },
 "nbformat": 4,
 "nbformat_minor": 5
}
