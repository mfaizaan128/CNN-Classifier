{
 "cells": [
  {
   "cell_type": "code",
   "execution_count": 2,
   "id": "62cde837",
   "metadata": {},
   "outputs": [],
   "source": [
    "import numpy as np\n",
    "import pandas as pd \n",
    "from sklearn.model_selection import GridSearchCV,train_test_split\n",
    "from sklearn.tree import DecisionTreeClassifier\n",
    "from sklearn.metrics import accuracy_score\n",
    "import matplotlib.pyplot as plt\n",
    "from sklearn.naive_bayes import GaussianNB\n",
    "from sklearn.preprocessing import PowerTransformer \n",
    "from scipy import stats\n",
    "from sklearn.utils import shuffle \n",
    "from sklearn.inspection import permutation_importance\n",
    "\n",
    "df= pd.read_csv('df-filteredfinalN.csv')\n",
    "                \n",
    "x=df[['Day','State ID','Lat','Long_','Incident_Rate','Active','Total_Test_Results','Case_Fatality_Ratio','Testing_Rate','Density Rank 2020 Census','SexRatio']].values\n",
    "\n",
    "y=df['Confirmed'].values\n",
    "\n",
    "y1= df['Deaths'].values\n",
    "\n",
    "y2= df['Recovered'].values\n",
    "\n"
   ]
  },
  {
   "cell_type": "markdown",
   "id": "5024116f",
   "metadata": {},
   "source": [
    "The following code is presented to compare the performances of the Naive Bayes Classifer and the Decision Tree Classifier on the dataset named 'df-filteredfinalN.csv'."
   ]
  },
  {
   "cell_type": "markdown",
   "id": "6e12a9b4",
   "metadata": {},
   "source": [
    "# Naive Bayes Performance:"
   ]
  },
  {
   "cell_type": "markdown",
   "id": "dffa2cc5",
   "metadata": {},
   "source": [
    "# A. Label 1('Confirmed'):"
   ]
  },
  {
   "cell_type": "code",
   "execution_count": 4,
   "id": "4b39f5e2",
   "metadata": {},
   "outputs": [
    {
     "name": "stdout",
     "output_type": "stream",
     "text": [
      "Fitting 10 folds for each of 5 candidates, totalling 50 fits\n"
     ]
    },
    {
     "data": {
      "text/plain": [
       "Text(0, 0.5, 'Accuracy')"
      ]
     },
     "execution_count": 4,
     "metadata": {},
     "output_type": "execute_result"
    },
    {
     "data": {
      "image/png": "[encoded data removed]",
      "text/plain": [
       "<Figure size 432x288 with 1 Axes>"
      ]
     },
     "metadata": {
      "needs_background": "light"
     },
     "output_type": "display_data"
    }
   ],
   "source": [
    "\n",
    "x_train,x_test,y_train,y_test = train_test_split(x,y,test_size = 0.2, random_state = 0)\n",
    "\n",
    "params_NB= {'var_smoothing': [1e-10, 1e-9, 1e-5, 1e-3, 1e-1]}\n",
    "gs_NB= GridSearchCV(estimator= GaussianNB(), param_grid=params_NB, cv=10, verbose=1, scoring='accuracy')\n",
    "\n",
    "TransformedData= PowerTransformer().fit_transform(x_train)\n",
    "\n",
    "gs_NB.fit(TransformedData, y_train)\n",
    "\n",
    "df_score= pd.DataFrame.from_dict(gs_NB.cv_results_)\n",
    "\n",
    "var_smoothing= ['1e-10', '1e-9', '1e-5', '1e-3', '1e-1']\n",
    "\n",
    "plt.plot(var_smoothing, df_score.mean_test_score)\n",
    "\n",
    "plt.xlabel(\"Var Smoothing\")\n",
    "plt.ylabel(\"Accuracy\")"
   ]
  },
  {
   "cell_type": "markdown",
   "id": "897ec75d",
   "metadata": {},
   "source": [
    "Fig.1 Accuracy based on different smoothing parameter for Naive Bayes for the label 1 "
   ]
  },
  {
   "cell_type": "markdown",
   "id": "81d0295f",
   "metadata": {},
   "source": [
    "Initially, the data is split with 80% of the data used for training and 20% percent of the data left for testing. The data is classified using Naive Bayes Classifer with the smoothing parameter being: {1e-10, 1e-9, 1e-5, 1e-3, 1e-1}. The Naive Bayes Classifer is intialized as 'gs_NB'and the K-fold cross validation is used with k being 10 for the trees. 'GridSearchCV' is used to find the best values for the classifier. The Mean accuracy of the trained estimators is reported on a plot using the plot command from the Matplot library."
   ]
  },
  {
   "cell_type": "markdown",
   "id": "6a300d3c",
   "metadata": {},
   "source": [
    "As shown in figure 1, it is clear that by increasing smoothing parameter the Accuracy improved slightly."
   ]
  },
  {
   "cell_type": "code",
   "execution_count": 5,
   "id": "c4cc5639",
   "metadata": {},
   "outputs": [
    {
     "data": {
      "text/plain": [
       "{'var_smoothing': 0.1}"
      ]
     },
     "execution_count": 5,
     "metadata": {},
     "output_type": "execute_result"
    }
   ],
   "source": [
    "gs_NB.best_params_"
   ]
  },
  {
   "cell_type": "code",
   "execution_count": 6,
   "id": "451a30fb",
   "metadata": {},
   "outputs": [
    {
     "data": {
      "text/plain": [
       "0.9688425925925925"
      ]
     },
     "execution_count": 6,
     "metadata": {},
     "output_type": "execute_result"
    }
   ],
   "source": [
    "gs_NB.best_score_"
   ]
  },
  {
   "cell_type": "code",
   "execution_count": 7,
   "id": "0a7b63e2",
   "metadata": {},
   "outputs": [
    {
     "data": {
      "text/plain": [
       "GaussianNB(var_smoothing=0.1)"
      ]
     },
     "execution_count": 7,
     "metadata": {},
     "output_type": "execute_result"
    }
   ],
   "source": [
    "gs_NB.best_estimator_"
   ]
  },
  {
   "cell_type": "markdown",
   "id": "805f7b51",
   "metadata": {},
   "source": [
    "Therfore, the best value for smoothing parametr is 1e-1 for the label 1."
   ]
  },
  {
   "cell_type": "code",
   "execution_count": 8,
   "id": "2736b293",
   "metadata": {},
   "outputs": [
    {
     "name": "stdout",
     "output_type": "stream",
     "text": [
      "Accuracy on Test Set: 0.9601990049751243\n"
     ]
    }
   ],
   "source": [
    "classifier= GaussianNB(var_smoothing= 0.1)\n",
    "classifier.fit(x_train, y_train)\n",
    "\n",
    "predY= classifier.predict(x_test)\n",
    "\n",
    "print('Accuracy on Test Set:', accuracy_score(y_test,predY))"
   ]
  },
  {
   "cell_type": "markdown",
   "id": "2ff34fbe",
   "metadata": {},
   "source": [
    "The test accuracy reached 96.01%."
   ]
  },
  {
   "cell_type": "markdown",
   "id": "d4c47803",
   "metadata": {},
   "source": [
    "# B. Label 2('Deaths'):"
   ]
  },
  {
   "cell_type": "code",
   "execution_count": 3,
   "id": "1fd491cb",
   "metadata": {},
   "outputs": [
    {
     "name": "stdout",
     "output_type": "stream",
     "text": [
      "Fitting 10 folds for each of 5 candidates, totalling 50 fits\n"
     ]
    },
    {
     "data": {
      "text/plain": [
       "Text(0, 0.5, 'Accuracy')"
      ]
     },
     "execution_count": 3,
     "metadata": {},
     "output_type": "execute_result"
    },
    {
     "data": {
      "image/png": "[encoded data removed]",
      "text/plain": [
       "<Figure size 432x288 with 1 Axes>"
      ]
     },
     "metadata": {
      "needs_background": "light"
     },
     "output_type": "display_data"
    }
   ],
   "source": [
    "\n",
    "x_train,x_test,y_train,y_test = train_test_split(x,y1,test_size = 0.2, random_state = 0)\n",
    "\n",
    "params_NB= {'var_smoothing': [1e-10, 1e-9, 1e-5, 1e-3, 1e-1]}\n",
    "gs_NB= GridSearchCV(estimator= GaussianNB(), param_grid=params_NB, cv=10, verbose=1, scoring='accuracy')\n",
    "\n",
    "TransformedData= PowerTransformer().fit_transform(x_train)\n",
    "\n",
    "gs_NB.fit(TransformedData, y_train)\n",
    "\n",
    "df_score= pd.DataFrame.from_dict(gs_NB.cv_results_)\n",
    "\n",
    "var_smoothing= ['1e-10', '1e-9', '1e-5', '1e-3', '1e-1']\n",
    "\n",
    "plt.plot(var_smoothing, df_score.mean_test_score)\n",
    "\n",
    "plt.xlabel(\"Var Smoothing\")\n",
    "plt.ylabel(\"Accuracy\")"
   ]
  },
  {
   "cell_type": "markdown",
   "id": "fcc808b2",
   "metadata": {},
   "source": [
    "Fig. 2 Accuracy based on different smoothing parameter for Naive Bayes for the label 2"
   ]
  },
  {
   "cell_type": "markdown",
   "id": "7b60d11d",
   "metadata": {},
   "source": [
    "It is clear that by increasing smoothing parameter the Accuracy improved slightly. "
   ]
  },
  {
   "cell_type": "code",
   "execution_count": 5,
   "id": "115ecd9e",
   "metadata": {},
   "outputs": [
    {
     "data": {
      "text/plain": [
       "{'var_smoothing': 0.1}"
      ]
     },
     "execution_count": 5,
     "metadata": {},
     "output_type": "execute_result"
    }
   ],
   "source": [
    "gs_NB.best_params_"
   ]
  },
  {
   "cell_type": "code",
   "execution_count": 6,
   "id": "ca845e53",
   "metadata": {},
   "outputs": [
    {
     "data": {
      "text/plain": [
       "0.8441358024691358"
      ]
     },
     "execution_count": 6,
     "metadata": {},
     "output_type": "execute_result"
    }
   ],
   "source": [
    "gs_NB.best_score_"
   ]
  },
  {
   "cell_type": "code",
   "execution_count": 7,
   "id": "0b9fecca",
   "metadata": {},
   "outputs": [
    {
     "data": {
      "text/plain": [
       "GaussianNB(var_smoothing=0.1)"
      ]
     },
     "execution_count": 7,
     "metadata": {},
     "output_type": "execute_result"
    }
   ],
   "source": [
    "gs_NB.best_estimator_"
   ]
  },
  {
   "cell_type": "code",
   "execution_count": 8,
   "id": "b9801be9",
   "metadata": {},
   "outputs": [
    {
     "name": "stdout",
     "output_type": "stream",
     "text": [
      "Accuracy on Test Set: 0.8805970149253731\n"
     ]
    }
   ],
   "source": [
    "classifier= GaussianNB(var_smoothing= 0.1)\n",
    "classifier.fit(x_train, y_train)\n",
    "\n",
    "predY= classifier.predict(x_test)\n",
    "\n",
    "print('Accuracy on Test Set:', accuracy_score(y_test,predY))"
   ]
  },
  {
   "cell_type": "markdown",
   "id": "f586ef97",
   "metadata": {},
   "source": [
    "Therfore, the best value for smoothing parametr is 1e-1 for the label 2"
   ]
  },
  {
   "cell_type": "markdown",
   "id": "69ecc3a6",
   "metadata": {},
   "source": [
    "# C. Label 3('Recovered'):"
   ]
  },
  {
   "cell_type": "code",
   "execution_count": 10,
   "id": "3da6f3ea",
   "metadata": {},
   "outputs": [
    {
     "name": "stdout",
     "output_type": "stream",
     "text": [
      "Fitting 10 folds for each of 5 candidates, totalling 50 fits\n"
     ]
    },
    {
     "data": {
      "text/plain": [
       "Text(0, 0.5, 'Accuracy')"
      ]
     },
     "execution_count": 10,
     "metadata": {},
     "output_type": "execute_result"
    },
    {
     "data": {
      "image/png": "[encoded data removed]",
      "text/plain": [
       "<Figure size 432x288 with 1 Axes>"
      ]
     },
     "metadata": {
      "needs_background": "light"
     },
     "output_type": "display_data"
    }
   ],
   "source": [
    "x_train,x_test,y_train,y_test = train_test_split(x,y2,test_size = 0.2, random_state = 0)\n",
    "\n",
    "params_NB= {'var_smoothing': [1e-10, 1e-9, 1e-5, 1e-3, 1e-1]}\n",
    "gs_NB= GridSearchCV(estimator= GaussianNB(), param_grid=params_NB, cv=10, verbose=1, scoring='accuracy')\n",
    "\n",
    "TransformedData= PowerTransformer().fit_transform(x_train)\n",
    "\n",
    "gs_NB.fit(TransformedData, y_train)\n",
    "\n",
    "df_score= pd.DataFrame.from_dict(gs_NB.cv_results_)\n",
    "\n",
    "var_smoothing= ['1e-10', '1e-9', '1e-5', '1e-3', '1e-1']\n",
    "\n",
    "plt.plot(var_smoothing, df_score.mean_test_score)\n",
    "\n",
    "plt.xlabel(\"Var Smoothing\")\n",
    "plt.ylabel(\"Accuracy\")"
   ]
  },
  {
   "cell_type": "markdown",
   "id": "ae66c877",
   "metadata": {},
   "source": [
    "Fig. 3 Accuracy based on different smoothing parameter for Naive Bayes for the label 3"
   ]
  },
  {
   "cell_type": "markdown",
   "id": "ca21513a",
   "metadata": {},
   "source": [
    "It is clear that by increasing smoothing parameter the Accuracy went down slightly. "
   ]
  },
  {
   "cell_type": "code",
   "execution_count": 11,
   "id": "96e09ac0",
   "metadata": {},
   "outputs": [
    {
     "data": {
      "text/plain": [
       "{'var_smoothing': 1e-10}"
      ]
     },
     "execution_count": 11,
     "metadata": {},
     "output_type": "execute_result"
    }
   ],
   "source": [
    "gs_NB.best_params_"
   ]
  },
  {
   "cell_type": "code",
   "execution_count": 12,
   "id": "32ee5b81",
   "metadata": {},
   "outputs": [
    {
     "data": {
      "text/plain": [
       "0.7057716049382716"
      ]
     },
     "execution_count": 12,
     "metadata": {},
     "output_type": "execute_result"
    }
   ],
   "source": [
    "gs_NB.best_score_"
   ]
  },
  {
   "cell_type": "code",
   "execution_count": 13,
   "id": "90f35a97",
   "metadata": {},
   "outputs": [
    {
     "data": {
      "text/plain": [
       "GaussianNB(var_smoothing=1e-10)"
      ]
     },
     "execution_count": 13,
     "metadata": {},
     "output_type": "execute_result"
    }
   ],
   "source": [
    "gs_NB.best_estimator_"
   ]
  },
  {
   "cell_type": "markdown",
   "id": "0b060882",
   "metadata": {},
   "source": [
    "Therfore, the best value for smoothing parametr is 1e-10 for the label 3."
   ]
  },
  {
   "cell_type": "code",
   "execution_count": 24,
   "id": "82a72990",
   "metadata": {},
   "outputs": [
    {
     "name": "stdout",
     "output_type": "stream",
     "text": [
      "Accuracy on Test Set: 0.7014925373134329\n"
     ]
    }
   ],
   "source": [
    "classifier= GaussianNB(var_smoothing= 1e-10)\n",
    "classifier.fit(x_train, y_train)\n",
    "\n",
    "predY= classifier.predict(x_test)\n",
    "\n",
    "print('Accuracy on Test Set:', accuracy_score(y_test,predY))"
   ]
  },
  {
   "cell_type": "markdown",
   "id": "b3769a1e",
   "metadata": {},
   "source": [
    "The test accuracy reached 70.14%."
   ]
  },
  {
   "cell_type": "markdown",
   "id": "df696008",
   "metadata": {},
   "source": [
    "# Decision Tree Performance:"
   ]
  },
  {
   "cell_type": "markdown",
   "id": "257ebd15",
   "metadata": {},
   "source": [
    "# A. Label 1('Confirmed')"
   ]
  },
  {
   "cell_type": "code",
   "execution_count": 11,
   "id": "1130198d",
   "metadata": {},
   "outputs": [
    {
     "name": "stdout",
     "output_type": "stream",
     "text": [
      "Fitting 10 folds for each of 4 candidates, totalling 40 fits\n"
     ]
    },
    {
     "data": {
      "text/plain": [
       "[<matplotlib.lines.Line2D at 0x2209c8395b0>]"
      ]
     },
     "execution_count": 11,
     "metadata": {},
     "output_type": "execute_result"
    },
    {
     "data": {
      "image/png": "[encoded data removed]",
      "text/plain": [
       "<Figure size 432x288 with 1 Axes>"
      ]
     },
     "metadata": {
      "needs_background": "light"
     },
     "output_type": "display_data"
    }
   ],
   "source": [
    "decision_tree = DecisionTreeClassifier()\n",
    "param_dict = {\"max_depth\": [3,5,10,None], 'random_state':[0]}\n",
    "grid= GridSearchCV(decision_tree, param_grid=param_dict, cv=10,verbose=1,n_jobs=-1)\n",
    "grid.fit(x_train,y_train)\n",
    "max_depth=['3','5','10','None']\n",
    "plt.tight_layout()\n",
    "plt.xlabel('Max Depth')\n",
    "plt.ylabel('Mean Accuracy')\n",
    "plt.plot(max_depth,grid.cv_results_['mean_test_score'])"
   ]
  },
  {
   "cell_type": "markdown",
   "id": "73e4c86f",
   "metadata": {},
   "source": [
    "Fig. 4 Mean Accuracy based on maximum depth for Decision Tree for the label 1 "
   ]
  },
  {
   "cell_type": "markdown",
   "id": "e21f63a2",
   "metadata": {},
   "source": [
    "Initially, the data is split with 80% of the data used for training and 20% percent of the data left for testing. The data is classified using Decision trees with the maximum depth being: {3,5,10,None}(1). K-fold cross validation is used with k being 10 for the trees. 'GridSearchCV' is used to find the best values for the classifier(2). The Mean accuracy of the trained estimators is reported on a plot using the plot command from the Matplot library(3)."
   ]
  },
  {
   "cell_type": "code",
   "execution_count": 12,
   "id": "7eda0295",
   "metadata": {},
   "outputs": [
    {
     "data": {
      "text/plain": [
       "{'max_depth': 3, 'random_state': 0}"
      ]
     },
     "execution_count": 12,
     "metadata": {},
     "output_type": "execute_result"
    }
   ],
   "source": [
    "grid.best_params_"
   ]
  },
  {
   "cell_type": "code",
   "execution_count": 13,
   "id": "f99fa447",
   "metadata": {},
   "outputs": [
    {
     "data": {
      "text/plain": [
       "0.9663888888888887"
      ]
     },
     "execution_count": 13,
     "metadata": {},
     "output_type": "execute_result"
    }
   ],
   "source": [
    "grid.best_score_"
   ]
  },
  {
   "cell_type": "code",
   "execution_count": 14,
   "id": "bc908813",
   "metadata": {},
   "outputs": [
    {
     "data": {
      "text/plain": [
       "DecisionTreeClassifier(max_depth=3, random_state=0)"
      ]
     },
     "execution_count": 14,
     "metadata": {},
     "output_type": "execute_result"
    }
   ],
   "source": [
    "grid.best_estimator_ "
   ]
  },
  {
   "cell_type": "markdown",
   "id": "e46190e3",
   "metadata": {},
   "source": [
    "The best parameter for the Decision Tree Classifier is when the max-depth is 3."
   ]
  },
  {
   "cell_type": "code",
   "execution_count": 15,
   "id": "045c6e76",
   "metadata": {},
   "outputs": [
    {
     "name": "stdout",
     "output_type": "stream",
     "text": [
      "Accuracy on Test set:  0.945273631840796\n"
     ]
    }
   ],
   "source": [
    "decision_tree = DecisionTreeClassifier(max_depth=3, random_state=0)\n",
    "decision_tree.fit(x_train,y_train)\n",
    "y_pred=decision_tree.predict(x_test)\n",
    "print(\"Accuracy on Test set: \",accuracy_score(y_test,y_pred))"
   ]
  },
  {
   "cell_type": "markdown",
   "id": "063aee47",
   "metadata": {},
   "source": [
    "The accuracy of the test set for the trained classifier is approximately 94.52%."
   ]
  },
  {
   "cell_type": "markdown",
   "id": "5e884f7d",
   "metadata": {},
   "source": [
    "# B. Label 2('Deaths'):"
   ]
  },
  {
   "cell_type": "code",
   "execution_count": 14,
   "id": "4803162e",
   "metadata": {},
   "outputs": [
    {
     "name": "stdout",
     "output_type": "stream",
     "text": [
      "Fitting 10 folds for each of 4 candidates, totalling 40 fits\n"
     ]
    },
    {
     "data": {
      "text/plain": [
       "[<matplotlib.lines.Line2D at 0x1cf2bf9c9a0>]"
      ]
     },
     "execution_count": 14,
     "metadata": {},
     "output_type": "execute_result"
    },
    {
     "data": {
      "image/png": "[encoded data removed]",
      "text/plain": [
       "<Figure size 432x288 with 1 Axes>"
      ]
     },
     "metadata": {
      "needs_background": "light"
     },
     "output_type": "display_data"
    }
   ],
   "source": [
    "x=df[['Day','State ID','Lat','Long_','Incident_Rate','Active','Total_Test_Results','Case_Fatality_Ratio','Testing_Rate','Density Rank 2020 Census','SexRatio']].values\n",
    "y1=df['Deaths'].values\n",
    "x_train,x_test,y_train,y_test = train_test_split(x,y1,test_size = 0.2, random_state = 0)\n",
    "decision_tree = DecisionTreeClassifier()\n",
    "param_dict = {\"max_depth\": [3,5,10,None], 'random_state':[0]}\n",
    "grid= GridSearchCV(decision_tree, param_grid=param_dict, cv=10,verbose=1,n_jobs=-1)\n",
    "grid.fit(x_train,y_train)\n",
    "max_depth=['3','5','10','None']\n",
    "plt.tight_layout()\n",
    "plt.xlabel('Max Depth')\n",
    "plt.ylabel('Mean Accuracy')\n",
    "plt.plot(max_depth,grid.cv_results_['mean_test_score'])"
   ]
  },
  {
   "cell_type": "markdown",
   "id": "5ea5be75",
   "metadata": {},
   "source": [
    "Fig. 5 Mean Accuracy based on maximum depth for Decision Tree for the label 2"
   ]
  },
  {
   "cell_type": "code",
   "execution_count": 15,
   "id": "97c3a16a",
   "metadata": {},
   "outputs": [
    {
     "data": {
      "text/plain": [
       "{'max_depth': 3, 'random_state': 0}"
      ]
     },
     "execution_count": 15,
     "metadata": {},
     "output_type": "execute_result"
    }
   ],
   "source": [
    "grid.best_params_"
   ]
  },
  {
   "cell_type": "code",
   "execution_count": 16,
   "id": "d5f288a4",
   "metadata": {},
   "outputs": [
    {
     "data": {
      "text/plain": [
       "0.9352006172839508"
      ]
     },
     "execution_count": 16,
     "metadata": {},
     "output_type": "execute_result"
    }
   ],
   "source": [
    "grid.best_score_"
   ]
  },
  {
   "cell_type": "code",
   "execution_count": 17,
   "id": "90757fb1",
   "metadata": {},
   "outputs": [
    {
     "data": {
      "text/plain": [
       "DecisionTreeClassifier(max_depth=3, random_state=0)"
      ]
     },
     "execution_count": 17,
     "metadata": {},
     "output_type": "execute_result"
    }
   ],
   "source": [
    "grid.best_estimator_ "
   ]
  },
  {
   "cell_type": "markdown",
   "id": "85a763fe",
   "metadata": {},
   "source": [
    "The best parameter for the Decision Tree Classifier is when the max-depth is 3."
   ]
  },
  {
   "cell_type": "code",
   "execution_count": 18,
   "id": "95fb07d1",
   "metadata": {},
   "outputs": [
    {
     "name": "stdout",
     "output_type": "stream",
     "text": [
      "Accuracy on Test set:  0.9353233830845771\n"
     ]
    }
   ],
   "source": [
    "decision_tree = DecisionTreeClassifier(max_depth=3, random_state=0)\n",
    "decision_tree.fit(x_train,y_train)\n",
    "y_pred=decision_tree.predict(x_test)\n",
    "print(\"Accuracy on Test set: \",accuracy_score(y_test,y_pred))"
   ]
  },
  {
   "cell_type": "markdown",
   "id": "a656f475",
   "metadata": {},
   "source": [
    "The accuracy of the test set for the trained classifier is approximately 93.53%."
   ]
  },
  {
   "cell_type": "markdown",
   "id": "dafda31c",
   "metadata": {},
   "source": [
    "# C. Label 3('Recovered'):"
   ]
  },
  {
   "cell_type": "code",
   "execution_count": 19,
   "id": "9ec753c8",
   "metadata": {},
   "outputs": [
    {
     "name": "stdout",
     "output_type": "stream",
     "text": [
      "Fitting 10 folds for each of 4 candidates, totalling 40 fits\n"
     ]
    },
    {
     "data": {
      "text/plain": [
       "[<matplotlib.lines.Line2D at 0x1cf2bffe850>]"
      ]
     },
     "execution_count": 19,
     "metadata": {},
     "output_type": "execute_result"
    },
    {
     "data": {
      "image/png": "[encoded data removed]",
      "text/plain": [
       "<Figure size 432x288 with 1 Axes>"
      ]
     },
     "metadata": {
      "needs_background": "light"
     },
     "output_type": "display_data"
    }
   ],
   "source": [
    "x=df[['Day','State ID','Lat','Long_','Incident_Rate','Active','Total_Test_Results','Case_Fatality_Ratio','Testing_Rate','Density Rank 2020 Census','SexRatio']].values\n",
    "y2=df['Recovered'].values\n",
    "x_train,x_test,y_train,y_test = train_test_split(x,y2,test_size = 0.2, random_state = 0)\n",
    "decision_tree = DecisionTreeClassifier()\n",
    "param_dict = {\"max_depth\": [3,5,10,None], 'random_state':[0]}\n",
    "grid= GridSearchCV(decision_tree, param_grid=param_dict, cv=10,verbose=1,n_jobs=-1)\n",
    "grid.fit(x_train,y_train)\n",
    "max_depth=['3','5','10','None']\n",
    "plt.tight_layout()\n",
    "plt.xlabel('Max Depth')\n",
    "plt.ylabel('Mean Accuracy')\n",
    "plt.plot(max_depth,grid.cv_results_['mean_test_score'])"
   ]
  },
  {
   "cell_type": "markdown",
   "id": "e62e796f",
   "metadata": {},
   "source": [
    "Fig 6. Mean Accuracy based on maximum depth for Decision Tree for the label 3"
   ]
  },
  {
   "cell_type": "code",
   "execution_count": 20,
   "id": "16ee8231",
   "metadata": {},
   "outputs": [
    {
     "data": {
      "text/plain": [
       "{'max_depth': 10, 'random_state': 0}"
      ]
     },
     "execution_count": 20,
     "metadata": {},
     "output_type": "execute_result"
    }
   ],
   "source": [
    "grid.best_params_"
   ]
  },
  {
   "cell_type": "code",
   "execution_count": 21,
   "id": "d24e44d0",
   "metadata": {},
   "outputs": [
    {
     "data": {
      "text/plain": [
       "0.8851851851851851"
      ]
     },
     "execution_count": 21,
     "metadata": {},
     "output_type": "execute_result"
    }
   ],
   "source": [
    "grid.best_score_"
   ]
  },
  {
   "cell_type": "code",
   "execution_count": 22,
   "id": "aa471c4c",
   "metadata": {},
   "outputs": [
    {
     "data": {
      "text/plain": [
       "DecisionTreeClassifier(max_depth=10, random_state=0)"
      ]
     },
     "execution_count": 22,
     "metadata": {},
     "output_type": "execute_result"
    }
   ],
   "source": [
    "grid.best_estimator_ "
   ]
  },
  {
   "cell_type": "markdown",
   "id": "551dddd4",
   "metadata": {},
   "source": [
    "The best parameter for the Decision Tree Classifier is when the max-depth is 10."
   ]
  },
  {
   "cell_type": "code",
   "execution_count": 23,
   "id": "7fc68b76",
   "metadata": {},
   "outputs": [
    {
     "name": "stdout",
     "output_type": "stream",
     "text": [
      "Accuracy on Test set:  0.8507462686567164\n"
     ]
    }
   ],
   "source": [
    "decision_tree = DecisionTreeClassifier(max_depth=3, random_state=0)\n",
    "decision_tree.fit(x_train,y_train)\n",
    "y_pred=decision_tree.predict(x_test)\n",
    "print(\"Accuracy on Test set: \",accuracy_score(y_test,y_pred))"
   ]
  },
  {
   "cell_type": "markdown",
   "id": "e1040677",
   "metadata": {},
   "source": [
    "The accuracy of the test set for the trained classifier is approximately 85.07%."
   ]
  },
  {
   "cell_type": "markdown",
   "id": "362c3377",
   "metadata": {},
   "source": [
    "# Comparison:"
   ]
  },
  {
   "cell_type": "markdown",
   "id": "ed52f862",
   "metadata": {},
   "source": [
    "When comparing the Naive Bayes Classifier and the Decision Tree Classifier; the accuracy on the Test Set was greater for the first label('Confirmed') with the Naive Bayes having a two percent greater accuracy in predicting the correct values(96.02% >94.2%).\n",
    "\n",
    "But, the Naive Bayes performed less accurately and very poorly with second and third labels 'Deaths' and 'Recovered' respectively. The accuracy score was at approximately 88.1% for the second label and 70.5% for third label. The Decision Tree Classifier performed better with accuracy scores of approximately 93.5% and 85.1% for label 2 and label 3 respectively.\n",
    "\n",
    "Decision tree vs naive Bayes(4):\n",
    "Decision tree is a discriminative model, whereas Naive bayes is a generative model.\n",
    "Decision trees are more flexible and easy.\n",
    "Decision tree pruning may neglect some key values in training data, which can lead the accuracy for a toss."
   ]
  },
  {
   "cell_type": "markdown",
   "id": "6bdcf290",
   "metadata": {},
   "source": [
    "# Refrences:"
   ]
  },
  {
   "cell_type": "markdown",
   "id": "2603c257",
   "metadata": {},
   "source": [
    "(1) https://scikit-learn.org/stable/modules/generated/sklearn.tree.DecisionTreeClassifier.html\n",
    "\n",
    "(2) https://scikit-learn.org/stable/modules/generated/sklearn.model_selection.GridSearchCV.html\n",
    "\n",
    "(3) https://matplotlib.org/stable/api/_as_gen/matplotlib.pyplot.html\n",
    "\n",
    "(4) https://towardsdatascience.com/comparative-study-on-classic-machine-learning-algorithms-24f9ff6ab222"
   ]
  }
 ],
 "metadata": {
  "kernelspec": {
   "display_name": "Python 3",
   "language": "python",
   "name": "python3"
  },
  "language_info": {
   "codemirror_mode": {
    "name": "ipython",
    "version": 3
   },
   "file_extension": ".py",
   "mimetype": "text/x-python",
   "name": "python",
   "nbconvert_exporter": "python",
   "pygments_lexer": "ipython3",
   "version": "3.9.5"
  }
 },
 "nbformat": 4,
 "nbformat_minor": 5
}
